{
 "cells": [
  {
   "cell_type": "markdown",
   "metadata": {},
   "source": [
    "# Integrating the Michaelis-Menten Rate Law\n",
    "\n",
    "Some rate laws are not easily integrated without very advanced mathematics. For example, below is the rate law for an enzyme catalyzed reaction (the famous Michaelis-Menten equation) and its analytical intergrated form...\n",
    "\n",
    "$$-\\frac{d[S]}{dt} = V_{max}\\frac{[S]}{K_M + [S]} $$\n",
    "\n",
    "$$-\\int_{[S]_0}^{[S]t}\\frac{K_M + [S]}{[S]}{d[S]} = \\int_{0}^{t}V_{max}dt   $$\n",
    "\n",
    "\n",
    "$$ [S]_t = K_M \\cdot {W}(\\frac{[S]_0}{K_M} e^{\\frac{[S]_0-V_{max}t}{K_M}}) $$\n",
    "\n",
    "...where '$W$' is the Lambert function. The Lambert function is defined as a function satisfying $W(z)e^{W(z)} = z$\n",
    "\n",
    "## Symbolic Integration\n",
    "\n",
    "Let us attempt to solve the differential equation for the Michaelis-Menten equation. As before we will define the reaction progress as the amount of substrate consumed, $x$. We can then say that...\n",
    "\n",
    "$$ [S] = [S]_0 - x $$\n",
    "\n",
    "This enables us to solve the differential equation for x.\n",
    "\n",
    "$$-\\frac{d}{dt}([S]_0 - x) = V_{max}\\frac{[S]_0 - x}{K_M + [S]_0 - x} $$\n",
    "\n",
    "$$\\frac{dx}{dt} = V_{max}\\frac{[S]_0 - x}{K_M + [S]_0 - x} $$\n",
    "\n",
    "Now we will apply the integration..\n",
    "\n",
    "$$-\\int_{0}^{x_t}\\frac{K_M + [S]_0 - x}{[S]_0 - x}{dx} = \\int_{0}^{t}V_{max}dt   $$\n",
    "\n",
    "I have no skills to even begin to approach solving this integration. Fortunately *SymPy* will do it for me (I hope). Try the code below.\n"
   ]
  },
  {
   "cell_type": "code",
   "execution_count": 11,
   "metadata": {
    "tags": [
     "hide-input"
    ]
   },
   "outputs": [
    {
     "name": "stdout",
     "output_type": "stream",
     "text": [
      "The initial differential equation is...\n"
     ]
    },
    {
     "data": {
      "text/latex": [
       "$\\displaystyle \\frac{d}{d t} \\left(- S_{t}\\right) = \\frac{S_{t} V_{max}}{K_{M} + S_{t}}$"
      ],
      "text/plain": [
       "Eq(Derivative(-S_t, t), S_t*V_{max}/(K_M + S_t))"
      ]
     },
     "metadata": {},
     "output_type": "display_data"
    },
    {
     "name": "stdout",
     "output_type": "stream",
     "text": [
      "After substituting the differential equation is...\n"
     ]
    },
    {
     "data": {
      "text/latex": [
       "$\\displaystyle \\frac{\\partial}{\\partial t} \\left(- S_{0} + x_{t}{\\left(t \\right)}\\right) = \\frac{V_{max} \\left(S_{0} - x_{t}{\\left(t \\right)}\\right)}{K_{M} + S_{0} - x_{t}{\\left(t \\right)}}$"
      ],
      "text/plain": [
       "Eq(Derivative(-S_0 + x_t(t), t), V_{max}*(S_0 - x_t(t))/(K_M + S_0 - x_t(t)))"
      ]
     },
     "metadata": {},
     "output_type": "display_data"
    },
    {
     "name": "stdout",
     "output_type": "stream",
     "text": [
      "The integrated equation starting at x=0 when t=0 is...\n"
     ]
    },
    {
     "data": {
      "text/latex": [
       "$\\displaystyle x_{t}{\\left(t \\right)} = - K_{M} W\\left(- \\frac{e^{\\frac{K_{M} \\log{\\left(- S_{0} \\right)} + S_{0} - V_{max} t}{K_{M}}}}{K_{M}}\\right) + S_{0}$"
      ],
      "text/plain": [
       "Eq(x_t(t), -K_M*LambertW(-exp((K_M*log(-S_0) + S_0 - V_{max}*t)/K_M)/K_M) + S_0)"
      ]
     },
     "metadata": {},
     "output_type": "display_data"
    }
   ],
   "source": [
    "import sympy as sym\n",
    "\n",
    "t = sym.symbols('t')           ### create x as a 'symbol', not a variable\n",
    "Vmax = sym.symbols('V_{max}')  ### create k as a 'symbol'\n",
    "St = sym.symbols('S_t')        ### create At as a 'symbol'\n",
    "S0 = sym.symbols('S_0')        ### create A0 as a 'symbol'\n",
    "KM = sym.symbols('K_M')\n",
    "\n",
    "xt = sym.Function('x_t')       ### create x as a 'function', not a variable\n",
    "\n",
    "lhs = sym.Derivative(-St, t)   ### Using Derivative function to get differential of A(t) w.r.t. t\n",
    "                               ### could not used At.diff(t) because At is not a function \n",
    "rhs = Vmax*(St/(KM+St))\n",
    "\n",
    "diffeq = sym.Eq(lhs, rhs)      ### create a sympy equation\n",
    "print(\"The initial differential equation is...\")\n",
    "display(diffeq)                ### display that equation\n",
    "\n",
    "diffeq = diffeq.subs({St: (S0 - xt(t))})\n",
    "\n",
    "print(\"After substituting the differential equation is...\")\n",
    "display(diffeq)                ### display that equation\n",
    "\n",
    "\n",
    "print(\"The integrated equation starting at x=0 when t=0 is...\")\n",
    "res = sym.dsolve(diffeq, ics={xt(0): 0})    ### Solve the differential equation. \n",
    "                                            ### Initial condition is x(t) = 0 when t = 0\n",
    "display(res)"
   ]
  },
  {
   "cell_type": "markdown",
   "metadata": {},
   "source": [
    "### Wow!\n",
    "\n",
    "Wow! It worked! We now have an equation for the value of $x$ as a function of $t$. As before, we can replace the rhs of the equation with the expression for $x_t$. In the code above we had stated that...\n",
    "\n",
    "$$ [S]_t = [S]_0 - x_t(t) $$\n",
    "\n",
    "...and so we know that...\n",
    "\n",
    "$$ x_t(t) = [S]_0 - [S]_t $$\n",
    "\n",
    "Let us substitute this into the integrated rate equation using the code below...\n"
   ]
  },
  {
   "cell_type": "code",
   "execution_count": 12,
   "metadata": {
    "tags": [
     "hide-input"
    ]
   },
   "outputs": [
    {
     "data": {
      "text/latex": [
       "$\\displaystyle S_{0} - S_{t} = - K_{M} W\\left(- \\frac{e^{\\frac{K_{M} \\log{\\left(- S_{0} \\right)} + S_{0} - V_{max} t}{K_{M}}}}{K_{M}}\\right) + S_{0}$"
      ],
      "text/plain": [
       "Eq(S_0 - S_t, -K_M*LambertW(-exp((K_M*log(-S_0) + S_0 - V_{max}*t)/K_M)/K_M) + S_0)"
      ]
     },
     "metadata": {},
     "output_type": "display_data"
    },
    {
     "data": {
      "text/latex": [
       "$\\displaystyle S_{0} - S_{t} = - K_{M} W\\left(\\frac{S_{0} e^{\\frac{S_{0} - V_{max} t}{K_{M}}}}{K_{M}}\\right) + S_{0}$"
      ],
      "text/plain": [
       "Eq(S_0 - S_t, -K_M*LambertW(S_0*exp((S_0 - V_{max}*t)/K_M)/K_M) + S_0)"
      ]
     },
     "metadata": {},
     "output_type": "display_data"
    }
   ],
   "source": [
    "### substitute x for So - St\n",
    "eq = res.subs(xt(t), S0-St)\n",
    "display(eq)\n",
    "\n",
    "### Simplify the result\n",
    "eq = sym.simplify(eq)\n",
    "display(eq)"
   ]
  },
  {
   "cell_type": "markdown",
   "metadata": {},
   "source": [
    "SymPy did not fully simplify. Let us finish manually."
   ]
  },
  {
   "cell_type": "code",
   "execution_count": 13,
   "metadata": {
    "tags": [
     "hide-input"
    ]
   },
   "outputs": [
    {
     "data": {
      "text/latex": [
       "$\\displaystyle S_{t} = K_{M} W\\left(\\frac{S_{0} e^{\\frac{S_{0} - V_{max} t}{K_{M}}}}{K_{M}}\\right)$"
      ],
      "text/plain": [
       "Eq(S_t, K_M*LambertW(S_0*exp((S_0 - V_{max}*t)/K_M)/K_M))"
      ]
     },
     "metadata": {},
     "output_type": "display_data"
    }
   ],
   "source": [
    "### Subtract S0 from both sides of the equation\n",
    "eq = sym.Eq(eq.lhs - S0, eq.rhs - S0)\n",
    "\n",
    "### take the negative of both sides of the equation \n",
    "eq = sym.Eq(-eq.lhs, -eq.rhs)\n",
    "\n",
    "display(eq)"
   ]
  },
  {
   "cell_type": "markdown",
   "metadata": {},
   "source": [
    "## Plot with *SymPy*\n",
    "\n",
    "We can plot the function, strange Lambert functiona and all, using `sympy.plotting.plot()`. Consider the code below. Try different substrate consentrations and not the shape of the curve. You may have to change the plot limits as you go."
   ]
  },
  {
   "cell_type": "code",
   "execution_count": 14,
   "metadata": {
    "tags": [
     "hide-input",
     "hide-output"
    ]
   },
   "outputs": [
    {
     "name": "stdout",
     "output_type": "stream",
     "text": [
      "The integrated rate law for the MM equation\n"
     ]
    },
    {
     "data": {
      "text/latex": [
       "$\\displaystyle S_{t} = K_{M} W\\left(\\frac{S_{0} e^{\\frac{S_{0} - V_{max} t}{K_{M}}}}{K_{M}}\\right)$"
      ],
      "text/plain": [
       "Eq(S_t, K_M*LambertW(S_0*exp((S_0 - V_{max}*t)/K_M)/K_M))"
      ]
     },
     "metadata": {},
     "output_type": "display_data"
    },
    {
     "name": "stdout",
     "output_type": "stream",
     "text": [
      "The expression that describes A(t) is...\n"
     ]
    },
    {
     "data": {
      "text/latex": [
       "$\\displaystyle S_{t} = 0.005 W\\left(220264.657948067 e^{- 0.02 t}\\right)$"
      ],
      "text/plain": [
       "Eq(S_t, 0.005*LambertW(220264.657948067*exp(-0.02*t)))"
      ]
     },
     "metadata": {},
     "output_type": "display_data"
    },
    {
     "data": {
      "image/png": "[encoded data removed]",
      "text/plain": [
       "<Figure size 400x300 with 1 Axes>"
      ]
     },
     "metadata": {},
     "output_type": "display_data"
    }
   ],
   "source": [
    "E_conc = 1e-6\n",
    "KM_value = 0.005          ### set KM value\n",
    "kcat_value = 1E2     ### set Vmax value\n",
    "S0_value = .05         ### set initial substrate concentration value\n",
    "\n",
    "Vmax_value = E_conc * kcat_value\n",
    "\n",
    "time_end = 1200          ### The end time\n",
    "n_points = 100        ### number of points - increase if needed\n",
    "\n",
    "xmax = time_end       ### change these as you wish\n",
    "ymax = S0_value\n",
    "\n",
    "print(\"The integrated rate law for the MM equation\")\n",
    "display(eq)                         \n",
    "\n",
    "St_expr = eq.rhs.subs({KM: KM_value,       ### substitute the values into the expression\n",
    "                       Vmax: Vmax_value, \n",
    "                       S0:S0_value})\n",
    "\n",
    "print(\"The expression that describes A(t) is...\")\n",
    "display(sym.Eq(St,St_expr))               ### The expression now has only one variable, t       \n",
    "\n",
    "p = sym.plotting.plot(St_expr, (t,0,time_end),\n",
    "                    line_color='black', \n",
    "                    title='MM reaction Plot',\n",
    "                    xlabel = r\"$t\\;/\\;s$\",\n",
    "                    ylabel = r\"$[S] \\; / \\; mole\\,L^{-1}$\",\n",
    "                    axis = True,\n",
    "                    xlim = (0, xmax),\n",
    "                    ylim = (0, ymax),\n",
    "                    size = (4,3),\n",
    "                    show = False\n",
    ")\n",
    "p.save(\"test.pdf\")\n",
    "p.show()\n"
   ]
  },
  {
   "cell_type": "markdown",
   "metadata": {},
   "source": [
    "## Make It a Function\n",
    "\n",
    "Let us now take this analytical integration of the Michaelis-Menten equation and convert it to a function as we have done previously. Then we can create a set of $x$ and $y$ values and plot the value of the substrate concentration, $[S]$, over time, $t$."
   ]
  },
  {
   "cell_type": "code",
   "execution_count": 15,
   "metadata": {
    "tags": [
     "hide-input",
     "hide-output"
    ]
   },
   "outputs": [
    {
     "name": "stdout",
     "output_type": "stream",
     "text": [
      "The integrated rate law for the MM equation\n"
     ]
    },
    {
     "data": {
      "text/latex": [
       "$\\displaystyle S_{t} = K_{M} W\\left(\\frac{S_{0} e^{\\frac{S_{0} - V_{max} t}{K_{M}}}}{K_{M}}\\right)$"
      ],
      "text/plain": [
       "Eq(S_t, K_M*LambertW(S_0*exp((S_0 - V_{max}*t)/K_M)/K_M))"
      ]
     },
     "metadata": {},
     "output_type": "display_data"
    },
    {
     "data": {
      "image/png": "[encoded data removed]",
      "text/plain": [
       "<Figure size 400x300 with 1 Axes>"
      ]
     },
     "metadata": {},
     "output_type": "display_data"
    }
   ],
   "source": [
    "from matplotlib import pyplot as plt\n",
    "import numpy as np\n",
    "\n",
    "print(\"The integrated rate law for the MM equation\")\n",
    "display(eq)                         \n",
    "\n",
    "##########################\n",
    "### Set up parameters\n",
    "##########################\n",
    "\n",
    "E_conc = 1e-6\n",
    "KM_value = 0.005          ### set KM value\n",
    "kcat_value = 1E2     ### set Vmax value\n",
    "S0_value = .05         ### set initial substrate concentration value\n",
    "\n",
    "Vmax_value = E_conc * kcat_value\n",
    "\n",
    "time_end = 1200          ### The end time\n",
    "n_points = 100        ### number of points - increase if needed\n",
    "\n",
    "xmax = time_end       ### change these as you wish\n",
    "ymax = S0_value\n",
    "\n",
    "##########################\n",
    "### create function \n",
    "##########################\n",
    "\n",
    "f = sym.lambdify([t,S0, KM, Vmax], eq.rhs)   ### create function in terms of t, S0, KM and Vmax\n",
    "\n",
    "##########################\n",
    "### calculate x and y data\n",
    "##########################\n",
    "\n",
    "t_line = np.linspace(0,time_end,n_points)       ### the time points\n",
    "\n",
    "x = t_line                                      ### I always plot x and y so I can more easily reuse plotting code\n",
    "y = f(t_line, S0_value, KM_value, Vmax_value)   ### Calculate y according to the function\n",
    "y = np.real(y)                                  ### the Lambert function produces imaginary numbers. Use on the real component\n",
    "\n",
    "##########################\n",
    "### plot x and y data\n",
    "##########################\n",
    "\n",
    "plt.rcdefaults()     ### resets the plot defaults so we always start in the same place\n",
    "fig, ax = plt.subplots(nrows=1, ncols=1, figsize=(4,3))  \n",
    "\n",
    "ax.plot( x, y,\n",
    "         linestyle = '-',            ### use a line between points\n",
    "         linewidth='0.5',            ### make the line thin\n",
    "         color = 'black',            ### the line is black\n",
    "         zorder = 0                  ### everything is in layer 0 (the bottom layer in this case)\n",
    "        )\n",
    "ax.set( xlabel= r\"$t\\;/\\;s$\", \n",
    "        ylabel=r\"$[S] \\; / \\; mole\\,L^{-1}$\",\n",
    "        title = \"MM Reaction\",\n",
    "        xlim=[0.00, xmax],                  \n",
    "        ylim=[-0.001, ymax]      \n",
    "       )\n",
    "\n",
    "ax.spines[['top','right','bottom','left']].set_visible(False)   ### Make all spines invisible\n",
    "ax.spines[['left','bottom']].set_position(('axes',-0.05))   ### space spines a little away from 'axes' (plot box)\n",
    "\n",
    "#########################################\n",
    "### Output the plot\n",
    "#########################################\n",
    "\n",
    "plt.savefig(\"plot.pdf\", bbox_inches='tight')     ### export the plot as this\n",
    "plt.show() "
   ]
  },
  {
   "cell_type": "markdown",
   "metadata": {},
   "source": [
    "## Curve Fit to the Analytical Function\n",
    "\n",
    "We now have a function that was created from the *SymPy* analytical integration of our rate law for Michaelis-Menten kinetics. We can curve fit this function against experimental data and get the parameters for $K_M$ and $V_{max}$ from a single experiment where we measure the concentration of product over time.\n",
    "\n",
    "However the Lambert function that is built in to our integration will return complex numbers ($n+ij$) and the `scipy.optimize.curve_fit()` function cannot accept complex numbers. There may be ways around this within *SciPy* but my hasty web search directed me to a project called *LMFit* (More information can be [found here](https://lmfit.github.io/lmfit-py/))"
   ]
  },
  {
   "cell_type": "code",
   "execution_count": 16,
   "metadata": {
    "tags": [
     "hide-input"
    ]
   },
   "outputs": [],
   "source": [
    "from scipy.optimize import curve_fit \n",
    "\n",
    "#param, cov = curve_fit(f,x,y)      ### uncomment this and watch it explode"
   ]
  },
  {
   "cell_type": "markdown",
   "metadata": {},
   "source": [
    "### Using *LMFit*\n",
    "\n",
    "The *LMFit* library is built on top of *SciPy*. It has a number of improvements to the methods that *SciPy* uses to perform least-squares fits to curves. It is not part of the standard library and will have to be installed in Google Colab.\n",
    "\n",
    "Examine the code below where we fit the reaction data to the function that represents the integrated equation."
   ]
  },
  {
   "cell_type": "code",
   "execution_count": 17,
   "metadata": {
    "tags": [
     "hide-input"
    ]
   },
   "outputs": [
    {
     "name": "stdout",
     "output_type": "stream",
     "text": [
      "[[Model]]\n",
      "    Model(_lambdifygenerated)\n",
      "[[Fit Statistics]]\n",
      "    # fitting method   = leastsq\n",
      "    # function evals   = 47\n",
      "    # data points      = 16\n",
      "    # variables        = 3\n",
      "    chi-square         = 0.00537412\n",
      "    reduced chi-square = 4.1339e-04\n",
      "    Akaike info crit   = -121.979986\n",
      "    Bayesian info crit = -119.662220\n",
      "    R-squared          = 0.99894078\n",
      "[[Variables]]\n",
      "    S_0:    2.50462763 +/- 0.02024944 (0.81%) (init = 1)\n",
      "    K_M:    1.46261768 +/- 0.23720238 (16.22%) (init = 1)\n",
      "    V_max:  5.12188074 +/- 0.45682722 (8.92%) (init = 1)\n",
      "[[Correlations]] (unreported correlations are < 0.100)\n",
      "    C(K_M, V_max) = +0.9891\n",
      "    C(S_0, V_max) = +0.3440\n",
      "    C(S_0, K_M)   = +0.2560\n"
     ]
    }
   ],
   "source": [
    "#!pip install lmfit  ### uncomment to install if needed\n",
    "\n",
    "import lmfit         ### must be installed with !pip install lmfit\n",
    "                     ### uncertainties will be installed as a dependancy\n",
    "                     ### for docs see https://lmfit.github.io/lmfit-py/\n",
    "\n",
    "\n",
    "##########################\n",
    "### experimental data \n",
    "##########################\n",
    "\n",
    "time = np.array([0, 30, 45, 60, 75, 90, 105, 120])  ### the time points(every 15 seconds)\n",
    "time = time/60                                       ### convert to minutes\n",
    "\n",
    "#conc = [2.50, 1.09, 0.62, 0.31, 0.14, 0.065, 0.019, 0.016]   ### measured concentration of substrate (less error)\n",
    "#conc = [2.50, 1.10, 0.62, 0.31, 0.15, 0.062, 0.042, 0.014]   ### measured concentration of substrate (more error)\n",
    "conc = [2.50, 1.15, 0.61, 0.33, 0.17, 0.052, 0.081, 0.021]   ### measured concentration of substrate (even more error)\n",
    "\n",
    "\n",
    "\n",
    "##########################\n",
    "### create function \n",
    "##########################\n",
    "\n",
    "f = sym.lambdify([t, S0, KM, Vmax], eq.rhs)   ### create function in terms of t, S0, KM and Vmax\n",
    "\n",
    "\n",
    "##########################\n",
    "### use lmfit to fit data to function \n",
    "##########################\n",
    "\n",
    "mod = lmfit.Model(f)                            # load the function f as the model to be fit\n",
    "pars = mod.make_params(S_0=1, K_M=1, V_max=1)   # state the parameters (use the text strings that we used above in sympy)\n",
    "                                                # initial values are also set here\n",
    "\n",
    "result = mod.fit(conc, pars, t=time)            # use the .fit method on the model object to perform the curve fit\n",
    "                                                # the variable in this function is 't' so we must use that in the call\n",
    "##########################\n",
    "### get the results \n",
    "##########################\n",
    "\n",
    "print(result.fit_report())\n",
    "\n",
    "S0_fit = result.uvars['S_0']         ### collect parameters as uncertain values\n",
    "KM_fit = result.uvars['K_M']\n",
    "Vmax_fit = result.uvars['V_max']\n",
    "\n",
    "\n",
    "# Explore some other ways to extract results by uncommenting the code below\n",
    "\n",
    "# print(result.var_names)\n",
    "# display(result.params)\n",
    "# print(result.covar)\n",
    "# print(result.params['S_0'].stderr)\n",
    "# print(result.rsquared)\n",
    "\n",
    "# print(Vmax_fit.nominal_value)   ### access components of uncertain values\n",
    "# print(Vmax_fit.std_dev)\n"
   ]
  },
  {
   "cell_type": "markdown",
   "metadata": {},
   "source": [
    "### Plot the Fit Against Data\n",
    "\n",
    "Below we will steal the code for plotting data against a curve fit and change it to use our function and data. Let's go."
   ]
  },
  {
   "cell_type": "code",
   "execution_count": 18,
   "metadata": {
    "tags": [
     "hide-input",
     "hide-output"
    ]
   },
   "outputs": [
    {
     "data": {
      "image/png": "[encoded data removed]",
      "text/plain": [
       "<Figure size 400x300 with 1 Axes>"
      ]
     },
     "metadata": {},
     "output_type": "display_data"
    },
    {
     "name": "stdout",
     "output_type": "stream",
     "text": [
      "The Vmax is 5.122+/-0.457\n",
      "The KM is 1.463+/-0.237\n",
      "Initial conc is calculated to be 2.505+/-0.020\n"
     ]
    }
   ],
   "source": [
    "from matplotlib import pyplot as plt   ### load in the plotting tools from the MatPlotLib package\n",
    "from scipy.optimize import curve_fit   ### load in the curve_fit function from the SciPy package\n",
    "import numpy as np\n",
    "\n",
    "#########################################\n",
    "### Set up the data lists\n",
    "#########################################\n",
    "\n",
    "x = time\n",
    "y = conc\n",
    "\n",
    "\n",
    "#########################################\n",
    "### Make a line using the calculate slope and intercept\n",
    "#########################################\n",
    "\n",
    "S0_value =  S0_fit.nominal_value\n",
    "KM_value = KM_fit.nominal_value\n",
    "Vmax_value = Vmax_fit.nominal_value \n",
    "\n",
    "\n",
    "max_x = np.max(x)                   ### obtain the maximum x value\n",
    "x_fit = np.linspace(0, max_x, 100)  ### Make an array of 100 points between zero and the max x value\n",
    "\n",
    "y_fit = f(x_fit, S0_value, KM_value, Vmax_value)     ### calculate the y values using the function that we curve fit\n",
    "y_fit = np.real(y_fit)                                ### keep only the real numbers\n",
    "\n",
    "#########################################\n",
    "### Make a figure onject that contains a single axis object\n",
    "### the pyplot.subplots command will ctraete these two objects\n",
    "#########################################\n",
    "\n",
    "plt.rcdefaults()                    ### resets the plot defaults so we always start in the same place\n",
    "fig, ax = plt.subplots(nrows=1, ncols=1, figsize=(4,3))  \n",
    "\n",
    "#########################################\n",
    "### Plot the line using the x_fit, y_fit points\n",
    "#########################################\n",
    "\n",
    "ax.plot(x_fit, y_fit, \n",
    "        linestyle = '-',            ### use a line between points\n",
    "        linewidth='0.5',            ### make the line thin\n",
    "        color = 'black',            ### the line is black\n",
    "        zorder = 0                  ### everything is in layer 0 (the bottom layer in this case)\n",
    "        )\n",
    "\n",
    "#########################################\n",
    "### Plot the data with style\n",
    "#########################################\n",
    "\n",
    "ax.scatter(x, y, \n",
    "        marker='o',                 ### Plot the x and y data \n",
    "        color='white',              ### markers are this color\n",
    "        edgecolors = 'black',       ### outline of markers is this color\n",
    "        linewidths = 0.5,           ### outline of markers is this wide\n",
    "        s=32,                       ### \"s\" is \"size\". sqrt(64) = 8 points wide\n",
    "        zorder = 2                  ### everything is in layer 1 (the top layer in this case)\n",
    "        )\n",
    "\n",
    "\n",
    "#########################################\n",
    "### Add more style\n",
    "#########################################\n",
    "\n",
    "ax.set(ylabel=r\"$[S]\\; /\\; mmole\\'L^{-1}$\", \n",
    "        xlabel=r\"$time\\; /\\; min$\",\n",
    "        title = \"Michaelis-Menten Reaction\",\n",
    "        xlim=[-0.1, None],                  \n",
    "        ylim=[-0.1, None]      \n",
    "      )\n",
    "\n",
    "ax.spines[['top','right','bottom','left']].set_visible(False)   ### Make all spines invisible\n",
    "#ax.spines[['left','bottom']].set_position(('axes',-0.05))   ### space spines a little away from 'axes' (plot box)\n",
    "\n",
    "#########################################\n",
    "### Output the plot\n",
    "#########################################\n",
    "\n",
    "plt.savefig(\"plot.pdf\", bbox_inches='tight')     ### export the plot as this\n",
    "plt.show()                                       ### display the plot in this notebook\n",
    "\n",
    "print(f\"The Vmax is {Vmax_fit:0.3f}\")\n",
    "print(f\"The KM is {KM_fit:0.3f}\")                   ### display the plot in this notebook\n",
    "print(f\"Initial conc is calculated to be {S0_fit:0.3f}\")"
   ]
  },
  {
   "cell_type": "markdown",
   "metadata": {},
   "source": [
    "## Plotting Data with Fixed $[S]_0$\n",
    "\n",
    "We prpobably know the initial concentration of substrate.  In the experiment above it was included in the data set at time zero but was still allowed to be calculated as a parameter in the curve fit. More parameters results in more degrees of freedom and can increase errors in the fitted parameters.\n",
    "\n",
    "The code below sets up the function with a set initial value for $[S]_0$ and only fits for the two parameters of $K_M$ and $V_{max}$. "
   ]
  },
  {
   "cell_type": "code",
   "execution_count": 19,
   "metadata": {
    "tags": [
     "hide-input",
     "hide-output"
    ]
   },
   "outputs": [
    {
     "name": "stdout",
     "output_type": "stream",
     "text": [
      "[[Model]]\n",
      "    Model(_lambdifygenerated)\n",
      "[[Fit Statistics]]\n",
      "    # fitting method   = leastsq\n",
      "    # function evals   = 38\n",
      "    # data points      = 14\n",
      "    # variables        = 2\n",
      "    chi-square         = 0.00539584\n",
      "    reduced chi-square = 4.4965e-04\n",
      "    Akaike info crit   = -106.056578\n",
      "    Bayesian info crit = -104.778463\n",
      "    R-squared          = 0.99465558\n",
      "[[Variables]]\n",
      "    K_M:    1.44955950 +/- 0.23681684 (16.34%) (init = 1)\n",
      "    V_max:  5.08759004 +/- 0.44252445 (8.70%) (init = 1)\n",
      "[[Correlations]] (unreported correlations are < 0.100)\n",
      "    C(K_M, V_max) = +0.9927\n"
     ]
    },
    {
     "data": {
      "image/png": "[encoded data removed]",
      "text/plain": [
       "<Figure size 400x300 with 1 Axes>"
      ]
     },
     "metadata": {},
     "output_type": "display_data"
    },
    {
     "name": "stdout",
     "output_type": "stream",
     "text": [
      "The Vmax is 5.088+/-0.443\n",
      "The KM is 1.450+/-0.237\n"
     ]
    }
   ],
   "source": [
    "#!pip install lmfit  ### uncomment to install if needed\n",
    "\n",
    "import lmfit         ### must be installed with !pip install lmfit\n",
    "                     ### uncertainties will be installed as a dependancy\n",
    "                     ### for docs see https://lmfit.github.io/lmfit-py/\n",
    "\n",
    "\n",
    "##########################\n",
    "### experimental data \n",
    "##########################\n",
    "\n",
    "init_S_conc = 2.5\n",
    "\n",
    "time = np.array([30, 45, 60, 75, 90, 105, 120])  ### the time points(every 15 seconds)\n",
    "time = time/60                                       ### convert to minutes\n",
    "\n",
    "#conc = [1.09, 0.62, 0.31, 0.14, 0.065, 0.019, 0.016]   ### measured concentration of substrate (less error)\n",
    "#conc = [1.10, 0.62, 0.31, 0.15, 0.062, 0.042, 0.014]   ### measured concentration of substrate (more error)\n",
    "conc = [1.15, 0.61, 0.33, 0.17, 0.052, 0.081, 0.021]   ### measured concentration of substrate (even more error)\n",
    "\n",
    "\n",
    "\n",
    "##########################\n",
    "### create function \n",
    "##########################\n",
    "\n",
    "expr = eq.rhs.subs(S0, init_S_conc)     ### substitute S0 for the value of init_S_conc\n",
    "f = sym.lambdify([t, KM, Vmax], expr)   ### create function in terms of t, S0, KM and Vmax\n",
    "\n",
    "\n",
    "##########################\n",
    "### use lmfit to fit data to function \n",
    "##########################\n",
    "\n",
    "mod = lmfit.Model(f)                            # load the function f as the model to be fit\n",
    "pars = mod.make_params(S_0=1, K_M=1, V_max=1)   # state the parameters (use the text strings that we used above in sympy)\n",
    "                                                # initial values are also set here\n",
    "\n",
    "result = mod.fit(conc, pars, t=time)            # use the .fit method on the model object to perform the curve fit\n",
    "                                                # the variable in this function is 't' so we must use that in the call\n",
    "##########################\n",
    "### get the results \n",
    "##########################\n",
    "\n",
    "print(result.fit_report())\n",
    "\n",
    "KM_fit = result.uvars['K_M']       ### collect parameters as uncertain values\n",
    "Vmax_fit = result.uvars['V_max']\n",
    "\n",
    "from matplotlib import pyplot as plt   ### load in the plotting tools from the MatPlotLib package\n",
    "from scipy.optimize import curve_fit   ### load in the curve_fit function from the SciPy package\n",
    "import numpy as np\n",
    "\n",
    "#########################################\n",
    "### Set up the data lists\n",
    "#########################################\n",
    "\n",
    "x = time\n",
    "y = conc\n",
    "\n",
    "\n",
    "#########################################\n",
    "### Make a line using the calculate slope and intercept\n",
    "#########################################\n",
    "\n",
    "S0_value =  S0_fit.nominal_value\n",
    "KM_value = KM_fit.nominal_value\n",
    "Vmax_value = Vmax_fit.nominal_value \n",
    "\n",
    "\n",
    "max_x = np.max(x)                   ### obtain the maximum x value\n",
    "x_fit = np.linspace(0, max_x, 100)  ### Make an array of 100 points between zero and the max x value\n",
    "\n",
    "y_fit = f(x_fit, KM_value, Vmax_value)     ### calculate the y values using the function that we curve fit\n",
    "y_fit = np.real(y_fit)                                ### keep only the real numbers\n",
    "\n",
    "#########################################\n",
    "### Make a figure onject that contains a single axis object\n",
    "### the pyplot.subplots command will ctraete these two objects\n",
    "#########################################\n",
    "\n",
    "plt.rcdefaults()                    ### resets the plot defaults so we always start in the same place\n",
    "fig, ax = plt.subplots(nrows=1, ncols=1, figsize=(4,3))  \n",
    "\n",
    "#########################################\n",
    "### Plot the line using the x_fit, y_fit points\n",
    "#########################################\n",
    "\n",
    "ax.plot(x_fit, y_fit, \n",
    "        linestyle = '-',            ### use a line between points\n",
    "        linewidth='0.5',            ### make the line thin\n",
    "        color = 'black',            ### the line is black\n",
    "        zorder = 0                  ### everything is in layer 0 (the bottom layer in this case)\n",
    "        )\n",
    "\n",
    "#########################################\n",
    "### Plot the data with style\n",
    "#########################################\n",
    "\n",
    "ax.scatter(x, y, \n",
    "        marker='o',                 ### Plot the x and y data \n",
    "        color='white',              ### markers are this color\n",
    "        edgecolors = 'black',       ### outline of markers is this color\n",
    "        linewidths = 0.5,           ### outline of markers is this wide\n",
    "        s=32,                       ### \"s\" is \"size\". sqrt(64) = 8 points wide\n",
    "        zorder = 2                  ### everything is in layer 1 (the top layer in this case)\n",
    "        )\n",
    "\n",
    "\n",
    "#########################################\n",
    "### Add more style\n",
    "#########################################\n",
    "\n",
    "ax.set(ylabel=r\"$[S]\\; /\\; mmole\\'L^{-1}$\", \n",
    "        xlabel=r\"$time\\; /\\; min$\",\n",
    "        title = \"Michaelis-Menten Reaction\",\n",
    "        xlim=[-0.1, None],                  \n",
    "        ylim=[-0.1, None]      \n",
    "      )\n",
    "\n",
    "ax.spines[['top','right','bottom','left']].set_visible(False)   ### Make all spines invisible\n",
    "#ax.spines[['left','bottom']].set_position(('axes',-0.05))   ### space spines a little away from 'axes' (plot box)\n",
    "\n",
    "#########################################\n",
    "### Output the plot\n",
    "#########################################\n",
    "\n",
    "plt.savefig(\"plot.pdf\", bbox_inches='tight')     ### export the plot as this\n",
    "plt.show()                                       ### display the plot in this notebook\n",
    "\n",
    "print(f\"The Vmax is {Vmax_fit:0.3f}\")\n",
    "print(f\"The KM is {KM_fit:0.3f}\")                   ### display the plot in this notebook\n"
   ]
  },
  {
   "cell_type": "markdown",
   "metadata": {},
   "source": [
    "## Extra\n",
    "\n",
    "The code below was used to generate the data for the curve fit above. It is presented here for archival purposes."
   ]
  },
  {
   "cell_type": "code",
   "execution_count": 20,
   "metadata": {
    "tags": [
     "hide-input",
     "hide-output"
    ]
   },
   "outputs": [
    {
     "name": "stdout",
     "output_type": "stream",
     "text": [
      "[0.25 0.5  0.75 1.   1.25 1.5  1.75 2.  ] [1.72852951 1.09217686 0.61897403 0.31365042 0.14508538 0.06333811\n",
      " 0.02682926 0.0112074 ]\n",
      "[0.25 0.5  0.75 1.   1.25 1.5  1.75 2.  ] [1.79008622 1.04732806 0.6616236  0.28325197 0.13075197 0.12048696\n",
      " 0.04551996 0.08201023]\n",
      "[ 0.06155671 -0.0448488   0.04264957 -0.03039846 -0.01433341  0.05714885\n",
      "  0.01869069  0.07080282]\n"
     ]
    }
   ],
   "source": [
    "### Make Fake Data for curve fit\n",
    "\n",
    "##########################\n",
    "### Set up parameters\n",
    "##########################\n",
    "\n",
    "\n",
    "KM_value = 1.5        ### set KM value\n",
    "Vmax_value = 5.3      ### set Vmax value\n",
    "S0_value = 2.5        ### set initial substrate concentration value\n",
    "\n",
    "\n",
    "##########################\n",
    "### create function \n",
    "##########################\n",
    "\n",
    "f = sym.lambdify([t,S0, KM, Vmax], eq.rhs)   ### create function in terms of t, S0, KM and Vmax\n",
    "\n",
    "##########################\n",
    "### calculate x and y data\n",
    "##########################\n",
    "\n",
    "t_line = np.array([15, 30, 45, 60, 75, 90, 105, 120])  ### the time points(every 15 seconds)\n",
    "t_line = t_line/60                                     ### convert to minutes\n",
    "\n",
    "xdat = t_line                                      ### I always plot x and y so I can more easily reuse plotting code\n",
    "ydat = f(t_line, S0_value, KM_value, Vmax_value)      ### Calculate y according to the function\n",
    "ydat = np.real(ydat)  \n",
    "#ydat = np.complex128(y)\n",
    "print(xdat,ydat)\n",
    "ydat_old = ydat\n",
    "ydat = ydat + np.random.normal(scale=0.05, size=xdat.size)\n",
    "\n",
    "print(xdat,ydat)\n",
    "errors = ((ydat-ydat_old))\n",
    "print(errors)"
   ]
  }
 ],
 "metadata": {
  "kernelspec": {
   "display_name": "base",
   "language": "python",
   "name": "python3"
  },
  "language_info": {
   "codemirror_mode": {
    "name": "ipython",
    "version": 3
   },
   "file_extension": ".py",
   "mimetype": "text/x-python",
   "name": "python",
   "nbconvert_exporter": "python",
   "pygments_lexer": "ipython3",
   "version": "3.11.4"
  }
 },
 "nbformat": 4,
 "nbformat_minor": 2
}
