{
 "cells": [
  {
   "cell_type": "markdown",
   "metadata": {},
   "source": [
    "## Numeric Integration\n",
    "\n",
    "What does the reaction progress of enzyme kinetics look like over a long stretch of time, far past the initial rate from which we have not yet dared stray? The math is similar to the case of the steady-state kinetic scheme above. However, in the Michaleis-Menten (MM) system, one of the reactants, the enzyme, is present at limiting quanties ($[E]_t \\ll [S]_t$) and this case gives rise to the famous MM equation.\n",
    "\n",
    "$$-\\frac{d}{dt}[S] = k_{cat}[E]_t\\frac{[S]_t}{K_M+[S]_t}$$\n",
    "\n",
    "This equation can be integrated analytically using advanced mathematical methods that you will likely never care to learn. I certainly have no clue how to integrate anything but the simplest equations. So, yes, you will never use calculus again in your life but only because others have done the calculus for you already. Understanding the basics of calculus is important if you are to properly stand on the shoulders of mathematicians. The analytical integration was demonstrated in the previous notebook.\n",
    "\n",
    "In this notebook will not use analytical methods but instead use the numerical algorithms encapsulated the Python tools. We will use `scipy.integration.odeint()`.\n",
    "\n",
    "## Using *odient*\n",
    "\n",
    "The `scipy.integration.odeint()` function will perform a numeric integration of ordinary differential equations. It is simpler to set up than the analytical integration and, in well behaved cases, is very acurate. Let us perform a numerical integration of the MM system. We can then compare the results with the analytical method.\n",
    "\n",
    "If we know the value of [S] at a given moment in time then we can easily calculate the rate of change using the above equation. There is only one place where we know the substrate concentration for sure and that is at time zero. So we start there, calculate the rate of change, calculate the change after an infinitesimal amount of time and then start again with the new concentration and repeat endlessly. Obviously there are mathematical approaches to this and they all use various methods to minimize the error caused when the time step used is anything greater than $\\frac{1}{\\infty}$.\n",
    "\n",
    "So we know that the numerical approach should be close to the true answer but can never be exact. The analytical method is exact but, as we saw, is very difficult with some kinds of equations. The code below defines a function for the rate of change in copncentration of substrate according to the MM equation. Then we use `scipy.integration.odeint()` to calculate the concentration of substrate over time using numerical integration methods."
   ]
  },
  {
   "cell_type": "code",
   "execution_count": 1,
   "metadata": {
    "tags": [
     "hide-input"
    ]
   },
   "outputs": [
    {
     "data": {
      "image/png": "[encoded data removed]",
      "text/plain": [
       "<Figure size 400x300 with 1 Axes>"
      ]
     },
     "metadata": {},
     "output_type": "display_data"
    }
   ],
   "source": [
    "#######################\n",
    "### import packages ###\n",
    "#######################\n",
    "\n",
    "import numpy as np\n",
    "from scipy.integrate import odeint\n",
    "import matplotlib.pyplot as plt\n",
    "\n",
    "def rates(c, t, E, kcat, Km):\n",
    "    return -kcat * E * c / (c + Km)\n",
    "\n",
    "\n",
    "############################################\n",
    "### Create a function that describes the ###\n",
    "### rates of all reactions in the system ###\n",
    "############################################\n",
    "\n",
    "E_conc = 1e-6\n",
    "KM_value = 0.005          ### set KM value\n",
    "kcat_value = 1E2          ### set Vmax value\n",
    "S0_value = .05            ### set initial substrate concentration value\n",
    "\n",
    "Vmax_value = E_conc * kcat_value\n",
    "\n",
    "time_end = 1200           ### The end time\n",
    "n_points = 100            ### number of points - increase if needed\n",
    "\n",
    "\n",
    "\n",
    "#########################################\n",
    "### Create series of time points      ###\n",
    "#########################################\n",
    "\n",
    "dt = .1                                    ### time step, delta t\n",
    "tmax = time_end                            ### max time, s\n",
    "t_line = np.linspace(0, tmax, num=int(tmax/dt)) ### time vector (list of time points)\n",
    "\n",
    "xmax = time_end           ### change these as you wish\n",
    "ymax = S0_value\n",
    "\n",
    "##########################\n",
    "### integrate\n",
    "##########################\n",
    "\n",
    "initial = S0_value\n",
    "cc = odeint(rates, initial, t_line, args=(E_conc, kcat_value, KM_value))\n",
    "\n",
    "##########################\n",
    "### plot x and y data\n",
    "##########################\n",
    "\n",
    "x = t_line; xmax = tmax\n",
    "y = cc\n",
    "\n",
    "plt.rcdefaults()     ### resets the plot defaults so we always start in the same place\n",
    "fig, ax = plt.subplots(nrows=1, ncols=1, figsize=(4,3))  \n",
    "\n",
    "ax.plot( x, y,\n",
    "         linestyle = '-',            ### use a line between points\n",
    "         linewidth='0.5',            ### make the line thin\n",
    "         color = 'black',            ### the line is black\n",
    "         zorder = 0                  ### everything is in layer 0 (the bottom layer in this case)\n",
    "        )\n",
    "ax.set( xlabel= r\"$t\\;/\\;s$\", \n",
    "        ylabel=r\"$[S] \\; / \\; mole\\,L^{-1}$\",\n",
    "        title = \"MM Reaction\",\n",
    "        xlim=[0, xmax],                  \n",
    "        ylim=[-0.0001, ymax]      \n",
    "       )\n",
    "\n",
    "ax.spines[['top','right','bottom','left']].set_visible(False)   ### Make all spines invisible\n",
    "ax.spines[['left','bottom']].set_position(('axes',-0.05))       ### space spines a little away from 'axes' (plot box)\n",
    "\n",
    "#########################################\n",
    "### Output the plot\n",
    "#########################################\n",
    "\n",
    "plt.savefig(\"plot.pdf\", bbox_inches='tight')     ### export the plot as this\n",
    "plt.show() "
   ]
  },
  {
   "cell_type": "markdown",
   "metadata": {},
   "source": [
    "## Comparing with Anaytical Integration\n",
    "\n",
    "Below I have stolen the code from the previous notebook to calculate a set of x and y values using the analytical integration. When we are done below we will have a set of numerically integrated substrate concentrations with time (`cc` vs `t` from the code block above) and a set of anaytically calculated concentrations (`c` vs `t`) as calculated in the code block below.  The `t` series will be the same in both data sets.\n",
    "\n",
    "Then I will plot the difference between the two sets of data. How closely does numerical integration match the truth of analytical integration in this case?\n",
    "\n"
   ]
  },
  {
   "cell_type": "code",
   "execution_count": 16,
   "metadata": {
    "tags": [
     "hide-input"
    ]
   },
   "outputs": [
    {
     "name": "stdout",
     "output_type": "stream",
     "text": [
      "The integrated rate law for the MM equation\n"
     ]
    },
    {
     "data": {
      "text/latex": [
       "$\\displaystyle S_{t} = K_{M} W\\left(\\frac{S_{0} e^{\\frac{S_{0} - V_{max} t}{K_{M}}}}{K_{M}}\\right)$"
      ],
      "text/plain": [
       "Eq(S_t, K_M*LambertW(S_0*exp((S_0 - V_{max}*t)/K_M)/K_M))"
      ]
     },
     "metadata": {},
     "output_type": "display_data"
    }
   ],
   "source": [
    "import sympy as sym\n",
    "\n",
    "t = sym.symbols('t')           ### create x as a 'symbol', not a variable\n",
    "Vmax = sym.symbols('V_{max}')  ### create k as a 'symbol'\n",
    "St = sym.symbols('S_t')        ### create At as a 'symbol'\n",
    "S0 = sym.symbols('S_0')        ### create A0 as a 'symbol'\n",
    "KM = sym.symbols('K_M')\n",
    "\n",
    "xt = sym.Function('x_t')       ### create x as a 'function', not a variable\n",
    "\n",
    "lhs = sym.Derivative(-St, t)   ### Using Derivative function to get differential of A(t) w.r.t. t\n",
    "rhs = Vmax*(St/(KM+St))\n",
    "\n",
    "diffeq = sym.Eq(lhs, rhs)                   ### create a sympy equation\n",
    "diffeq = diffeq.subs({St: (S0 - xt(t))})    ### Substitute the term with S0-x\n",
    "res = sym.dsolve(diffeq, ics={xt(0): 0})    ### Solve the differential equation. Initial condition is x(t) = 0 when t = 0\n",
    "\n",
    "eq = res.subs(xt(t), S0-St)            ### substitute x for So - St\n",
    "eq = sym.simplify(eq)                  ### Simplify the result\n",
    "eq = sym.Eq(eq.lhs - S0, eq.rhs - S0)  ### Subtract S0 from both sides of the equation\n",
    "eq = sym.Eq(-eq.lhs, -eq.rhs)          ### take the negative of both sides of the equation \n",
    "\n",
    "print(\"The integrated rate law for the MM equation\")\n",
    "display(eq)                         \n",
    "\n",
    "##############################################################################\n",
    "##############################################################################\n",
    "##############################################################################\n",
    "\n",
    "from matplotlib import pyplot as plt\n",
    "import numpy as np\n",
    "\n",
    "##########################\n",
    "### create function \n",
    "##########################\n",
    "\n",
    "f = sym.lambdify([t, S0, KM, Vmax], eq.rhs)   ### create function in terms of t, S0, KM and Vmax\n",
    "\n",
    "##########################\n",
    "### Set up parameters\n",
    "##########################\n",
    "\n",
    "E_conc = 1e-6\n",
    "KM_value = 0.005          ### set KM value\n",
    "kcat_value = 1E2          ### set Vmax value\n",
    "S0_value = .05            ### set initial substrate concentration value\n",
    "\n",
    "Vmax_value = E_conc * kcat_value\n",
    "\n",
    "time_end = 1200           ### The end time\n",
    "n_points = 100            ### number of points - increase if needed\n",
    "\n",
    "xmax = time_end       ### change these as you wish\n",
    "ymax = S0_value\n",
    "\n",
    "##########################\n",
    "### calculate x and y data\n",
    "##########################\n",
    "\n",
    "\n",
    "### the time points\n",
    "                                                ### t_line comes from the first code block above\n",
    "c = f(t_line, S0_value, KM_value, Vmax_value)   ### Calculate y according to the function\n",
    "c = np.real(c)                                  ### the Lambert function produces imaginary numbers. Use on the real component\n",
    "\n",
    "cc = cc.flatten() \n",
    "c = c.flatten() \n",
    "diff = 100*(cc - c)/c   ### % error  \n",
    "\n"
   ]
  },
  {
   "cell_type": "code",
   "execution_count": 6,
   "metadata": {},
   "outputs": [
    {
     "data": {
      "text/plain": [
       "12000"
      ]
     },
     "execution_count": 6,
     "metadata": {},
     "output_type": "execute_result"
    }
   ],
   "source": [
    "len(c.flatten())\n",
    "-1E-7, 1E-7"
   ]
  },
  {
   "cell_type": "markdown",
   "metadata": {},
   "source": [
    "## Plot the Difference\n",
    "\n",
    "Below we will take the `cc` series from the numerical method and the `c` series from the analytical method caluclated at the same time points and plot the difference. As we can see there is no difference. Inspecting the result of the difference calculation reveals a very tiny difference.\n",
    "\n",
    "We only see errors of any detectable importance when the value of [S] is near zero. very small errors can be large compared to very small numbers. Even in that region, error was less that 3%.\n",
    "\n",
    "The numerical integration produced the same result as the analytical in this case. And the numerical method was far simpler to set up.\n",
    "\n",
    "Which would you rather use?"
   ]
  },
  {
   "cell_type": "code",
   "execution_count": 19,
   "metadata": {
    "tags": [
     "hide-input"
    ]
   },
   "outputs": [
    {
     "data": {
      "image/png": "[encoded data removed]",
      "text/plain": [
       "<Figure size 400x300 with 1 Axes>"
      ]
     },
     "metadata": {},
     "output_type": "display_data"
    }
   ],
   "source": [
    "plt.rcdefaults()                    ### resets the plot defaults so we always start in the same place\n",
    "fig, ax = plt.subplots(nrows=1, ncols=1, figsize=(4,3))  \n",
    "#c == cc       ### uncomment tp check equivalence between the two series.\n",
    "\n",
    "x = t_line\n",
    "y = diff  ### Percent error\n",
    "\n",
    "#########################################\n",
    "### Plot the line using the x_fit, y_fit points\n",
    "#########################################\n",
    "\n",
    "ax.plot(x, y, \n",
    "        linestyle = '-',            ### use a line between points\n",
    "        linewidth='0.5',            ### make the line thin\n",
    "        color = 'black',            ### the line is black\n",
    "        zorder = 0                  ### everything is in layer 0 (the bottom layer in this case)\n",
    "        )\n",
    "\n",
    "#########################################\n",
    "### Add more style\n",
    "#########################################\n",
    "\n",
    "ax.set(ylabel=r\"$\\% \\Delta [S]\\; $\", \n",
    "        xlabel=r\"$time\\; /\\; min$\",\n",
    "        title = \"Difference Plot\",\n",
    "        xlim=[None, None],      \n",
    "        ylim=[-5, 5]                  \n",
    "      )\n",
    "\n",
    "ax.spines[['top','right','bottom','left']].set_visible(False)   ### Make all spines invisible\n",
    "#ax.spines[['left','bottom']].set_position(('axes',-0.05))   ### space spines a little away from 'axes' (plot box)\n",
    "\n",
    "#########################################\n",
    "### Output the plot\n",
    "#########################################\n",
    "\n",
    "plt.savefig(\"plot.pdf\", bbox_inches='tight')     ### export the plot as this\n",
    "plt.show()                                       ### display the plot in this notebook\n",
    "\n"
   ]
  },
  {
   "cell_type": "code",
   "execution_count": null,
   "metadata": {},
   "outputs": [],
   "source": [
    "print(c)\n"
   ]
  }
 ],
 "metadata": {
  "kernelspec": {
   "display_name": "base",
   "language": "python",
   "name": "python3"
  },
  "language_info": {
   "codemirror_mode": {
    "name": "ipython",
    "version": 3
   },
   "file_extension": ".py",
   "mimetype": "text/x-python",
   "name": "python",
   "nbconvert_exporter": "python",
   "pygments_lexer": "ipython3",
   "version": "3.11.4"
  }
 },
 "nbformat": 4,
 "nbformat_minor": 2
}
