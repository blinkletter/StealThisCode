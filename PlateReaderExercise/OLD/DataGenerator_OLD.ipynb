{
 "cells": [
  {
   "cell_type": "markdown",
   "metadata": {},
   "source": [
    "# Plate Reader Exploration Data Generator\n",
    "\n",
    "This notebook uses the code in the `BiochemToolbox' library to generate data using setup data files. \n",
    "\n",
    "Each plate in the dataset has a name in the format \"plateXX\" where XX is a number between 00 and 99. A setup file is named according to the plate name as `setup/PlateXX_setup.csv`. Plates are arranged so that each well in a column (lane) contains a set amount of a given enzyme and each well in a row contains a set amount of substrate. The stup file will contain data that describes each lane (lane label, enzyme name, and enzyme concentration) and data that describes each row (row label, substrate concentration). This same data makes up the plate plan file used by the student in this exercise. The setup file contains additional data for each enzyme ($k_{cat}$ and $K_M$ values).\n",
    "\n",
    "In both the plate plan files and the plate setup files the numbers have the following units: $K_M$ values and substrate concentrations are millimolar; enzyme concentrations is nanomolar; and $k_{cat}$ is $s^{-1}$. These units are expected by the code used to generate and analyze the data. Units are also describes in the comment lines in each file."
   ]
  },
  {
   "cell_type": "code",
   "execution_count": null,
   "metadata": {},
   "outputs": [
    {
     "name": "stdout",
     "output_type": "stream",
     "text": [
      "Plates: [1]\n"
     ]
    }
   ],
   "source": [
    "## DEPRECATED\n",
    "import numpy as np\n",
    "import pandas as pd\n",
    "\n",
    "#!wget https://raw.githubusercontent.com/blinkletter/StealThisCode/main/BiochemToolbox.py\n",
    "#!pip install uncertainties  # to install 'Uncertainties' package in Colab. \n",
    "\n",
    "import BiochemToolbox as BT\n",
    "\n",
    "file_location = \"data2/\"\n",
    "data_dir = \"data/\"\n",
    "setup_dir = \"setup/\"\n",
    "plot_dir = \"plots/\"\n",
    "\n",
    "plates = np.arange(1,2)\n",
    "print(f\"Plates: {plates}\")\n",
    "for a in plates:   \n",
    "    plate_name = \"Plate\"+f\"{str(a):0>2}\"\n",
    "    setupdata = BT.make_plate_data_for_setup(\n",
    "        file_location + setup_dir + plate_name + \"_setup.csv\"\n",
    "        )\n",
    "    BT.make_data_files_plates(\n",
    "        setupdata, file_location + data_dir + plate_name, \n",
    "        pH = 7.0\n",
    "        )"
   ]
  },
  {
   "cell_type": "code",
   "execution_count": 1,
   "metadata": {},
   "outputs": [
    {
     "name": "stdout",
     "output_type": "stream",
     "text": [
      "Plates: [1]\n",
      "data2/data/Plate01_1_A.csv\n",
      "data2/data/Plate01_1_B.csv\n",
      "data2/data/Plate01_1_C.csv\n",
      "data2/data/Plate01_1_D.csv\n",
      "data2/data/Plate01_1_E.csv\n",
      "data2/data/Plate01_1_F.csv\n",
      "data2/data/Plate01_1_G.csv\n",
      "data2/data/Plate01_1_H.csv\n",
      "data2/data/Plate01_2_A.csv\n",
      "data2/data/Plate01_2_B.csv\n",
      "data2/data/Plate01_2_C.csv\n",
      "data2/data/Plate01_2_D.csv\n",
      "data2/data/Plate01_2_E.csv\n",
      "data2/data/Plate01_2_F.csv\n",
      "data2/data/Plate01_2_G.csv\n",
      "data2/data/Plate01_2_H.csv\n",
      "data2/data/Plate01_3_A.csv\n",
      "data2/data/Plate01_3_B.csv\n",
      "data2/data/Plate01_3_C.csv\n",
      "data2/data/Plate01_3_D.csv\n",
      "data2/data/Plate01_3_E.csv\n",
      "data2/data/Plate01_3_F.csv\n",
      "data2/data/Plate01_3_G.csv\n",
      "data2/data/Plate01_3_H.csv\n",
      "data2/data/Plate01_4_A.csv\n",
      "data2/data/Plate01_4_B.csv\n",
      "data2/data/Plate01_4_C.csv\n",
      "data2/data/Plate01_4_D.csv\n",
      "data2/data/Plate01_4_E.csv\n",
      "data2/data/Plate01_4_F.csv\n",
      "data2/data/Plate01_4_G.csv\n",
      "data2/data/Plate01_4_H.csv\n",
      "data2/data/Plate01_5_A.csv\n",
      "data2/data/Plate01_5_B.csv\n",
      "data2/data/Plate01_5_C.csv\n",
      "data2/data/Plate01_5_D.csv\n",
      "data2/data/Plate01_5_E.csv\n",
      "data2/data/Plate01_5_F.csv\n",
      "data2/data/Plate01_5_G.csv\n",
      "data2/data/Plate01_5_H.csv\n",
      "data2/data/Plate01_6_A.csv\n",
      "data2/data/Plate01_6_B.csv\n",
      "data2/data/Plate01_6_C.csv\n",
      "data2/data/Plate01_6_D.csv\n",
      "data2/data/Plate01_6_E.csv\n",
      "data2/data/Plate01_6_F.csv\n",
      "data2/data/Plate01_6_G.csv\n",
      "data2/data/Plate01_6_H.csv\n",
      "data2/data/Plate01_7_A.csv\n",
      "data2/data/Plate01_7_B.csv\n",
      "data2/data/Plate01_7_C.csv\n",
      "data2/data/Plate01_7_D.csv\n",
      "data2/data/Plate01_7_E.csv\n",
      "data2/data/Plate01_7_F.csv\n",
      "data2/data/Plate01_7_G.csv\n",
      "data2/data/Plate01_7_H.csv\n",
      "data2/data/Plate01_8_A.csv\n",
      "data2/data/Plate01_8_B.csv\n",
      "data2/data/Plate01_8_C.csv\n",
      "data2/data/Plate01_8_D.csv\n",
      "data2/data/Plate01_8_E.csv\n",
      "data2/data/Plate01_8_F.csv\n",
      "data2/data/Plate01_8_G.csv\n",
      "data2/data/Plate01_8_H.csv\n",
      "data2/data/Plate01_9_A.csv\n",
      "data2/data/Plate01_9_B.csv\n",
      "data2/data/Plate01_9_C.csv\n",
      "data2/data/Plate01_9_D.csv\n",
      "data2/data/Plate01_9_E.csv\n",
      "data2/data/Plate01_9_F.csv\n",
      "data2/data/Plate01_9_G.csv\n",
      "data2/data/Plate01_9_H.csv\n",
      "data2/data/Plate01_10_A.csv\n",
      "data2/data/Plate01_10_B.csv\n",
      "data2/data/Plate01_10_C.csv\n",
      "data2/data/Plate01_10_D.csv\n",
      "data2/data/Plate01_10_E.csv\n",
      "data2/data/Plate01_10_F.csv\n",
      "data2/data/Plate01_10_G.csv\n",
      "data2/data/Plate01_10_H.csv\n",
      "data2/data/Plate01_11_A.csv\n",
      "data2/data/Plate01_11_B.csv\n",
      "data2/data/Plate01_11_C.csv\n",
      "data2/data/Plate01_11_D.csv\n",
      "data2/data/Plate01_11_E.csv\n",
      "data2/data/Plate01_11_F.csv\n",
      "data2/data/Plate01_11_G.csv\n",
      "data2/data/Plate01_11_H.csv\n",
      "data2/data/Plate01_12_A.csv\n",
      "data2/data/Plate01_12_B.csv\n",
      "data2/data/Plate01_12_C.csv\n",
      "data2/data/Plate01_12_D.csv\n",
      "data2/data/Plate01_12_E.csv\n",
      "data2/data/Plate01_12_F.csv\n",
      "data2/data/Plate01_12_G.csv\n",
      "data2/data/Plate01_12_H.csv\n"
     ]
    }
   ],
   "source": [
    "import numpy as np\n",
    "import pandas as pd\n",
    "\n",
    "#!wget https://raw.githubusercontent.com/blinkletter/StealThisCode/main/BiochemToolbox.py\n",
    "#!pip install uncertainties  # to install 'Uncertainties' package in Colab. \n",
    "\n",
    "import BiochemToolbox as BT\n",
    "\n",
    "file_location = \"data2/\"\n",
    "data_dir = \"data/\"\n",
    "setup_dir = \"setup/\"\n",
    "plot_dir = \"plots/\"\n",
    "\n",
    "plates = np.arange(1,2)\n",
    "print(f\"Plates: {plates}\")\n",
    "for a in plates:   \n",
    "    plate_name = \"Plate\"+f\"{str(a):0>2}\"\n",
    "    setup_file_name = file_location + setup_dir + plate_name + \"_setup.csv\"\n",
    "    outfile_rootname = file_location + data_dir + plate_name\n",
    "    BT.make_data(setup_file_name, outfile_rootname, pH = 7.0)\n"
   ]
  },
  {
   "cell_type": "code",
   "execution_count": 2,
   "metadata": {},
   "outputs": [
    {
     "name": "stdout",
     "output_type": "stream",
     "text": [
      "Plot saved as data2/plots/plot_contact_sheet_01.pdf\n"
     ]
    }
   ],
   "source": [
    "import BiochemToolbox as BT\n",
    "\n",
    "file_location = \"data2/\"\n",
    "data_dir = \"data/\"\n",
    "setup_dir = \"setup/\"\n",
    "plot_dir = \"plots/\"\n",
    "\n",
    "#for a in range(2):\n",
    "for a in [1]:\n",
    "\n",
    "    plate_name = \"Plate\"+f\"{str(a):0>2}\"\n",
    "    BT.contact_sheet(file_location+data_dir+plate_name, fancy = True)"
   ]
  },
  {
   "cell_type": "code",
   "execution_count": 23,
   "metadata": {},
   "outputs": [
    {
     "name": "stdout",
     "output_type": "stream",
     "text": [
      "       6FQ,\n",
      "       0GS,\n",
      "       LL5,\n",
      "       GMR,\n",
      "       K92,\n",
      "       SRI,\n",
      "       NYU,\n",
      "       KQX,\n",
      "       H5E,\n",
      "       RZ0,\n",
      "       1KV,\n"
     ]
    }
   ],
   "source": [
    "### generate random names for mutant enzymes.\n",
    "### Cut and paste the output as you build the setup files\n",
    "### for each plate\n",
    "\n",
    "import random\n",
    "import string\n",
    "\n",
    "for x in range(11):\n",
    "   random_string = ''.join(random.choices(string.ascii_uppercase + string.digits, k=3))\n",
    "   print(f\"{random_string: >10},\")   #print string within block of 10 spaces, right formatted\n",
    "\n"
   ]
  },
  {
   "cell_type": "code",
   "execution_count": 13,
   "metadata": {},
   "outputs": [
    {
     "name": "stdout",
     "output_type": "stream",
     "text": [
      "       225,      0.36\n",
      "        41,      0.35\n",
      "       127,      0.54\n",
      "       168,      0.15\n",
      "        64,      0.63\n",
      "       150,      0.75\n",
      "        52,      0.29\n",
      "       146,      0.80\n",
      "       120,      0.31\n",
      "        19,      0.47\n",
      "        51,      0.35\n"
     ]
    }
   ],
   "source": [
    "### generate random numbers for kcat and KM values.\n",
    "### Cut and paste the output as you build the setup files\n",
    "### for each plate\n",
    "\n",
    "import random\n",
    "\n",
    "for kcat in random.sample(range(15, 233), 11):\n",
    "    KM = random.uniform(0.01, 0.80)\n",
    "    print(f\"{kcat:10.0f},      {KM:0.2f}\")"
   ]
  },
  {
   "cell_type": "code",
   "execution_count": 13,
   "metadata": {},
   "outputs": [
    {
     "name": "stdout",
     "output_type": "stream",
     "text": [
      "00\n",
      "01\n",
      "02\n",
      "03\n",
      "04\n",
      "05\n",
      "06\n",
      "07\n",
      "08\n",
      "09\n",
      "10\n",
      "11\n",
      "12\n"
     ]
    }
   ],
   "source": [
    "for a in range(13):\n",
    "    print(f\"{str(a):0>2}\")"
   ]
  },
  {
   "cell_type": "markdown",
   "metadata": {},
   "source": [
    "\n"
   ]
  }
 ],
 "metadata": {
  "kernelspec": {
   "display_name": "main",
   "language": "python",
   "name": "python3"
  },
  "language_info": {
   "codemirror_mode": {
    "name": "ipython",
    "version": 3
   },
   "file_extension": ".py",
   "mimetype": "text/x-python",
   "name": "python",
   "nbconvert_exporter": "python",
   "pygments_lexer": "ipython3",
   "version": "3.12.2"
  }
 },
 "nbformat": 4,
 "nbformat_minor": 2
}
