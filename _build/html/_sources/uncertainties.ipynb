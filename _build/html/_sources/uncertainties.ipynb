{
 "cells": [
  {
   "cell_type": "markdown",
   "metadata": {},
   "source": [
    "# Using Uncertainty\n",
    "\n",
    "How do you **propagate uncertainty** through a series of calculation? There are **rules** and I know a few of them but *Python* can do math with uncertain numbers and handle all that for you.\n",
    "\n",
    "## The *Uncertainties* Package\n",
    "\n",
    "There is an open-source *Python* package that provides the tools to **handle uncertainties** in all the **math operations** that are performed by the *Math* and *NumPy* packages. This package is call *Uncertainties* and you can find [documentation here](https://uncertainties-python-package.readthedocs.io/en/latest/).\n",
    "\n",
    "The ***Uncertainties* package** is not yet part of the *Python* standard library and **must be installed** into a *Python* instance when using Google *Colab*. The code below will set up all the packages for our demonstration and install the *Uncertainties* package."
   ]
  },
  {
   "cell_type": "code",
   "execution_count": 2,
   "metadata": {
    "tags": [
     "hide-input"
    ]
   },
   "outputs": [],
   "source": [
    "############################################\n",
    "###  Import packages and set up variables\n",
    "############################################\n",
    "\n",
    "import math\n",
    "import numpy as np                       ## import the tools of NumPy but use a shorter name\n",
    "\n",
    "####################################\n",
    "### Install UNCERTAINTIES package \n",
    "####################################\n",
    "\n",
    "!pip install uncertainties               ## to install in Colab. \n",
    "                                         \n",
    "\n",
    "####################################\n",
    "### Import versions of NumPy and Math that use uncertainty \n",
    "####################################\n",
    "\n",
    "import uncertainties as un\n",
    "from uncertainties import unumpy as unp    ## Tools that will replace NumPy and Math \n",
    "from uncertainties import umath            ##  commands with versions that use Uncertianties  \n",
    "                                           ##  as well as normal values.\n",
    "            "
   ]
  },
  {
   "cell_type": "markdown",
   "metadata": {},
   "source": [
    "## Creating Uncertain Numbers\n",
    "\n",
    "An uncertain number is a data object that contains the **nominal value** and the **standard deviation** together. In the *Uncertainties* package there are two commands that will **create an uncertain number**, `un.ufloat()` and `un.ufloat_fromstr()`. Consider the examples below for two numbers:\n",
    "\n",
    "$$ a = 4.2 \\pm 0.9 \\\\\n",
    "   b = 12.1 \\pm 2.7 $$"
   ]
  },
  {
   "cell_type": "code",
   "execution_count": 3,
   "metadata": {
    "tags": [
     "hide-input",
     "hide-output"
    ]
   },
   "outputs": [
    {
     "name": "stdout",
     "output_type": "stream",
     "text": [
      "An uncertain value created using the ufloat() function\n",
      "4.2+/-0.9\n",
      "An uncertain value created using the ufloat_fromstr() function\n",
      "12.1+/-2.7\n"
     ]
    }
   ],
   "source": [
    "### Create uncertain values\n",
    "\n",
    "a = un.ufloat(4.2, 0.9)\n",
    "b = un.ufloat_fromstr(\"12.1+/-2.7\")\n",
    "\n",
    "print(\"An uncertain value created using the ufloat() function\")\n",
    "print(a)\n",
    "print(\"An uncertain value created using the ufloat_fromstr() function\")\n",
    "print(b)"
   ]
  },
  {
   "cell_type": "markdown",
   "metadata": {},
   "source": [
    "## Using Uncertain Numbers\n",
    "\n",
    "In the code below you can see the use of these uncertain numbers with *Python* and *NumPy* **operators and functions**. Observe that we use the *UNumPy* sublibrary of the *Uncertainties*  package when calling a *NumPy* function such as `unp.log10()` or `unp.sin()`."
   ]
  },
  {
   "cell_type": "code",
   "execution_count": 4,
   "metadata": {
    "tags": [
     "hide-input",
     "hide-output"
    ]
   },
   "outputs": [
    {
     "name": "stdout",
     "output_type": "stream",
     "text": [
      "Some math with uncertain values\n",
      "a + b: 16.3+/-2.8\n",
      "a - b: -7.9+/-2.8\n",
      "a * b: 51+/-16\n",
      "a / b: 0.35+/-0.11\n",
      "log b: 1.08+/-0.10\n",
      "sin a (in radians): -0.9+/-0.4\n",
      "sin a (in degrees): 0.073+/-0.016\n"
     ]
    }
   ],
   "source": [
    "### Demonstrate error propagation\n",
    "\n",
    "print(\"Some math with uncertain values\")\n",
    "print(f\"a + b: {a + b}\")\n",
    "print(f\"a - b: {a - b}\")\n",
    "print(f\"a * b: {a * b}\")\n",
    "print(f\"a / b: {a / b}\")\n",
    "print(f\"log b: {unp.log10(b)}\")\n",
    "print(f\"sin a (in radians): {unp.sin(a)}\")\n",
    "print(f\"sin a (in degrees): {unp.sin(a * (np.pi / 180))}\")\n"
   ]
  },
  {
   "cell_type": "markdown",
   "metadata": {},
   "source": [
    "## Arrays with Uncertainty\n",
    "\n",
    "One can have an **array of uncertain numbers**. It may be created just by adding uncertain values into an array or by using the `unp.uarray()` function with an array of nominal values and an array of uncertainties. Examine the code below."
   ]
  },
  {
   "cell_type": "code",
   "execution_count": 9,
   "metadata": {
    "tags": [
     "hide-input",
     "hide-output"
    ]
   },
   "outputs": [
    {
     "name": "stdout",
     "output_type": "stream",
     "text": [
      "An array of two uncertain numbers\n",
      "[4.2+/-0.9 12.1+/-2.7]\n",
      "An array of four uncertain numbers\n",
      "[3.4+/-0.2 7.6+/-1.7 8.9+/-0.4 10.3+/-1.1]\n",
      "The first array multiplied by another uncertain value\n",
      "[17.64+/-7.5600000000000005 50.82+/-15.722204043962796]\n",
      "The second array with a log10() function applied\n",
      "[0.5314789170422551+/-0.025546734229603046\n",
      " 0.8808135922807914+/-0.0971448183204642\n",
      " 0.9493900066449128+/-0.01951885311924727\n",
      " 1.0128372247051722+/-0.046380964086755044]\n"
     ]
    }
   ],
   "source": [
    "### Example of arrays with Uncertainties\n",
    "\n",
    "array1 = np.array([a,b])\n",
    "print(\"An array of two uncertain numbers\")\n",
    "print(array1)\n",
    "\n",
    "values = [3.4, 7.6, 8.9, 10.3]\n",
    "errors = [0.2, 1.7, 0.4, 1.1]\n",
    "\n",
    "array2 = unp.uarray(values, errors)\n",
    "print(\"An array of four uncertain numbers\")\n",
    "print(array2)\n",
    "\n",
    "array1 = array1 * a\n",
    "print(\"The first array multiplied by another uncertain value\")\n",
    "print(array1)\n",
    "\n",
    "array2 = unp.log10(array2)\n",
    "print(\"The second array with a log10() function applied\")\n",
    "print(array2)\n"
   ]
  },
  {
   "cell_type": "markdown",
   "metadata": {},
   "source": [
    "## Extracting Values from Uncertainties\n",
    "\n",
    "If you need to get the **nominal value** or the **uncertainty** from an *Uncertainties* object then you can use the `un.nominal_value()` and the `un.std_dev()` functions as demonstrated below.\n",
    "\n",
    "For *NumPy* arrays of uncertain values we would use `unp.nominal_values()` and `unp.std_devs()` to get arrays of the values and errors"
   ]
  },
  {
   "cell_type": "code",
   "execution_count": 10,
   "metadata": {
    "tags": [
     "hide-input",
     "hide-output"
    ]
   },
   "outputs": [
    {
     "name": "stdout",
     "output_type": "stream",
     "text": [
      "An uncertain value followed by the nominal and the error components\n",
      "4.2+/-0.9\n",
      "4.2\n",
      "0.9\n",
      "An uncertain array followed by the nominal and the error components\n",
      "[0.5314789170422551+/-0.025546734229603046\n",
      " 0.8808135922807914+/-0.0971448183204642\n",
      " 0.9493900066449128+/-0.01951885311924727\n",
      " 1.0128372247051722+/-0.046380964086755044]\n",
      "[0.53147892 0.88081359 0.94939001 1.01283722]\n",
      "[0.02554673 0.09714482 0.01951885 0.04638096]\n"
     ]
    }
   ],
   "source": [
    "### Access the parts of an uncertain number\n",
    "\n",
    "print(\"An uncertain value followed by the nominal and the error components\")\n",
    "print(a)\n",
    "print(un.nominal_value(a))\n",
    "print(un.std_dev(a))\n",
    "\n",
    "print(\"An uncertain array followed by the nominal and the error components\")\n",
    "print(array2)\n",
    "print(unp.nominal_values(array2))\n",
    "print(unp.std_devs(array2))\n"
   ]
  },
  {
   "cell_type": "markdown",
   "metadata": {},
   "source": [
    "## Summary\n",
    "\n",
    "You can **create values that include uncertainty and propagate that uncertainty** through your calculations using the *Uncertainties* package. Uncertain values can used singly or in arrays."
   ]
  }
 ],
 "metadata": {
  "kernelspec": {
   "display_name": "base",
   "language": "python",
   "name": "python3"
  },
  "language_info": {
   "codemirror_mode": {
    "name": "ipython",
    "version": 3
   },
   "file_extension": ".py",
   "mimetype": "text/x-python",
   "name": "python",
   "nbconvert_exporter": "python",
   "pygments_lexer": "ipython3",
   "version": "3.11.4"
  }
 },
 "nbformat": 4,
 "nbformat_minor": 2
}
