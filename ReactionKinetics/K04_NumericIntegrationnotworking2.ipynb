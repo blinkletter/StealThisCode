{
 "cells": [
  {
   "cell_type": "markdown",
   "metadata": {},
   "source": [
    "## Numeric Integration\n",
    "\n",
    "What does the reaction progress of enzyme kinetics look like over a long stretch of time, far past the initial rate from which we have not yet dared stray? The math is similar to the case of the steady-state kinetic scheme above. However, in the MM system, one of the reactants, the enzyme, is present at limiting quanties ($[E]_t \\ll [S]_t$) and this case gives rise to the famous Michaleis-Menten equation.\n",
    "\n",
    "First we state the model scheme for the reaction.\n",
    "\n",
    "$$ E + S\\rightleftharpoons ES \\rightarrow P$$\n",
    "\n",
    "And could be expressed with the following reactions.\n",
    "\n",
    "$$E + S \\xrightarrow{k_1} ES \\\\ \n",
    "ES \\xrightarrow{k_{-1}}  E + S\\\\\n",
    "ES \\xrightarrow{k_{cat}} P + E$$\n",
    "\n",
    "If we ensure that $[E]_t \\ll [S]_t$ then we can derive the famous Michaleis-Menten equation.\n",
    "\n",
    "$$\\nu = k_{cat}[E]_t\\frac{[S]_t}{K_M+[S]_t}$$\n",
    "\n",
    "\n",
    "\n",
    "This equation can be integrated analytically using advanced mathematical methods that you will likely never care to learn. I certainly have no clue how to integrate anything but the simplest equations. So, yes, you will never use calculus again in your life but only because others have done the calculus for you already. Understanding the basics of calculus is important if you are to properly stand on the shoulders of mathematicians. The analytical integration was demonstrated in the previous notebook.\n",
    "\n",
    "In this notebook will not use analytical methods but instead use the numerical algorithms encapsulated the Python tools. We will use `scipy.integration.odeint()`.\n",
    "\n",
    "## Using *odient*\n",
    "\n",
    "The `scipy.integration.odeint()` function will perform a numeric integration of ordinary differential equations. It is simpler to set up than the analytical integration and, in well behaved cases, is very acurate. Let us perform a numerical integration of the Michaelis-Menten system. We can then compare the results with the analytical method.\n",
    "\n",
    "The code below calculates the instantaneous rate for each elementary reaction in the Michaelis-Menten system and then integrates the whole system using numerical methods. Using the reaction scheme outlined above we can define the following rates at a given moment in time.\n",
    "\n",
    "$$r_s = \\frac{d}{dt}[S]= -(k_1 [S][E])+(k_{-1}[ES])$$\n",
    "\n",
    "$$r_e = \\frac{d}{dt}[E] = -(k_1 [S][E])+(k_{-1}[ES])+(k_{cat}  [ES])$$\n",
    "\n",
    "$$r_{es} = \\frac{d}{dt}[ES] = (k_1 [S][E])-(k_{cat}[ES])-(k_{-1}  [ES])$$\n",
    "    \n",
    "$$r_p = \\frac{d}{dt}[P] = k_{cat} [ES]$$\n",
    "\n",
    "If we know the values of [S], [E] and [ES] at a given moment in time then we can easily calculate the rate of change in each using the above equation. There is only one place where we know these values for sure an that is at time zero. So we start there, calculate the rates, calculate the changes after an infinitesimal amount of time and then start again with the new concentrations and repeat endlessly. Obviously there are mathematical approaches to this and they all use various methods to minimize the error caused when the time step used is anything greater than $\\frac{1}{\\infty}$.\n",
    "\n",
    "So we know that the numerical approach should be close to the true answer but can never be exact. The analytical method is exact but, as we saw, is very difficult with some kinds of equations."
   ]
  },
  {
   "cell_type": "code",
   "execution_count": 59,
   "metadata": {},
   "outputs": [
    {
     "name": "stdout",
     "output_type": "stream",
     "text": [
      "Km: 0.00101 M\n",
      "Vmax: 66000.00 uM min\n",
      "kcat/Km: 9.9010e+04\n"
     ]
    },
    {
     "data": {
      "text/plain": [
       "[<matplotlib.lines.Line2D at 0x13f6aa5d0>]"
      ]
     },
     "execution_count": 59,
     "metadata": {},
     "output_type": "execute_result"
    },
    {
     "data": {
      "image/png": "[encoded data removed]",
      "text/plain": [
       "<Figure size 640x480 with 1 Axes>"
      ]
     },
     "metadata": {},
     "output_type": "display_data"
    }
   ],
   "source": [
    "#######################\n",
    "### import packages ###\n",
    "#######################\n",
    "\n",
    "import numpy as np\n",
    "from scipy.integrate import solve_ivp\n",
    "from scipy.integrate import odeint\n",
    "import matplotlib.pyplot as plt\n",
    "\n",
    "def rates(t, c, K1, K_1, Kcat):\n",
    "\n",
    "    S = c[0]; E = c[1]; ES = c[2]  # assign initial conc. from input list c\n",
    "\n",
    "    r_s = -K1 * c[0] * c[1] + K_1 * c[2]             # rates of each reaction step with give concentration in list c\n",
    "    r_e = -K1 * c[0] * c[1] + K_1 * c[2] + Kcat * c[2]\n",
    "    r_es = K1 * c[0] * c[1] - K_1 * c[2] - Kcat * c[2]\n",
    "    r_p = Kcat * c[2]\n",
    "    return [r_s, r_e, r_es, r_p]\n",
    "\n",
    "\n",
    "############################################\n",
    "### Create a function that describes the ###\n",
    "### rates of all reactions in the system ###\n",
    "############################################\n",
    "\n",
    "k1 = 1E7\n",
    "k_1 = 1E4\n",
    "kcat = 1E2\n",
    "E_conc = 0.000011\n",
    "S_conc = 0.05\n",
    "\n",
    "KM_model = (k_1 + kcat)/k1\n",
    "\n",
    "print(f\"Km: {KM_model:0.5f} M\")\n",
    "print(f\"Vmax: {kcat*E_conc*1E6*60:0.2f} uM min\")\n",
    "print(f\"kcat/Km: {kcat/KM_model:0.4e}\")\n",
    "\n",
    "\n",
    "initial = [S_conc, E_conc, 0, 0]\n",
    "\n",
    "cc = solve_ivp(rates, [0,100], \n",
    "               initial, \n",
    "               method=\"RK45\",\n",
    "#               t_eval=np.arange(0,100,1), \n",
    "               args=[k1,k_1,kcat] \n",
    "               )\n",
    "\n",
    "time = cc['t']\n",
    "#print(len(time), time)\n",
    "yarray = cc['y']\n",
    "#print(len(yarray))\n",
    "\n",
    "plt.plot(time,yarray[2])\n",
    "plt.plot(time,yarray[0]/50)\n",
    "\n",
    "fractionES = E_conc*yarray[0]/(KM_model+yarray[0])\n",
    "plt.plot(time,fractionES)\n",
    "\n",
    "\n",
    "\n",
    "\n",
    "\n",
    "#fig.savefig(\"plot.pdf\")   # use this to save the figure in PDF format\n",
    "#plt.show()                 # output the combined four plots"
   ]
  },
  {
   "cell_type": "code",
   "execution_count": 48,
   "metadata": {},
   "outputs": [
    {
     "name": "stdout",
     "output_type": "stream",
     "text": [
      "0.009999271778926098\n"
     ]
    }
   ],
   "source": [
    "print(yarray[2][3])"
   ]
  },
  {
   "cell_type": "code",
   "execution_count": null,
   "metadata": {},
   "outputs": [],
   "source": []
  }
 ],
 "metadata": {
  "kernelspec": {
   "display_name": "base",
   "language": "python",
   "name": "python3"
  },
  "language_info": {
   "codemirror_mode": {
    "name": "ipython",
    "version": 3
   },
   "file_extension": ".py",
   "mimetype": "text/x-python",
   "name": "python",
   "nbconvert_exporter": "python",
   "pygments_lexer": "ipython3",
   "version": "3.11.4"
  }
 },
 "nbformat": 4,
 "nbformat_minor": 2
}
