{
 "cells": [
  {
   "cell_type": "markdown",
   "metadata": {},
   "source": [
    "# Integrating thye M ichaelis-Menten rate Law\n",
    "\n",
    "Some rate laws are not easily integrated without very advanced mathematics. For example, below is the rate law for an enzyme catalyzed reaction (the famous Michaelis-Menten equation) and its analytical intergrated form...\n",
    "\n",
    "$$-\\frac{d[S]}{dt} = V_{max}\\frac{[S]}{K_M + [S]} $$\n",
    "\n",
    "$$-\\int_{[S]_0}^{[S]t}\\frac{K_M + [S]}{[S]}{d[S]} = \\int_{0}^{t}V_{max}dt   $$\n",
    "\n",
    "\n",
    "$$ [S]_t = K_M \\cdot {W}(\\frac{[S]_0}{K_M} e^{\\frac{[S]_0-V_{max}t}{K_M}}) $$\n",
    "\n",
    "...where '$W$' is the Lambert function. The Lambert function is defined as a function satisfying $W(z)e^{W(z)} = z$\n",
    "\n",
    "## Symbolic Integration\n",
    "\n",
    "Let us attempt to solve the differential equation for the Michaelis-Menten equation. As before we will define the reaction progress as the amount of substrate consumed, $x$. We can then say that...\n",
    "\n",
    "$$ [S] = [S]_0 - x $$\n",
    "\n",
    "This enables us to solve the differential equation for x.\n",
    "\n",
    "$$-\\frac{d}{dt}([S]_0 - x) = V_{max}\\frac{[S]_0 - x}{K_M + [S]_0 - x} $$\n",
    "\n",
    "$$\\frac{dx}{dt} = V_{max}\\frac{[S]_0 - x}{K_M + [S]_0 - x} $$\n",
    "\n",
    "Now we will apply the integration..\n",
    "\n",
    "$$-\\int_{0}^{x_t}\\frac{K_M + [S]_0 - x}{[S]_0 - x}{dx} = \\int_{0}^{t}V_{max}dt   $$\n",
    "\n",
    "I have no skills to even begin to approach solving this integration. Fortunately *SymPy* will do it for me (I hope). Try the code below.\n"
   ]
  },
  {
   "cell_type": "code",
   "execution_count": 93,
   "metadata": {
    "tags": [
     "hide-input"
    ]
   },
   "outputs": [
    {
     "name": "stdout",
     "output_type": "stream",
     "text": [
      "The initial differential equation is...\n"
     ]
    },
    {
     "data": {
      "text/latex": [
       "$\\displaystyle \\frac{d}{d t} \\left(- S_{t}\\right) = \\frac{S_{t} V_{max}}{K_{M} + S_{t}}$"
      ],
      "text/plain": [
       "Eq(Derivative(-S_t, t), S_t*V_{max}/(K_M + S_t))"
      ]
     },
     "metadata": {},
     "output_type": "display_data"
    },
    {
     "name": "stdout",
     "output_type": "stream",
     "text": [
      "After substituting the differential equation is...\n"
     ]
    },
    {
     "data": {
      "text/latex": [
       "$\\displaystyle \\frac{\\partial}{\\partial t} \\left(- S_{0} + x_{t}{\\left(t \\right)}\\right) = \\frac{V_{max} \\left(S_{0} - x_{t}{\\left(t \\right)}\\right)}{K_{M} + S_{0} - x_{t}{\\left(t \\right)}}$"
      ],
      "text/plain": [
       "Eq(Derivative(-S_0 + x_t(t), t), V_{max}*(S_0 - x_t(t))/(K_M + S_0 - x_t(t)))"
      ]
     },
     "metadata": {},
     "output_type": "display_data"
    },
    {
     "name": "stdout",
     "output_type": "stream",
     "text": [
      "The integrated equation starting at x=0 when t=0 is...\n"
     ]
    },
    {
     "data": {
      "text/latex": [
       "$\\displaystyle x_{t}{\\left(t \\right)} = - K_{M} W\\left(- \\frac{e^{\\frac{K_{M} \\log{\\left(- S_{0} \\right)} + S_{0} - V_{max} t}{K_{M}}}}{K_{M}}\\right) + S_{0}$"
      ],
      "text/plain": [
       "Eq(x_t(t), -K_M*LambertW(-exp((K_M*log(-S_0) + S_0 - V_{max}*t)/K_M)/K_M) + S_0)"
      ]
     },
     "metadata": {},
     "output_type": "display_data"
    }
   ],
   "source": [
    "import sympy as sym\n",
    "\n",
    "t = sym.symbols('t')           ### create x as a 'symbol', not a variable\n",
    "Vmax = sym.symbols('V_{max}')  ### create k as a 'symbol'\n",
    "St = sym.symbols('S_t')        ### create At as a 'symbol'\n",
    "S0 = sym.symbols('S_0')        ### create A0 as a 'symbol'\n",
    "KM = sym.symbols('K_M')\n",
    "\n",
    "xt = sym.Function('x_t')       ### create x as a 'function', not a variable\n",
    "\n",
    "lhs = sym.Derivative(-St, t)   ### Using Derivative function to get differential of A(t) w.r.t. t\n",
    "                               ### could not used At.diff(t) because At is not a function \n",
    "rhs = Vmax*(St/(KM+St))\n",
    "\n",
    "diffeq = sym.Eq(lhs, rhs)      ### create a sympy equation\n",
    "print(\"The initial differential equation is...\")\n",
    "display(diffeq)                ### display that equation\n",
    "\n",
    "diffeq = diffeq.subs({St: (S0 - xt(t))})\n",
    "\n",
    "print(\"After substituting the differential equation is...\")\n",
    "display(diffeq)                ### display that equation\n",
    "\n",
    "\n",
    "print(\"The integrated equation starting at x=0 when t=0 is...\")\n",
    "res = sym.dsolve(diffeq, ics={xt(0): 0})    ### Solve the differential equation. \n",
    "                                            ### Initial condition is x(t) = 0 when t = 0\n",
    "display(res)"
   ]
  },
  {
   "cell_type": "markdown",
   "metadata": {},
   "source": [
    "### Wow!\n",
    "\n",
    "Wow! It worked! We now have an equation for the value of $x$ as a function of $t$. As before, we can replace the rhs of the equation with the expression for $x_t$. In the code above we had stated that...\n",
    "\n",
    "$$ [S]_t = [S]_0 - x_t(t) $$\n",
    "\n",
    "...and so we know that...\n",
    "\n",
    "$$ x_t(t) = [S]_0 - [S]_t $$\n",
    "\n",
    "Let us substitute this into the integrated rate equation using the code below...\n"
   ]
  },
  {
   "cell_type": "code",
   "execution_count": 94,
   "metadata": {
    "tags": [
     "hide-input"
    ]
   },
   "outputs": [
    {
     "data": {
      "text/latex": [
       "$\\displaystyle S_{0} - S_{t} = - K_{M} W\\left(- \\frac{e^{\\frac{K_{M} \\log{\\left(- S_{0} \\right)} + S_{0} - V_{max} t}{K_{M}}}}{K_{M}}\\right) + S_{0}$"
      ],
      "text/plain": [
       "Eq(S_0 - S_t, -K_M*LambertW(-exp((K_M*log(-S_0) + S_0 - V_{max}*t)/K_M)/K_M) + S_0)"
      ]
     },
     "metadata": {},
     "output_type": "display_data"
    },
    {
     "data": {
      "text/latex": [
       "$\\displaystyle S_{0} - S_{t} = - K_{M} W\\left(\\frac{S_{0} e^{\\frac{S_{0} - V_{max} t}{K_{M}}}}{K_{M}}\\right) + S_{0}$"
      ],
      "text/plain": [
       "Eq(S_0 - S_t, -K_M*LambertW(S_0*exp((S_0 - V_{max}*t)/K_M)/K_M) + S_0)"
      ]
     },
     "metadata": {},
     "output_type": "display_data"
    }
   ],
   "source": [
    "### substitute x for So - St\n",
    "eq = res.subs(xt(t), S0-St)\n",
    "display(eq)\n",
    "\n",
    "### Simplify the result\n",
    "eq = sym.simplify(eq)\n",
    "display(eq)"
   ]
  },
  {
   "cell_type": "markdown",
   "metadata": {},
   "source": [
    "SymPy did not fully simplify. Let us finish manually."
   ]
  },
  {
   "cell_type": "code",
   "execution_count": 95,
   "metadata": {
    "tags": [
     "hide-input"
    ]
   },
   "outputs": [
    {
     "data": {
      "text/latex": [
       "$\\displaystyle S_{t} = K_{M} W\\left(\\frac{S_{0} e^{\\frac{S_{0} - V_{max} t}{K_{M}}}}{K_{M}}\\right)$"
      ],
      "text/plain": [
       "Eq(S_t, K_M*LambertW(S_0*exp((S_0 - V_{max}*t)/K_M)/K_M))"
      ]
     },
     "metadata": {},
     "output_type": "display_data"
    }
   ],
   "source": [
    "### Subtract S0 from both sides of the equation\n",
    "eq = sym.Eq(eq.lhs - S0, eq.rhs - S0)\n",
    "\n",
    "### take the negative of both sides of the equation \n",
    "eq = sym.Eq(-eq.lhs, -eq.rhs)\n",
    "\n",
    "display(eq)"
   ]
  },
  {
   "cell_type": "markdown",
   "metadata": {},
   "source": [
    "## Plot with *SymPy*\n",
    "\n",
    "We can plot the function, strange Lambert functiona and all, using `sympy.plotting.plot()`. Consider the code below. Try different substrate consentrations and not the shapoe of the curve. You may have to change the plot limits as you go."
   ]
  },
  {
   "cell_type": "code",
   "execution_count": 96,
   "metadata": {
    "tags": [
     "hide-input",
     "hide-output"
    ]
   },
   "outputs": [
    {
     "name": "stdout",
     "output_type": "stream",
     "text": [
      "The integrated rate law for the MM equation\n"
     ]
    },
    {
     "data": {
      "text/latex": [
       "$\\displaystyle S_{t} = K_{M} W\\left(\\frac{S_{0} e^{\\frac{S_{0} - V_{max} t}{K_{M}}}}{K_{M}}\\right)$"
      ],
      "text/plain": [
       "Eq(S_t, K_M*LambertW(S_0*exp((S_0 - V_{max}*t)/K_M)/K_M))"
      ]
     },
     "metadata": {},
     "output_type": "display_data"
    },
    {
     "name": "stdout",
     "output_type": "stream",
     "text": [
      "The expression that describes A(t) is...\n"
     ]
    },
    {
     "data": {
      "text/latex": [
       "$\\displaystyle S_{t} = 1.5 W\\left(1.29848936070312 e^{- 6.6 t}\\right)$"
      ],
      "text/plain": [
       "Eq(S_t, 1.5*LambertW(1.29848936070312*exp(-6.6*t)))"
      ]
     },
     "metadata": {},
     "output_type": "display_data"
    },
    {
     "data": {
      "image/png": "[encoded data removed]",
      "text/plain": [
       "<Figure size 400x300 with 1 Axes>"
      ]
     },
     "metadata": {},
     "output_type": "display_data"
    }
   ],
   "source": [
    "KM_value = 1.5        ### set KM value\n",
    "Vmax_value = 9.9      ### set Vmax value\n",
    "S0_value = 1.0        ### set initial substrate concentration value\n",
    "\n",
    "time_end = 1          ### The end time\n",
    "n_points = 100        ### number of points - increase if needed\n",
    "\n",
    "xmax = time_end\n",
    "ymax = S0_value\n",
    "\n",
    "print(\"The integrated rate law for the MM equation\")\n",
    "display(eq)                         \n",
    "\n",
    "St_expr = eq.rhs.subs({KM: KM_value,       ### substitute the values into the expression\n",
    "                       Vmax: Vmax_value, \n",
    "                       S0:S0_value})\n",
    "\n",
    "print(\"The expression that describes A(t) is...\")\n",
    "display(sym.Eq(St,St_expr))               ### The expression now has only one variable, t       \n",
    "\n",
    "p = sym.plotting.plot(St_expr, (t,0,time_end),\n",
    "                    line_color='black', \n",
    "                    title='MM reaction Plot',\n",
    "                    xlabel = r\"$t\\;/\\;min$\",\n",
    "                    ylabel = r\"$[S] \\; / \\; mole\\,L^{-1}$\",\n",
    "                    axis = True,\n",
    "                    xlim = (0, xmax),\n",
    "                    ylim = (0, ymax),\n",
    "                    size = (4,3),\n",
    "                    show = False\n",
    ")\n",
    "p.save(\"test.pdf\")\n",
    "p.show()\n"
   ]
  },
  {
   "cell_type": "markdown",
   "metadata": {},
   "source": [
    "## Make It a Function\n",
    "\n",
    "Let us now take this analytical integration of the Michaelis-Menten equation and convert it to a function as we have done previously. Then we can create a set of $x$ and $y$ values and plot the value of the substrate concentration, $[S]$, over time, $t$."
   ]
  },
  {
   "cell_type": "code",
   "execution_count": 97,
   "metadata": {
    "tags": [
     "hide-input",
     "hide-output"
    ]
   },
   "outputs": [
    {
     "name": "stdout",
     "output_type": "stream",
     "text": [
      "The integrated rate law for the MM equation\n"
     ]
    },
    {
     "data": {
      "text/latex": [
       "$\\displaystyle S_{t} = K_{M} W\\left(\\frac{S_{0} e^{\\frac{S_{0} - V_{max} t}{K_{M}}}}{K_{M}}\\right)$"
      ],
      "text/plain": [
       "Eq(S_t, K_M*LambertW(S_0*exp((S_0 - V_{max}*t)/K_M)/K_M))"
      ]
     },
     "metadata": {},
     "output_type": "display_data"
    },
    {
     "data": {
      "image/png": "[encoded data removed]",
      "text/plain": [
       "<Figure size 400x300 with 1 Axes>"
      ]
     },
     "metadata": {},
     "output_type": "display_data"
    }
   ],
   "source": [
    "from matplotlib import pyplot as plt\n",
    "import numpy as np\n",
    "\n",
    "print(\"The integrated rate law for the MM equation\")\n",
    "display(eq)                         \n",
    "\n",
    "##########################\n",
    "### Set up parameters\n",
    "##########################\n",
    "\n",
    "\n",
    "KM_value = 1.5        ### set KM value\n",
    "Vmax_value = 9.9      ### set Vmax value\n",
    "S0_value = 10         ### set initial substrate concentration value\n",
    "\n",
    "time_end = 2          ### The end time\n",
    "n_points = 100        ### number of points - increase if needed\n",
    "\n",
    "xmax = time_end       ### change these as you wish\n",
    "ymax = S0_value\n",
    "\n",
    "##########################\n",
    "### create function and calculate x and y data\n",
    "##########################\n",
    "\n",
    "\n",
    "f = sym.lambdify([t,S0, KM, Vmax], eq2)   ### create function in terms of t, S0, KM and Vmax\n",
    "\n",
    "t_line = np.linspace(0,time_end,n_points)       ### the time points\n",
    "\n",
    "x = t_line                                      ### I always plot x and y so I can more easily reuse plotting code\n",
    "y = f(t_line, S0_value, KM_value, Vmax_value)   ### Calculate y according to the function\n",
    "y = np.real(y)                                  ### the Lambert function produces imaginary numbers. Use on the real component\n",
    "\n",
    "##########################\n",
    "### plot x and y data\n",
    "##########################\n",
    "\n",
    "plt.rcdefaults()     ### resets the plot defaults so we always start in the same place\n",
    "fig, ax = plt.subplots(nrows=1, ncols=1, figsize=(4,3))  \n",
    "\n",
    "ax.plot(x, y,\n",
    "        linestyle = '-',            ### use a line between points\n",
    "        linewidth='0.5',            ### make the line thin\n",
    "        color = 'black',            ### the line is black\n",
    "        zorder = 0                  ### everything is in layer 0 (the bottom layer in this case)\n",
    "        )\n",
    "ax.set( xlabel= r\"$t\\;/\\;min$\", \n",
    "        ylabel=r\"$[S] \\; / \\; mmole\\,L^{-1}$\",\n",
    "        title = \"MM Reaction\",\n",
    "        xlim=[0, xmax],                  \n",
    "        ylim=[0, ymax]      \n",
    "      )\n",
    "\n",
    "ax.spines['right'].set_visible(False)   ### Make right spine invisible\n",
    "ax.spines['top'].set_visible(False)     ### Make top spine invisible\n",
    "ax.spines['left'].set_visible(False)    ### Make left spine invisible\n",
    "ax.spines['bottom'].set_visible(False)  ### Make bottom spine invisible\n",
    "\n",
    "ax.spines.left.set_position(('data',-0.03*xmax))   ### space the spines out by 3%\n",
    "ax.spines.bottom.set_position(('data',-0.03*ymax))\n",
    "\n",
    "#########################################\n",
    "### Output the plot\n",
    "#########################################\n",
    "\n",
    "plt.savefig(\"plot.pdf\", bbox_inches='tight')     ### export the plot as this\n",
    "plt.show() "
   ]
  }
 ],
 "metadata": {
  "kernelspec": {
   "display_name": "base",
   "language": "python",
   "name": "python3"
  },
  "language_info": {
   "codemirror_mode": {
    "name": "ipython",
    "version": 3
   },
   "file_extension": ".py",
   "mimetype": "text/x-python",
   "name": "python",
   "nbconvert_exporter": "python",
   "pygments_lexer": "ipython3",
   "version": "3.11.4"
  }
 },
 "nbformat": 4,
 "nbformat_minor": 2
}
