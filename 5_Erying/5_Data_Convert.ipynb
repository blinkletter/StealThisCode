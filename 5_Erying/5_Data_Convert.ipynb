{
 "cells": [
  {
   "cell_type": "markdown",
   "metadata": {},
   "source": [
    "# Convert Data\n",
    "\n",
    "Some Eyring data sets are not available and I had to digitize plots in papers. Since the plot is $\\ln\\frac{k}{T}$ vs. $\\frac{1}{T}$, those are the number I get.\n",
    "\n",
    "This notebook will convert these numbers to $k$ and $T$ values.\n",
    "\n"
   ]
  },
  {
   "cell_type": "code",
   "execution_count": 3,
   "metadata": {},
   "outputs": [
    {
     "name": "stdout",
     "output_type": "stream",
     "text": [
      "# from \"Correlation Between Structural, Spectroscopic, and Reactivity Properties \n",
      "# Within a Series of Structurally Analogous Metastable Manganese(III)–Alkylperoxo \n",
      "# Complexes\"\n",
      "#\n",
      "# Michael K. Coggins, Vlad Martin-Diaconescu, Serena DeBeer, and Julie A. Kovacs\n",
      "# Journal of the American Chemical Society 2013 135 (11), 4260-4272\n",
      "# http://doi.org/10.1021/ja308915x#\n",
      "# \n",
      "# from Supplementary material. data digitized from plot. Figure S-25\n",
      "# Figure S-25. Eyring plot from the variable-temperature thermal decay kinetics data for 3a in CH2Cl2\n",
      "#\n",
      "\"1/T (K-1)\", \"ln k/T\", \"Error ln k/T\"\n",
      "0.00341,       -11.935,   0.5\n",
      "0.00366,       -13.124,   0.5\n",
      "0.00373,       -13.622,   0.5\n",
      "0.00388,       -15.088,   0.5\n",
      "\n",
      "\n"
     ]
    }
   ],
   "source": [
    "### Setup packagaes and global variables\n",
    "\n",
    "from scipy.optimize import curve_fit     ## tool for curve fitting\n",
    "import scipy                             ## tools for science\n",
    "import numpy as np                       ## import the tools of NumPy but use a shorter name\n",
    "import pandas as pd                      ## import tools for data handling\n",
    "from matplotlib import pyplot as plt     ## tools for plotting\n",
    "\n",
    "import uncertainties as un               ## tool set for handling numbers with uncertainties\n",
    "from uncertainties import unumpy as unp  ## a replacement for numpy that uses uncertainty values\n",
    "from uncertainties import umath as um    ## a replacement for math that uses uncertainty values\n",
    "\n",
    "github_location = \"./\"                   ## Use either local folde or github folder. use github locations for Colab\n",
    "github_location_styles = \"./\"\n",
    "#github_location = \"https://raw.githubusercontent.com/blinkletter/3530Biochem/main/data/\"\n",
    "#github_location_styles = \"https://raw.githubusercontent.com/blinkletter/LFER-QSAR/main/styles/\"\n",
    "\n",
    "datafile = \"data/EryingDataB2.csv\"   # change this file for new data\n",
    "#datafile = \"data/EryingData2.csv\"  \n",
    "\n",
    "with open(datafile, 'r') as file:\n",
    "    file_content = file.read()  # Read the content of the file\n",
    "    print(file_content)         # Print the content"
   ]
  },
  {
   "cell_type": "code",
   "execution_count": 4,
   "metadata": {},
   "outputs": [
    {
     "data": {
      "text/html": [
       "<div>\n",
       "<style scoped>\n",
       "    .dataframe tbody tr th:only-of-type {\n",
       "        vertical-align: middle;\n",
       "    }\n",
       "\n",
       "    .dataframe tbody tr th {\n",
       "        vertical-align: top;\n",
       "    }\n",
       "\n",
       "    .dataframe thead th {\n",
       "        text-align: right;\n",
       "    }\n",
       "</style>\n",
       "<table border=\"1\" class=\"dataframe\">\n",
       "  <thead>\n",
       "    <tr style=\"text-align: right;\">\n",
       "      <th></th>\n",
       "      <th>1/T (K-1)</th>\n",
       "      <th>ln k/T</th>\n",
       "      <th>Error ln k/T</th>\n",
       "    </tr>\n",
       "  </thead>\n",
       "  <tbody>\n",
       "    <tr>\n",
       "      <th>0</th>\n",
       "      <td>0.00341</td>\n",
       "      <td>-11.935</td>\n",
       "      <td>0.5</td>\n",
       "    </tr>\n",
       "    <tr>\n",
       "      <th>1</th>\n",
       "      <td>0.00366</td>\n",
       "      <td>-13.124</td>\n",
       "      <td>0.5</td>\n",
       "    </tr>\n",
       "    <tr>\n",
       "      <th>2</th>\n",
       "      <td>0.00373</td>\n",
       "      <td>-13.622</td>\n",
       "      <td>0.5</td>\n",
       "    </tr>\n",
       "    <tr>\n",
       "      <th>3</th>\n",
       "      <td>0.00388</td>\n",
       "      <td>-15.088</td>\n",
       "      <td>0.5</td>\n",
       "    </tr>\n",
       "  </tbody>\n",
       "</table>\n",
       "</div>"
      ],
      "text/plain": [
       "   1/T (K-1)  ln k/T  Error ln k/T\n",
       "0    0.00341 -11.935           0.5\n",
       "1    0.00366 -13.124           0.5\n",
       "2    0.00373 -13.622           0.5\n",
       "3    0.00388 -15.088           0.5"
      ]
     },
     "metadata": {},
     "output_type": "display_data"
    }
   ],
   "source": [
    "### Read in data set\n",
    "\n",
    "df = pd.read_csv(datafile, \n",
    "                 delimiter = \",\", \n",
    "                 skipinitialspace=True, \n",
    "#                 index_col=\"Substituent\", \n",
    "                 comment = \"#\") \n",
    "display(df.head())"
   ]
  },
  {
   "cell_type": "code",
   "execution_count": 10,
   "metadata": {},
   "outputs": [
    {
     "data": {
      "text/plain": [
       "(0    0.001923\n",
       " 1    0.000546\n",
       " 2    0.000325\n",
       " 3    0.000072\n",
       " dtype: float64,\n",
       " 0    0.001247\n",
       " 1    0.000354\n",
       " 2    0.000211\n",
       " 3    0.000047\n",
       " dtype: float64,\n",
       " 0   -0.000757\n",
       " 1   -0.000215\n",
       " 2   -0.000128\n",
       " 3   -0.000028\n",
       " dtype: float64,\n",
       " 0    0.001002\n",
       " 1    0.000284\n",
       " 2    0.000170\n",
       " 3    0.000038\n",
       " dtype: float64)"
      ]
     },
     "execution_count": 10,
     "metadata": {},
     "output_type": "execute_result"
    }
   ],
   "source": [
    "T = 1/df[\"1/T (K-1)\"]\n",
    "\n",
    "k = np.exp(df[\"ln k/T\"]) * T\n",
    "\n",
    "e_u = np.exp(df[\"ln k/T\"] + df[\"Error ln k/T\"]) * T - k\n",
    "e_d = np.exp(df[\"ln k/T\"] - df[\"Error ln k/T\"]) * T - k\n",
    "\n",
    "e_ave = (abs(e_u) + abs(e_d))/2\n",
    "k, e_u, e_d, e_ave\n"
   ]
  },
  {
   "cell_type": "code",
   "execution_count": null,
   "metadata": {},
   "outputs": [],
   "source": []
  }
 ],
 "metadata": {
  "kernelspec": {
   "display_name": "Python 3",
   "language": "python",
   "name": "python3"
  },
  "language_info": {
   "codemirror_mode": {
    "name": "ipython",
    "version": 3
   },
   "file_extension": ".py",
   "mimetype": "text/x-python",
   "name": "python",
   "nbconvert_exporter": "python",
   "pygments_lexer": "ipython3",
   "version": "3.11.7"
  }
 },
 "nbformat": 4,
 "nbformat_minor": 4
}
