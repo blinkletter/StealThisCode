{
 "cells": [
  {
   "cell_type": "markdown",
   "metadata": {},
   "source": [
    "## Advanced Curve Fitting: Including Correlation\n",
    "\n",
    "Above we used the trick where we determine the parameters near the y-axis and then mutiply by the length of the \"lever arm\" out to the true intercept to provide a correlation between slope and true intercept for the purposes of uncertainty calculations. We could declare the correlation using a correlation matrix. The ```scipy.stats.linregress``` function does not return a covariance matrix but the ```scipy.optimize.curve_fit``` function will.\n",
    "\n",
    "The ```curve_fit``` tool requires a function be declared to which it is to fit the data. We pass this function as well as the data into ```curve_fit``` and a list of fit parameters and a covariance matrix are returned. We can then create the uncertainty values using the covariance matrix and the coupling between slope and intercept should now be built into our ufloat values. \n",
    "\n",
    "The function can be changed and a fit to a different model can be achieved with no other chabges to the code. ```curve_fit``` is my personal favourite for data analysis. At least it was, until ```lmfit``` came into my life (more on that in the next notebook.) Consider the code below."
   ]
  },
  {
   "cell_type": "code",
   "execution_count": null,
   "metadata": {},
   "outputs": [],
   "source": []
  },
  {
   "cell_type": "markdown",
   "metadata": {},
   "source": [
    "## Load the Toolbox\n",
    "\n",
    "In a *Python* notebook we can mix code and text. In the code block below are commands to load the libraries and modules we ill need for this exercise. there are some special commands that are used to run unix xommands directly in the terminal of *Colab* to install *Python* packages that are not available by default. These are \"commented out\" so that they don't run on your own computer should you have downloaded this notebook. You will need to delete the \"hashtag\" comment symbol to use these in *Colab*. Don't worry, you will get an error if you forget that will remind you."
   ]
  },
  {
   "cell_type": "code",
   "execution_count": 83,
   "metadata": {},
   "outputs": [],
   "source": [
    "#!pip install uncertainties              # uncomment to install dependancy\n",
    "\n",
    "from scipy.optimize import curve_fit     # tool for curve fitting\n",
    "import scipy                             # includes tools for data analysis\n",
    "import numpy as np                       # import the tools of NumPy but use a shorter name, \"np\"\n",
    "from matplotlib import pyplot as plt     # tools for plotting\n",
    "\n",
    "\n",
    "import uncertainties as un               # tool set for handling numbers with uncertainties\n",
    "from uncertainties import unumpy as unp  # a replacement for numpy that uses uncertainty values"
   ]
  },
  {
   "cell_type": "markdown",
   "metadata": {},
   "source": [
    "## Perform Linear Curve Fit\n",
    "\n",
    "The code below repeats the exact steps of the previous notebook but uses ```scipy.optimize.curve_fit``` to fit the linear Eyring plot. We will create the uncertain slope and intercept values using the covariance matrix returned from the curve fit function. Compare to the values that were produced from ```scipy.stats.linregress```. They are identical. Both functions used the least squares method and will give the same results. The curve fit function did not calculate the r-value and so I had to use a separate function from the ```scipy.stats``` module to do that."
   ]
  },
  {
   "cell_type": "code",
   "execution_count": 84,
   "metadata": {},
   "outputs": [
    {
     "name": "stdout",
     "output_type": "stream",
     "text": [
      "slope = -5560.07+/-249.08\n",
      "intercept = 15.37+/-0.82\n",
      "rsq = 0.994\n"
     ]
    }
   ],
   "source": [
    "### Experimental data\n",
    "temp = [293, 298, 303, 308, 313]       # list of temperatures\n",
    "k_obs = [7.6, 11.7, 15.2, 21.3, 27.8]  # list of observe rate constants (s^-1)\n",
    "\n",
    "### Convert lists to numpy arrays (enables numpy math tools with these lists)\n",
    "temp = np.array(temp)\n",
    "k_obs = np.array(k_obs)\n",
    "\n",
    "### Calculations for Erying plot axes\n",
    "x = 1/temp\n",
    "y = np.log(k_obs/temp)\n",
    "\n",
    "###  Linear function to be used by curve_fit\n",
    "def linear(x, m, b):\n",
    "    y = m * x + b\n",
    "    return y\n",
    "\n",
    "### Use curve_fit function           # popt is a list of the optimized parameters\n",
    "popt, pcov = curve_fit(linear, x, y)  # pcov is the parameter covariance matrix\n",
    "\n",
    "### Create new ufloat objects from returned parameres and covariance matrix results\n",
    "(slope, intercept) = un.correlated_values(popt, pcov)\n",
    "\n",
    "### print a report using the variables\n",
    "print(f\"slope = {slope:0.2f}\")  \n",
    "print(f\"intercept = {intercept:0.2f}\")  \n",
    "\n",
    "r,p = scipy.stats.pearsonr(x,y)\n",
    "rsq = r ** 2\n",
    "print(f\"rsq = {rsq:0.3f}\")\n",
    "\n"
   ]
  },
  {
   "cell_type": "markdown",
   "metadata": {},
   "source": [
    "### Calculate Thermodynamic Parameters\n",
    "\n",
    "Now that the uncertainty values have been created using the covariance matrix from the ```scipy.optimize.curve_fit``` function we have an uncertain slope and intercept that are properly correlated. From this we can calculate uncertain values for $\\Delta H^\\ddagger$ and $\\Delta S^\\ddagger$ that propagate error correctly AND contain the information about their mutual correlation.\n",
    "\n",
    "Observe that the rate calculated at a given temperature now has a correct confidence range."
   ]
  },
  {
   "cell_type": "code",
   "execution_count": 85,
   "metadata": {},
   "outputs": [
    {
     "name": "stdout",
     "output_type": "stream",
     "text": [
      "The change in enthalpy is 46229.03+/-2070.94 kJ/mole\n",
      "The change in entropy is -69.80+/-6.84 J/mole.K\n",
      "15.31+/-0.29\n",
      "Calculated k at T = 303 K is 15.31+/-0.29 s^-1\n"
     ]
    }
   ],
   "source": [
    "### calculate thermodynamic parameters\n",
    "R = scipy.constants.R\n",
    "kb = scipy.constants.k\n",
    "h = scipy.constants.h\n",
    "kappa = 1\n",
    "\n",
    "dH = -slope * R\n",
    "dS = (intercept - np.log(kb/h)) * R\n",
    "\n",
    "print(f\"The change in enthalpy is {dH:0.2f} kJ/mole\")\n",
    "print(f\"The change in entropy is {dS:0.2f} J/mole.K\")\n",
    "\n",
    "## calculate k from Erying plot parameters.\n",
    "Temp = 303\n",
    "kobs = (kappa * kb / h) * Temp * unp.exp(-dH/(R*Temp)) * unp.exp(dS/R)\n",
    "\n",
    "print(kobs)\n",
    "print(f\"Calculated k at T = {Temp} K is {kobs:0.2f} s^-1\")\n"
   ]
  },
  {
   "cell_type": "markdown",
   "metadata": {},
   "source": [
    "### Plot Curve Fit and Confidence Band\n",
    "\n",
    "Using the properly correlated uncertain values for slope and intercept obtained from the curve fit we can plot the data, the best fit line and the confidence band. And never forget to plot the residuals as well. I have combined the three blocks of code above so that this single block could be copied and used as is."
   ]
  },
  {
   "cell_type": "code",
   "execution_count": 86,
   "metadata": {},
   "outputs": [
    {
     "data": {
      "image/png": "[encoded data removed]",
      "text/plain": [
       "<Figure size 400x300 with 1 Axes>"
      ]
     },
     "metadata": {},
     "output_type": "display_data"
    },
    {
     "data": {
      "image/png": "[encoded data removed]",
      "text/plain": [
       "<Figure size 400x100 with 1 Axes>"
      ]
     },
     "metadata": {},
     "output_type": "display_data"
    }
   ],
   "source": [
    "### calculate y-values using best fit parameters\n",
    "#x_0 = np.linspace(0,np.max(x),100)              # for plotting from zero\n",
    "x_0 = x                                          # using the data x values\n",
    "best_fit_y = slope_unc * x_0 + intercept_unc     # uncertain array of line fit\n",
    "\n",
    "### Plot data and line-fit\n",
    "plt.plot(x,y,\"ko\")                                # plot data with black circle\n",
    "plt.plot(x_0,unp.nominal_values(best_fit_y),\"k-\") # plot fit line with black line from zero\n",
    "\n",
    "#### Create Confidence band upper and lower bounds\n",
    "sigma = 2\n",
    "\n",
    "# upper and lower bounds of uncertain kobs as float values\n",
    "fit_up = unp.nominal_values(best_fit_y) + unp.std_devs(best_fit_y) * sigma\n",
    "fit_dn = unp.nominal_values(best_fit_y) - unp.std_devs(best_fit_y) * sigma\n",
    "\n",
    "# make filled band\n",
    "plt.fill_between(x_0, fit_up, fit_dn, \n",
    "                   color=\"lightgray\", alpha=0.4, zorder = 0,\n",
    "                   label=\"confidence interval\")\n",
    "plt.show()                                       # show plot (and clear)\n",
    "\n",
    "### Plot the residuals\n",
    "residuals = y - unp.nominal_values(best_fit_y)   # difference between data and line-fit\n",
    "plt.figure().set_figheight(1)                    # set plot height to 1 inch\n",
    "plt.plot(x,residuals,\"ko\")\n",
    "plt.axhline(0, color='lightgray')                  # plot a horizontal line\n",
    "plt.show()\n",
    "\n"
   ]
  },
  {
   "cell_type": "markdown",
   "metadata": {},
   "source": [
    "###"
   ]
  },
  {
   "cell_type": "markdown",
   "metadata": {},
   "source": [
    "## Using Experimental Error\n",
    "\n",
    "Quite often the experimental error is reported for values. We can include this in the curve fit. Points with greater error will have less weight in the curve fit. Observe the code below and note the one small change that included experimental error. Also, look for the added plot command that added error bars to the plot. Otherwise its all the same.\n",
    "\n",
    "The results changed slightly, reflecting the relative confidence in each data point."
   ]
  },
  {
   "cell_type": "code",
   "execution_count": 87,
   "metadata": {},
   "outputs": [
    {
     "name": "stdout",
     "output_type": "stream",
     "text": [
      "slope = -5545.86+/-277.78\n",
      "intercept = 15.31+/-0.92\n",
      "rsq = 0.994\n",
      "The change in enthalpy is 46110.87+/-2309.56 kJ/mole\n",
      "The change in entropy is -70.24+/-7.63 J/mole.K\n",
      "15.22+/-0.15\n",
      "Calculated k at T = 303 K is 15.22+/-0.15 s^-1\n"
     ]
    },
    {
     "data": {
      "image/png": "[encoded data removed]",
      "text/plain": [
       "<Figure size 400x300 with 1 Axes>"
      ]
     },
     "metadata": {},
     "output_type": "display_data"
    },
    {
     "data": {
      "image/png": "[encoded data removed]",
      "text/plain": [
       "<Figure size 400x100 with 1 Axes>"
      ]
     },
     "metadata": {},
     "output_type": "display_data"
    }
   ],
   "source": [
    "######################\n",
    "### Experimental data with error\n",
    "######################\n",
    "\n",
    "temp = [293, 298, 303, 308, 313]       # list of temperatures\n",
    "\n",
    "k_obs = [7.6, 11.7, 15.2, 21.3, 27.8]  # list of observe rate constants (s^-1)\n",
    "k_obs_err= [0.2 , 0.3, 0.1, 0.9, 0.9]  # list of standard deviations for data\n",
    "\n",
    "\n",
    "\n",
    "### Convert lists to numpy arrays (enables numpy math tools with these lists)\n",
    "temp = np.array(temp)\n",
    "k_obs = unp.uarray(k_obs, k_obs_err)   # make an array of ufloat values\n",
    "\n",
    "### Calculations for Erying plot axes\n",
    "x = 1/temp\n",
    "y_u = unp.log(k_obs/temp)   # y_u is now an array of ufloats\n",
    "\n",
    "y = unp.nominal_values(y_u) # extract arrays of nominal values and errors\n",
    "y_err = unp.std_devs(y_u)   # because curve_fit can handle ufloats\n",
    "\n",
    "###  Linear function to be used by curve_fit\n",
    "def linear(x, m, b):\n",
    "    y = m * x + b\n",
    "    return y\n",
    "\n",
    "### Use curve_fit function           \n",
    "popt, pcov = curve_fit(linear, x, y, sigma = y_err)  # use exp error\n",
    "\n",
    "### Create new ufloat objects from returned parameres and covariance matrix results\n",
    "(slope, intercept) = un.correlated_values(popt, pcov)\n",
    "\n",
    "### print a report using the variables\n",
    "print(f\"slope = {slope:0.2f}\")  \n",
    "print(f\"intercept = {intercept:0.2f}\")  \n",
    "\n",
    "r,p = scipy.stats.pearsonr(x,y)\n",
    "rsq = r ** 2\n",
    "print(f\"rsq = {rsq:0.3f}\")\n",
    "\n",
    "######################\n",
    "### calculate thermodynamic parameters\n",
    "######################\n",
    "\n",
    "R = scipy.constants.R\n",
    "kb = scipy.constants.k\n",
    "h = scipy.constants.h\n",
    "kappa = 1\n",
    "\n",
    "dH = -slope * R\n",
    "dS = (intercept - np.log(kb/h)) * R\n",
    "\n",
    "print(f\"The change in enthalpy is {dH:0.2f} kJ/mole\")\n",
    "print(f\"The change in entropy is {dS:0.2f} J/mole.K\")\n",
    "\n",
    "## calculate k from Erying plot parameters.\n",
    "Temp = 303\n",
    "kobs = (kappa * kb / h) * Temp * unp.exp(-dH/(R*Temp)) * unp.exp(dS/R)\n",
    "\n",
    "print(kobs)\n",
    "print(f\"Calculated k at T = {Temp} K is {kobs:0.2f} s^-1\")\n",
    "\n",
    "######################\n",
    "### Plots\n",
    "######################\n",
    "\n",
    "### calculate y-values using best fit parameters\n",
    "#x_0 = np.linspace(0,np.max(x),100)              # for plotting from zero\n",
    "x_0 = x                                          # using the data x values\n",
    "best_fit_y = slope_unc * x_0 + intercept_unc     # uncertain array of line fit\n",
    "\n",
    "### Plot data and line-fit\n",
    "plt.plot(x,y,\"ko\")                                # plot data with black circle\n",
    "plt.plot(x_0,unp.nominal_values(best_fit_y),\"k-\") # plot fit line with black line from zero\n",
    "\n",
    "#### Create Confidence band upper and lower bounds\n",
    "sigma = 2\n",
    "\n",
    "# upper and lower bounds of uncertain kobs as float values\n",
    "fit_up = unp.nominal_values(best_fit_y) + unp.std_devs(best_fit_y) * sigma\n",
    "fit_dn = unp.nominal_values(best_fit_y) - unp.std_devs(best_fit_y) * sigma\n",
    "\n",
    "# make filled band\n",
    "plt.fill_between(x_0, fit_up, fit_dn, \n",
    "                   color=\"lightgray\", alpha=0.4, zorder = 0,\n",
    "                   label=\"confidence interval\")\n",
    "\n",
    "plt.errorbar(x, y, yerr=y_err * sigma, xerr=None, fmt=\"None\", ecolor=\"red\", zorder=1)\n",
    "\n",
    "\n",
    "plt.show()                                       # show plot (and clear)\n",
    "\n",
    "\n",
    "### Plot the residuals\n",
    "residuals = y - unp.nominal_values(best_fit_y)   # difference between data and line-fit\n",
    "plt.figure().set_figheight(1)                    # set plot height to 1 inch\n",
    "plt.plot(x,residuals,\"ko\")\n",
    "plt.axhline(0, color='lightgray')                  # plot a horizontal line\n",
    "plt.show()\n",
    "\n"
   ]
  },
  {
   "cell_type": "markdown",
   "metadata": {},
   "source": []
  },
  {
   "cell_type": "markdown",
   "metadata": {},
   "source": [
    "## Get Bent\n",
    "\n",
    "We have used the ```scipy.optimize.curve_fit``` dunction to fit an arbitrary function (in this case a linear function) taking into account experimental error. The uncertainties tools handled the error propagation in making the Erying plot and also allowed the creation of properly correlated fit parameters using the parameter list and the covarienace matrix returns by the curve fit function.\n",
    "\n",
    "Many people feel that linearization fo a function is a relic of a bygone error when graph paper reigned supreme. We should fit the Erying equation directly by ploting rate constants vs temperature. Let us adapt the code above to plot $k_{cat}$ vs $T$ and fit this directly to the curved Erying equation...\n",
    "\n",
    "$$ k = \\frac{\\kappa k_B}{h} T e^{\\frac{-\\Delta H^\\ddagger}{RT}}e^{\\frac{\\Delta S^\\ddagger}{R}}$$\n",
    "\n",
    "... to obtain $\\Delta H^\\ddagger$ and $\\Delta S^\\ddagger$ direcly from the curve fit.\n",
    "\n",
    "As you will see, we do not get any improvement in the quality fo the calculated thermodynamic values. This is because the linearization did not cause any large changes in the covarience between $x$ and $y$ (unlike the Michaelis-Menten plot vs. the linear Lineweaver-Burke plot, where linearization is a statistical nightmare.) \n",
    "\n",
    "Below is code that will accomplish a non-linear curve fit of the Eyring equation."
   ]
  },
  {
   "cell_type": "code",
   "execution_count": 88,
   "metadata": {},
   "outputs": [
    {
     "name": "stdout",
     "output_type": "stream",
     "text": [
      "rsq = 0.983\n",
      "The change in enthalpy is 46263.77+/-2236.64 kJ/mole\n",
      "The change in entropy is -69.74+/-7.39 J/mole.K\n",
      "Calculated k at T = 303 K is 15.22+/-0.15 s^-1\n"
     ]
    },
    {
     "data": {
      "image/png": "[encoded data removed]",
      "text/plain": [
       "<Figure size 400x300 with 1 Axes>"
      ]
     },
     "metadata": {},
     "output_type": "display_data"
    },
    {
     "data": {
      "image/png": "[encoded data removed]",
      "text/plain": [
       "<Figure size 400x100 with 1 Axes>"
      ]
     },
     "metadata": {},
     "output_type": "display_data"
    }
   ],
   "source": [
    "######################\n",
    "### Experimental data with error\n",
    "######################\n",
    "\n",
    "temp = [293, 298, 303, 308, 313]       # list of temperatures\n",
    "k_obs = [7.6, 11.7, 15.2, 21.3, 27.8]  # list of observe rate constants (s^-1)\n",
    "k_obs_err= [0.2 , 0.3, 0.1, 0.9, 0.9]  # list of standard deviations for data\n",
    "\n",
    "### Convert lists to numpy arrays (enables numpy math tools with these lists)\n",
    "temp = np.array(temp)\n",
    "k_obs = unp.uarray(k_obs, k_obs_err)   # make an array of ufloat values\n",
    "\n",
    "x = temp\n",
    "y = unp.nominal_values(k_obs) # extract arrays of nominal values and errors\n",
    "y_err = unp.std_devs(k_obs)   # because curve_fit can handle ufloats\n",
    "\n",
    "######################\n",
    "###  Function to be used by curve_fit\n",
    "######################\n",
    "def eyring(T, dH, dS):       # function for curve fit. No uncertainty allowed\n",
    "    \n",
    "    R = scipy.constants.R\n",
    "    kb = scipy.constants.k\n",
    "    h = scipy.constants.h\n",
    "    kappa = 1\n",
    "\n",
    "    y = (kappa * kb / h) * T * np.exp(-dH/(R*T)) * np.exp(dS/R)\n",
    "    return y\n",
    "\n",
    "def eyring_u(T, dH, dS):     # same function as above but uses uncertainty\n",
    "                             # to be used when calculating confidence bands.\n",
    "    R = scipy.constants.R\n",
    "    kb = scipy.constants.k\n",
    "    h = scipy.constants.h\n",
    "    kappa = 1\n",
    "\n",
    "    y = (kappa * kb / h) * T * unp.exp(-dH/(R*T)) * unp.exp(dS/R)\n",
    "    return y\n",
    "\n",
    "######################\n",
    "### Use curve_fit function           \n",
    "######################\n",
    "popt, pcov = curve_fit(eyring, x, y, sigma = y_err)  # use exp error\n",
    "\n",
    "### Create new ufloat objects from returned parameres and covariance matrix results\n",
    "(dH, dS) = un.correlated_values(popt, pcov)\n",
    "\n",
    "######################\n",
    "### REPORT\n",
    "######################\n",
    "r,p = scipy.stats.pearsonr(x,y)\n",
    "rsq = r ** 2\n",
    "print(f\"rsq = {rsq:0.3f}\")\n",
    "\n",
    "print(f\"The change in enthalpy is {dH:0.2f} kJ/mole\")\n",
    "print(f\"The change in entropy is {dS:0.2f} J/mole.K\")\n",
    "\n",
    "## calculate k from Erying plot parameters.\n",
    "Temp = 303\n",
    "kobs = (kappa * kb / h) * Temp * unp.exp(-dH/(R*Temp)) * unp.exp(dS/R)\n",
    "print(f\"Calculated k at T = {Temp} K is {kobs:0.2f} s^-1\")\n",
    "\n",
    "######################\n",
    "### Plots\n",
    "######################\n",
    "plt.plot(x,y,\"ko\")                                # plot data with black circle\n",
    "\n",
    "### calculate y-values using best fit parameters\n",
    "#x_0 = np.linspace(1,np.max(x),100)              # for plotting from zero\n",
    "x_0 = np.linspace(np.min(x),np.max(x),100)       # for plotting from zero\n",
    "best_fit_y = eyring_u(x_0, dH, dS)     # uncertain array of line fit\n",
    "\n",
    "### Plot line-fit\n",
    "plt.plot(x_0,unp.nominal_values(best_fit_y),\"k-\") # plot fit line with black line from zero\n",
    "\n",
    "######################\n",
    "#### Create Confidence band upper and lower bounds\n",
    "######################\n",
    "sigma = 2\n",
    "\n",
    "# upper and lower bounds of uncertain kobs as float values\n",
    "fit_up = unp.nominal_values(best_fit_y) + unp.std_devs(best_fit_y) * sigma\n",
    "fit_dn = unp.nominal_values(best_fit_y) - unp.std_devs(best_fit_y) * sigma\n",
    "\n",
    "# make filled band\n",
    "plt.fill_between(x_0, fit_up, fit_dn, \n",
    "                   color=\"lightgray\", alpha=0.4, zorder = 0,\n",
    "                   label=\"confidence interval\")\n",
    "\n",
    "plt.errorbar(x, y, yerr=y_err * sigma, xerr=None, fmt=\"None\", ecolor=\"black\", zorder=2)\n",
    "plt.show()                                       # show plot (and clear)\n",
    "\n",
    "######################\n",
    "### Plot the residuals\n",
    "######################\n",
    "residuals = y - eyring(x, dH.n, dS.n)      # difference between data and line-fit\n",
    "plt.figure().set_figheight(1)              # set plot height to 1 inch\n",
    "plt.plot(x,residuals,\"ko\")\n",
    "plt.axhline(0, color='lightgray')          # plot a horizontal line\n",
    "plt.show()"
   ]
  },
  {
   "cell_type": "code",
   "execution_count": null,
   "metadata": {},
   "outputs": [],
   "source": []
  },
  {
   "cell_type": "code",
   "execution_count": 96,
   "metadata": {},
   "outputs": [
    {
     "name": "stdout",
     "output_type": "stream",
     "text": [
      "rsq = 0.983\n",
      "The change in enthalpy is 46263.77+/-2236.64 kJ/mole\n",
      "The change in entropy is -69.74+/-7.39 J/mole.K\n",
      "Calculated k at T = 303 K is 15.22+/-0.15 s^-1\n"
     ]
    },
    {
     "data": {
      "image/png": "[encoded data removed]",
      "text/plain": [
       "<Figure size 400x500 with 2 Axes>"
      ]
     },
     "metadata": {},
     "output_type": "display_data"
    }
   ],
   "source": [
    "######################\n",
    "### Experimental data with error\n",
    "######################\n",
    "\n",
    "temp = [293, 298, 303, 308, 313]       # list of temperatures\n",
    "k_obs = [7.6, 11.7, 15.2, 21.3, 27.8]  # list of observe rate constants (s^-1)\n",
    "k_obs_err= [0.2 , 0.3, 0.1, 0.9, 0.9]  # list of standard deviations for data\n",
    "\n",
    "### Convert lists to numpy arrays (enables numpy math tools with these lists)\n",
    "temp = np.array(temp)\n",
    "k_obs = unp.uarray(k_obs, k_obs_err)   # make an array of ufloat values\n",
    "\n",
    "x = temp\n",
    "y = unp.nominal_values(k_obs) # extract arrays of nominal values and errors\n",
    "y_err = unp.std_devs(k_obs)   # because curve_fit can handle ufloats\n",
    "\n",
    "######################\n",
    "###  Function to be used by curve_fit\n",
    "######################\n",
    "def eyring(T, dH, dS):       # function for curve fit. No uncertainty allowed\n",
    "    \n",
    "    R = scipy.constants.R\n",
    "    kb = scipy.constants.k\n",
    "    h = scipy.constants.h\n",
    "    kappa = 1\n",
    "\n",
    "    y = (kappa * kb / h) * T * np.exp(-dH/(R*T)) * np.exp(dS/R)\n",
    "    return y\n",
    "\n",
    "def eyring_u(T, dH, dS):     # same function as above but uses uncertainty\n",
    "                             # to be used when calculating confidence bands.\n",
    "    R = scipy.constants.R\n",
    "    kb = scipy.constants.k\n",
    "    h = scipy.constants.h\n",
    "    kappa = 1\n",
    "\n",
    "    y = (kappa * kb / h) * T * unp.exp(-dH/(R*T)) * unp.exp(dS/R)\n",
    "    return y\n",
    "\n",
    "######################\n",
    "### Use curve_fit function           \n",
    "######################\n",
    "popt, pcov = curve_fit(eyring, x, y, sigma = y_err)  # use exp error\n",
    "\n",
    "### Create new ufloat objects from returned parameres and covariance matrix results\n",
    "(dH, dS) = un.correlated_values(popt, pcov)\n",
    "\n",
    "######################\n",
    "### REPORT\n",
    "######################\n",
    "r,p = scipy.stats.pearsonr(x,y)\n",
    "rsq = r ** 2\n",
    "print(f\"rsq = {rsq:0.3f}\")\n",
    "\n",
    "print(f\"The change in enthalpy is {dH:0.2f} kJ/mole\")\n",
    "print(f\"The change in entropy is {dS:0.2f} J/mole.K\")\n",
    "\n",
    "## calculate k from Erying plot parameters.\n",
    "Temp = 303\n",
    "kobs = (kappa * kb / h) * Temp * unp.exp(-dH/(R*Temp)) * unp.exp(dS/R)\n",
    "print(f\"Calculated k at T = {Temp} K is {kobs:0.2f} s^-1\")\n",
    "\n",
    "########################################################################################\n",
    "######################\n",
    "### Plots - NEW STYLED PLOTTING SECTION\n",
    "######################\n",
    "\n",
    "plt.rcdefaults()\n",
    "\n",
    "style = \"tufte.mplstyle\"\n",
    "##style = \"S2_classic2.mplstyle\"\n",
    "#style_name = github_location_styles + style\n",
    "style_name = \"../styles/\"+ style\n",
    "plt.style.use(style_name)\n",
    "\n",
    "size = [4,5]\n",
    "fig, ax = plt.subplots(nrows=2, ncols=1, figsize=size, height_ratios=[1, 4])  \n",
    "\n",
    "# Settings for plot\n",
    "ax[1].set(\n",
    "#          title = Title,       \n",
    "          ylabel=r\"$k$ / $s^{-1}$\", \n",
    "          xlabel=r\"$T$ /$K$\",                \n",
    "#          xlim=[0, np.max(x) + np.max(x) * 0.1],                  \n",
    "#          ylim=[None,None]\n",
    "       )\n",
    "\n",
    "#ax.scatter(x, y, marker = \"o\", s = 70, color = \"white\", alpha = 1.0, zorder = 1)\n",
    "ax[1].scatter(x, y, marker = \"o\", s = 20, \n",
    "              color = \"white\", edgecolors = \"black\", \n",
    "              linewidths=0.5, zorder = 3) \n",
    "\n",
    "\n",
    "### calculate y-values using best fit parameters\n",
    "#x_0 = np.linspace(1,np.max(x),100)              # for plotting from zero\n",
    "x_0 = np.linspace(np.min(x),np.max(x),100)       # for plotting from zero\n",
    "best_fit_y = eyring_u(x_0, dH, dS)     # uncertain array of line fit\n",
    "\n",
    "# Plot the curve fit line\n",
    "ax[1].plot(x_0,unp.nominal_values(best_fit_y), \n",
    "           marker = None, color = \"black\", \n",
    "           linewidth=0.5, zorder = 2)\n",
    "\n",
    "\n",
    "######################\n",
    "#### Create Confidence band upper and lower bounds\n",
    "######################\n",
    "sigma = 2\n",
    "\n",
    "# upper and lower bounds of uncertain kobs as float values\n",
    "fit_up = unp.nominal_values(best_fit_y) + unp.std_devs(best_fit_y) * sigma\n",
    "fit_dn = unp.nominal_values(best_fit_y) - unp.std_devs(best_fit_y) * sigma\n",
    "\n",
    "# make filled band\n",
    "ax[1].fill_between(x_0, fit_up, fit_dn, \n",
    "                   color=\"lightgray\", alpha=0.4, zorder = 0,\n",
    "                   label=\"confidence interval\")\n",
    "\n",
    "# Add error bars\n",
    "ax[1].errorbar(x, y, yerr=y_err*sigma, xerr=None, fmt=\"None\", \n",
    "               ecolor=\"black\", elinewidth=0.5, \n",
    "             #  capsize=2, capthick=0.5, \n",
    "               zorder=2)\n",
    "\n",
    "#plt.show()                                       # show plot (and clear)\n",
    "\n",
    "######################\n",
    "### Plot the residuals\n",
    "######################\n",
    "\n",
    "ax[0].set(\n",
    "#          title = Title,       \n",
    "          ylabel=r\"Residuals\", \n",
    "          xlabel=r\"\",                \n",
    "#          xlim=[0, np.max(x) + np.max(x) * 0.1],                  \n",
    "          ylim=[-3,3]\n",
    "       )\n",
    "\n",
    "residuals = y - eyring(x, dH.n, dS.n)      # difference between data and line-fit\n",
    "ax[0].scatter(x, residuals, marker = \"o\", s = 20, \n",
    "              color = \"white\", edgecolors = \"black\", \n",
    "              linewidths=0.5, zorder = 3)\n",
    "ax[0].errorbar(x, residuals, yerr=y_err*sigma, xerr=None, fmt=\"None\", \n",
    "               ecolor=\"black\", elinewidth=0.5, \n",
    "             #  capsize=2, capthick=0.5, \n",
    "               zorder=2)\n",
    "\n",
    "ax[0].axhline(0, color='lightgray')          # plot a horizontal line\n",
    "ax[0].set_xticks([])\n",
    "\n",
    "#plt.show()\n",
    "\n",
    "### Output plot\n",
    "plt.tight_layout(pad=2, h_pad=None, w_pad=None, rect=None)\n",
    "plt.savefig(\"EyringX.pdf\")\n",
    "plt.show()\n"
   ]
  },
  {
   "cell_type": "code",
   "execution_count": null,
   "metadata": {},
   "outputs": [],
   "source": []
  }
 ],
 "metadata": {
  "kernelspec": {
   "display_name": "Python 3",
   "language": "python",
   "name": "python3"
  },
  "language_info": {
   "codemirror_mode": {
    "name": "ipython",
    "version": 3
   },
   "file_extension": ".py",
   "mimetype": "text/x-python",
   "name": "python",
   "nbconvert_exporter": "python",
   "pygments_lexer": "ipython3",
   "version": "3.11.7"
  }
 },
 "nbformat": 4,
 "nbformat_minor": 2
}
