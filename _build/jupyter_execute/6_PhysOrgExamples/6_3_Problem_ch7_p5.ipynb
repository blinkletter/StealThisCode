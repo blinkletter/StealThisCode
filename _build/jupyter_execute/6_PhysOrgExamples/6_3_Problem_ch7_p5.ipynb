{
 "cells": [
  {
   "cell_type": "markdown",
   "id": "600aa52d",
   "metadata": {},
   "source": [
    "# Problem 5, Ch. 7\n",
    "\n",
    "Python can help you solve the problems in your text book. In this notebook I will use *Python* code to plot and curve fit the Arrhenius equation to the data given in problem 5 of chapter 7. I will leave it to yopu to interpret the magnitude of the values of $E_a$ and the pre-exponetial value, $A$.\n",
    "\n",
    "<img src=\"p5.png\" width=800 class=center />\n",
    "\n",
    "\n",
    "## The Arrhenius Equation\n",
    "\n",
    "This is one of the most famous equations of physical chemistry. You first saw it in your first year of chemistry and here it come around again. Everything that you learned previously is needed as you move forward. Embrace the past, it defines your future. Yes, you are shackled to the past, no matter what the poets say.\n",
    "\n",
    "The Arrhenenius equation relates rate to temperature by defining an activation energy for the reaction and a pre-exponential factor that incorporates a lot of ideas, including the change in entropy to reach the transition state.\n",
    "\n",
    "$$ k_{obs} = A \\cdot {\\rm e}^{\\frac{-E_a}{RT}}$$\n",
    "\n",
    "We can create a linear form of the equation by applying the $\\ln$ function\n",
    "\n",
    "$$ \\ln{\\left( k_{obs} \\right)} = \\ln{A} - {\\frac{E_a}{R} \\cdot \\frac{1}{T}}$$\n",
    "\n",
    "So if we plot $\\ln{\\left( k_{obs} \\right)}$ vs $\\frac{1}{T}$ we should getn a straight line withn a slope of $\\frac{E_a}{R}$ and a y-intercept of \\ln{A}.\n",
    "\n",
    "## The Data\n",
    "\n",
    "I will use the *Python* code below to create a dataframe for the data listed in the textbook. In the data matrix that I create I will list paired values of temperature and observed rate constant. Then I will convert the array to a dataframe using the *Pandas* dataframe function."
   ]
  },
  {
   "cell_type": "code",
   "execution_count": 9,
   "id": "0a49c36c",
   "metadata": {
    "tags": [
     "hide-input"
    ]
   },
   "outputs": [
    {
     "data": {
      "text/html": [
       "<div>\n",
       "<style scoped>\n",
       "    .dataframe tbody tr th:only-of-type {\n",
       "        vertical-align: middle;\n",
       "    }\n",
       "\n",
       "    .dataframe tbody tr th {\n",
       "        vertical-align: top;\n",
       "    }\n",
       "\n",
       "    .dataframe thead th {\n",
       "        text-align: right;\n",
       "    }\n",
       "</style>\n",
       "<table border=\"1\" class=\"dataframe\">\n",
       "  <thead>\n",
       "    <tr style=\"text-align: right;\">\n",
       "      <th></th>\n",
       "      <th>T</th>\n",
       "      <th>k</th>\n",
       "    </tr>\n",
       "  </thead>\n",
       "  <tbody>\n",
       "    <tr>\n",
       "      <th>0</th>\n",
       "      <td>592</td>\n",
       "      <td>522</td>\n",
       "    </tr>\n",
       "    <tr>\n",
       "      <th>1</th>\n",
       "      <td>603</td>\n",
       "      <td>755</td>\n",
       "    </tr>\n",
       "    <tr>\n",
       "      <th>2</th>\n",
       "      <td>627</td>\n",
       "      <td>1700</td>\n",
       "    </tr>\n",
       "    <tr>\n",
       "      <th>3</th>\n",
       "      <td>652</td>\n",
       "      <td>4030</td>\n",
       "    </tr>\n",
       "  </tbody>\n",
       "</table>\n",
       "</div>"
      ],
      "text/plain": [
       "     T     k\n",
       "0  592   522\n",
       "1  603   755\n",
       "2  627  1700\n",
       "3  652  4030"
      ]
     },
     "metadata": {},
     "output_type": "display_data"
    }
   ],
   "source": [
    "import numpy as np\n",
    "import pandas as pd\n",
    "import matplotlib.pyplot as plt\n",
    "from scipy.stats import linregress\n",
    "\n",
    "path = \"https://raw.githubusercontent.com/blinkletter/StealThisBook/main/6_PhysOrgExamples/\"\n",
    "path = \"../6_PhysOrgExamples/\"\n",
    "\n",
    "\n",
    "\n",
    "data = [[592, 522],   # Temp (K), rate constant ( M^-1 s^-1)\n",
    "        [603, 755],\n",
    "        [627, 1700],\n",
    "        [652, 4030]]\n",
    "\n",
    "df=pd.DataFrame(data, columns=[\"T\",\"k\"])\n",
    "display(df)"
   ]
  },
  {
   "cell_type": "markdown",
   "id": "8827e8eb",
   "metadata": {},
   "source": [
    "## The Plot\n",
    "\n",
    "Now we just need to fit the data to a straight line. We could define a linear function and use the `scipy.optimize.curve_fit()` function or we can use the linear regression method with the `scipy.stats.linregress()` function.  Both methods will give exactly the same result but will return statistical scores differently. In this case I will use the `linregress` function.\n",
    "\n",
    "In the code below I will plot the data, fit the data to a straight line, and plot the result of that fit. I will also report the $R^2$ value and report the parameters (slope and intercept) from the linear regression."
   ]
  },
  {
   "cell_type": "code",
   "execution_count": 8,
   "id": "16e74975",
   "metadata": {
    "tags": [
     "hide-input"
    ]
   },
   "outputs": [
    {
     "data": {
      "image/png": "[encoded data removed]",
      "text/plain": [
       "<Figure size 480x320 with 1 Axes>"
      ]
     },
     "metadata": {},
     "output_type": "display_data"
    },
    {
     "name": "stdout",
     "output_type": "stream",
     "text": [
      "slope = -13147.8\n",
      "intercept = 28.443\n",
      "RSQ = 0.999\n"
     ]
    }
   ],
   "source": [
    "#####################################################\n",
    "### Get series of data to plot from the dataframe ###\n",
    "#####################################################\n",
    "\n",
    "x = 1/df[\"T\"]\n",
    "y = np.log(df[\"k\"])\n",
    "\n",
    "\n",
    "##################################################\n",
    "### Setup a figure with two plots side-by-side ###\n",
    "### and choose a stylesheet                    ###\n",
    "##################################################\n",
    "\n",
    "plt.style.use(path + \"S2_classic2.mplstyle\")        \n",
    "fig, ax = plt.subplots(nrows=1, ncols=1, figsize=(6,4))  \n",
    "ax.margins(x=.07, y=.07, tight=True)                     # add 7% empty space around outside of plot area   \n",
    "\n",
    "\n",
    "#########################################\n",
    "### Plot the data and the line fit.   ###\n",
    "#########################################\n",
    "\n",
    "linfit = linregress(x,y)\n",
    "fity = linfit.slope * x + linfit.intercept\n",
    "ax.plot(x, fity, \"-\")\n",
    "\n",
    "ax.plot(x, y, \"o\")  # plotting the data AFTER the line will put the points at the front of the stack of images\n",
    "\n",
    "############################\n",
    "### Set labels and scale ###\n",
    "############################\n",
    "\n",
    "ax.set(title=\"Arrhenius Plot\",       \n",
    "          ylabel=r\"$\\ln{\\left( k_{obs} \\right)}~/ \\left( M^{-1}s^{-1} \\right)$\", \n",
    "          xlabel=r\"$\\frac{1}{T}~/ \\left( K^{-1} \\right)$\",                \n",
    "#          xlim=[0,100],                  \n",
    "#          ylim=[-1,7]\n",
    "         )\n",
    "\n",
    "#fig.savefig(\"plot.pdf\")   # use this to save the figure in PDF format\n",
    "plt.show()                 # output the combined plot plots\n",
    "\n",
    "\n",
    "#####################################\n",
    "### Print the line fit parameters ###\n",
    "#####################################\n",
    "\n",
    "print(f\"slope = {linfit.slope:0.1f}\")\n",
    "print(f\"intercept = {linfit.intercept:0.3f}\")\n",
    "print(f\"RSQ = {(linfit.rvalue**2):0.3f}\")\n",
    "\n"
   ]
  },
  {
   "cell_type": "markdown",
   "id": "56e0f0fa",
   "metadata": {},
   "source": [
    "## Calculating A and $E_a$\n",
    "\n",
    "We know that the intercept is $\\ln{A}$ and the slope is $- {\\frac{E_a}{R}}$\n",
    "\n",
    "The code below will report the values of A and $E_a$."
   ]
  },
  {
   "cell_type": "code",
   "execution_count": 10,
   "id": "1b2bd216",
   "metadata": {
    "tags": [
     "hide-input"
    ]
   },
   "outputs": [
    {
     "name": "stdout",
     "output_type": "stream",
     "text": [
      "The activation energy, Ea, is 109.31 kJ/mole\n",
      "The pre-exponential factor, A, is 2.25e+12\n",
      "\n",
      "The average temperature is 618.5K\n"
     ]
    }
   ],
   "source": [
    "R = 8.314 # J/mole\n",
    "\n",
    "Ea = -linfit.slope * R\n",
    "print(f\"The activation energy, Ea, is {Ea/1000:0.2f} kJ/mole\")\n",
    "\n",
    "A_value = np.exp(linfit.intercept)\n",
    "print(f\"The pre-exponential factor, A, is {A_value:0.2e}\")\n",
    "\n",
    "print()\n",
    "\n",
    "temp_average = np.average(df[\"T\"])\n",
    "print(f\"The average temperature is {temp_average:0.1f}K\")\n",
    "\n"
   ]
  },
  {
   "cell_type": "markdown",
   "id": "0f0d6d27",
   "metadata": {},
   "source": [
    "## Your Turn\n",
    "\n",
    "We have calculated the values of $E_a$ and $A$ in a Jupyter notebook. The code and the output of the code are present in the same document so you can evaluate the exact methods used to reach any conclusions. \n",
    "\n",
    "What does an A value of $2.3 \\times 10^{12}$ mean when the temperature is in the temperature range of 620 K? (see page 367 and thereabouts in your textbook)\n",
    "\n",
    "What does an activation energy of $110 \\frac{kJ}{mole}$ mean? Would it be a fast reaction at room temperature or slow? Is the temperature of 620 K necessary?"
   ]
  },
  {
   "cell_type": "code",
   "execution_count": null,
   "id": "def518e6",
   "metadata": {},
   "outputs": [],
   "source": []
  }
 ],
 "metadata": {
  "celltoolbar": "Edit Metadata",
  "kernelspec": {
   "display_name": "Python 3 (ipykernel)",
   "language": "python",
   "name": "python3"
  },
  "language_info": {
   "codemirror_mode": {
    "name": "ipython",
    "version": 3
   },
   "file_extension": ".py",
   "mimetype": "text/x-python",
   "name": "python",
   "nbconvert_exporter": "python",
   "pygments_lexer": "ipython3",
   "version": "3.11.7"
  }
 },
 "nbformat": 4,
 "nbformat_minor": 5
}