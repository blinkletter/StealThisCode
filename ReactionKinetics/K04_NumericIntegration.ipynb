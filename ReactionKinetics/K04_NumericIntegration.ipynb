{
 "cells": [
  {
   "cell_type": "markdown",
   "metadata": {},
   "source": [
    "## Numeric Integration\n",
    "\n",
    "What does the reaction progress of enzyme kinetics look like over a long stretch of time, far past the initial rate from which we have not yet dared stray? The math is similar to the case of the steady-state kinetic scheme above. However, in the Michaleis-Menten (MM) system, one of the reactants, the enzyme, is present at limiting quanties ($[E]_t \\ll [S]_t$) and this case gives rise to the famous MM equation.\n",
    "\n",
    "$$-\\frac{d}{dt}[S] = k_{cat}[E]_t\\frac{[S]_t}{K_M+[S]_t}$$\n",
    "\n",
    "This equation can be integrated analytically using advanced mathematical methods that you will likely never care to learn. I certainly have no clue how to integrate anything but the simplest equations. So, yes, you will never use calculus again in your life but only because others have done the calculus for you already. Understanding the basics of calculus is important if you are to properly stand on the shoulders of mathematicians. The analytical integration was demonstrated in the previous notebook.\n",
    "\n",
    "In this notebook will not use analytical methods but instead use the numerical algorithms encapsulated the Python tools. We will use `scipy.integration.odeint()`.\n",
    "\n",
    "## Using *odient*\n",
    "\n",
    "The `scipy.integration.odeint()` function will perform a numeric integration of ordinary differential equations. It is simpler to set up than the analytical integration and, in well behaved cases, is very acurate. Let us perform a numerical integration of the MM system. We can then compare the results with the analytical method.\n",
    "\n",
    "If we know the value of [S] at a given moment in time then we can easily calculate the rate of change using the above equation. There is only one place where we know the substrate concentration for sure and that is at time zero. So we start there, calculate the rate of change, calculate the change after an infinitesimal amount of time and then start again with the new concentration and repeat endlessly. Obviously there are mathematical approaches to this and they all use various methods to minimize the error caused when the time step used is anything greater than $\\frac{1}{\\infty}$.\n",
    "\n",
    "So we know that the numerical approach should be close to the true answer but can never be exact. The analytical method is exact but, as we saw, is very difficult with some kinds of equations. The code below defines a function for the rate of change in copncentration of substrate according to the MM equation. Then we use `scipy.integration.odeint()` to calculate the concentration of substrate over time using numerical integration methods."
   ]
  },
  {
   "cell_type": "code",
   "execution_count": 13,
   "metadata": {},
   "outputs": [
    {
     "name": "stdout",
     "output_type": "stream",
     "text": [
      "12000\n"
     ]
    },
    {
     "data": {
      "image/png": "[encoded data removed]",
      "text/plain": [
       "<Figure size 400x300 with 1 Axes>"
      ]
     },
     "metadata": {},
     "output_type": "display_data"
    }
   ],
   "source": [
    "#######################\n",
    "### import packages ###\n",
    "#######################\n",
    "\n",
    "import numpy as np\n",
    "from scipy.integrate import odeint\n",
    "import matplotlib.pyplot as plt\n",
    "\n",
    "def rates(c, t, E, kcat, Km):\n",
    "    return -kcat * E * c / (c + Km)\n",
    "\n",
    "\n",
    "############################################\n",
    "### Create a function that describes the ###\n",
    "### rates of all reactions in the system ###\n",
    "############################################\n",
    "\n",
    "E_conc = 1e-6\n",
    "KM_value = 0.005          ### set KM value\n",
    "kcat_value = 1E2          ### set Vmax value\n",
    "S0_value = .05            ### set initial substrate concentration value\n",
    "\n",
    "Vmax_value = E_conc * kcat_value\n",
    "\n",
    "time_end = 1200           ### The end time\n",
    "n_points = 100            ### number of points - increase if needed\n",
    "\n",
    "\n",
    "\n",
    "#########################################\n",
    "### Create series of time points      ###\n",
    "#########################################\n",
    "\n",
    "dt = .1                                    ### time step, delta t\n",
    "tmax = time_end                            ### max time, s\n",
    "t = np.linspace(0, tmax, num=int(tmax/dt)) ### time vector (list of time points)\n",
    "\n",
    "xmax = time_end           ### change these as you wish\n",
    "ymax = S0_value\n",
    "\n",
    "##########################\n",
    "### integrate\n",
    "##########################\n",
    "\n",
    "initial = S0_value\n",
    "cc = odeint(rates, initial, t, args=(E_conc, kcat_value, KM_value))\n",
    "\n",
    "##########################\n",
    "### plot x and y data\n",
    "##########################\n",
    "\n",
    "x = t; xmax = tmax\n",
    "y = cc\n",
    "\n",
    "plt.rcdefaults()     ### resets the plot defaults so we always start in the same place\n",
    "fig, ax = plt.subplots(nrows=1, ncols=1, figsize=(4,3))  \n",
    "\n",
    "ax.plot( x, y,\n",
    "         linestyle = '-',            ### use a line between points\n",
    "         linewidth='0.5',            ### make the line thin\n",
    "         color = 'black',            ### the line is black\n",
    "         zorder = 0                  ### everything is in layer 0 (the bottom layer in this case)\n",
    "        )\n",
    "ax.set( xlabel= r\"$t\\;/\\;s$\", \n",
    "        ylabel=r\"$[S] \\; / \\; mole\\,L^{-1}$\",\n",
    "        title = \"MM Reaction\",\n",
    "        xlim=[0, xmax],                  \n",
    "        ylim=[-0.0001, ymax]      \n",
    "       )\n",
    "\n",
    "ax.spines[['top','right','bottom','left']].set_visible(False)   ### Make all spines invisible\n",
    "ax.spines[['left','bottom']].set_position(('axes',-0.05))       ### space spines a little away from 'axes' (plot box)\n",
    "\n",
    "#########################################\n",
    "### Output the plot\n",
    "#########################################\n",
    "\n",
    "plt.savefig(\"plot.pdf\", bbox_inches='tight')     ### export the plot as this\n",
    "plt.show() "
   ]
  }
 ],
 "metadata": {
  "kernelspec": {
   "display_name": "base",
   "language": "python",
   "name": "python3"
  },
  "language_info": {
   "codemirror_mode": {
    "name": "ipython",
    "version": 3
   },
   "file_extension": ".py",
   "mimetype": "text/x-python",
   "name": "python",
   "nbconvert_exporter": "python",
   "pygments_lexer": "ipython3",
   "version": "3.11.4"
  }
 },
 "nbformat": 4,
 "nbformat_minor": 2
}
