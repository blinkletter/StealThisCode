{
 "cells": [
  {
   "cell_type": "markdown",
   "metadata": {},
   "source": [
    "# Curve Fits\n",
    "\n",
    "We fit a linear function in the previous notebook. Let us **steal all that code** and repurpose it to fit the arbitrary function that defines the **Michaelis-Menten equation**.\n",
    "\n",
    "## Non-linear Curve Fits\n",
    "\n",
    "We can fit the x,y data to the asymptotic Michaelis-Menten equation and obtain $\\rm K_M$ and $\\rm V{max}$ using a least squares minimization.\n",
    "\n",
    "$$ \\nu = V_{max} \\frac{[S]}{[S] + K_M}$$\n",
    "\n",
    "Consider the code below."
   ]
  },
  {
   "cell_type": "code",
   "execution_count": 9,
   "metadata": {
    "tags": [
     "hide-input"
    ]
   },
   "outputs": [
    {
     "data": {
      "image/png": "[encoded data removed]",
      "text/plain": [
       "<Figure size 400x300 with 1 Axes>"
      ]
     },
     "metadata": {},
     "output_type": "display_data"
    }
   ],
   "source": [
    "from matplotlib import pyplot as plt   ### load in the plotting tools from the MatPlotLib package\n",
    "from scipy.optimize import curve_fit   ### load in the curve_fit function from the SciPy package\n",
    "import numpy as np\n",
    "\n",
    "### Set up the data lists\n",
    "\n",
    "conc = [1.1, 2.2, 2.7, 3.8, 4.7, 7.9, 9.4]     ### units are mM\n",
    "rates = [18.7, 28.6, 35.0,  39.4, 46.5, 54.1, 58.5]   ### units are uM/min\n",
    "\n",
    "conc = np.array(conc)    ### Convert my lists into NumPy arrays\n",
    "rates = np.array(rates)  ###  that can be used in math operations\n",
    "\n",
    "### set x and y so that we never need to change the plotting code below\n",
    "\n",
    "x = conc\n",
    "y = rates\n",
    "\n",
    "### Steal the code for plotting from the previous notebook\n",
    "\n",
    "### Create blank plot\n",
    "plt.rcdefaults()             ### resets the plot defaults so we always start in the same place\n",
    "plt.figure(figsize=(4,3))    ### sets the size of the plot figure in inches\n",
    "\n",
    "### Plot the data\n",
    "plt.plot(x, y, \"ko\")         ### Plot the x and y data as black \"k\" circles \"o\"\n",
    "\n",
    "### All the rest of these commands are about style\n",
    "plt.xlim(0, None)            ### x-axis goes from 0 to limit of data\n",
    "plt.ylim(0, None)            ### y-axis goes from 0 to limit of data\n",
    "\n",
    "plt.title(\"Michaelis-Menten\")   ### use a title\n",
    "plt.xlabel(r\"$[S]$\")                 ### label the x-axis. r means \"raw\" text string. $-signs are commands for the Latex math language \n",
    "plt.ylabel(r\"$\\nu$\")                 ### label y-axis. Here we use the greek letter nu for rate.\n",
    "\n",
    "### Output the plot\n",
    "plt.savefig(\"plot.pdf\", bbox_inches='tight')     ### export the plot. The bbox parameter prevents labels from being cut off\n",
    "plt.show()                                        ### display the plot in this notebook"
   ]
  },
  {
   "cell_type": "markdown",
   "metadata": {},
   "source": [
    "## The Curve Fit\n",
    "\n",
    "The plot above clearly is a curve. What **sparameters** would fit this data best? Let us perform a curve fit in the example below. Note the function definition. We must **define a function and then optimize the parameters** to fit the data.\n",
    "\n",
    "**NOTE:** all this code is almost identical to the previous notebook.  **I stole it all**. Compare the linear fit notebook with this one and **observe where I made changes**. The major change is the function being defined for the curve fit. I also changed variable names to better describe what we are doing. That is all. "
   ]
  },
  {
   "cell_type": "code",
   "execution_count": 10,
   "metadata": {
    "tags": [
     "hide-input"
    ]
   },
   "outputs": [
    {
     "name": "stdout",
     "output_type": "stream",
     "text": [
      "The Vmax is 81.538 +/- 3.1087\n",
      "The KM is 3.809 +/- 0.3326\n"
     ]
    }
   ],
   "source": [
    "def MM_fit(s, Vmax, KM):            ### a function that accepts a list of x values and values for slope and intercept\n",
    "    v = Vmax * (s / (s + KM))       ### then calculates values for y\n",
    "    return v                        ### and send then back as the result of the function\n",
    "\n",
    "parameters, statistics = curve_fit(MM_fit, x, y)\n",
    "\n",
    "Vmax, KM = parameters       ### the parameters contains slope and intercept, in order\n",
    "\n",
    "perr = np.sqrt(np.diag(statistics)) ### the statistics object can be used to calculate standard deviations\n",
    "Vmax_stdev, KM_stdev = perr       ### the standard errors for slope and intercept accessed in order\n",
    "\n",
    "print(f\"The Vmax is {Vmax:0.3f} +/- {Vmax_stdev:0.4f}\")\n",
    "print(f\"The KM is {KM:0.3f} +/- {KM_stdev:0.4f}\")"
   ]
  },
  {
   "cell_type": "markdown",
   "metadata": {},
   "source": [
    "## Add the Line\n",
    "\n",
    "We now have values for slope and intercept. We will **visualize** this proposed line fit with the data. First we make a series of numbers from zero to the end of the x-axis data and then we use the slope and intercept to calculate the y-axis values according to our line fit. Then we steal the code for plotting the points and add an extra command to **plot the line**. Examine the code below."
   ]
  },
  {
   "cell_type": "code",
   "execution_count": 11,
   "metadata": {
    "tags": [
     "hide-input"
    ]
   },
   "outputs": [
    {
     "data": {
      "image/png": "[encoded data removed]",
      "text/plain": [
       "<Figure size 400x300 with 1 Axes>"
      ]
     },
     "metadata": {},
     "output_type": "display_data"
    },
    {
     "name": "stdout",
     "output_type": "stream",
     "text": [
      "The Vmax is 81.538 +/- 3.1087\n",
      "The KM is 3.809 +/- 0.3326\n"
     ]
    }
   ],
   "source": [
    "#########################################\n",
    "### Make a line using the calculate slope and intercept\n",
    "#########################################\n",
    "\n",
    "max_x = np.max(x)                        ### obtain the maximum x value\n",
    "x_fit = np.linspace(0, max_x, 100)       ### Make an array of 100 points between zero and the max x value\n",
    "y_fit = MM_fit(x_fit, Vmax, KM)  ### calculate the y values using the function that we curve fit\n",
    "\n",
    "#########################################\n",
    "### Steal the plotting code above and add a line to plot the line fit data\n",
    "#########################################\n",
    "\n",
    "### Create blank plot\n",
    "plt.rcdefaults()             ### resets the plot defaults so we always start in the same place\n",
    "plt.figure(figsize=(4,3))    ### sets the size of the plot figure in inches\n",
    "\n",
    "\n",
    "#########################################\n",
    "### This is the one change to the stolen code.\n",
    "### Plot the line using the x_fit, y_fit points\n",
    "#########################################\n",
    "\n",
    "plt.plot(x_fit, y_fit, \"k-\")         ### Plot the x_fit and y_fit data as a black \"k\" line \"-\"\n",
    "\n",
    "#########################################\n",
    "#########################################\n",
    "\n",
    "\n",
    "### Plot the data\n",
    "plt.plot(x, y, \"ko\")            ### Plot the x and y data as black \"k\" circles \"o\"\n",
    "\n",
    "### All the rest of these commands are about style\n",
    "plt.xlim(0, None)               ### x-axis goes from 0 to limit of data\n",
    "plt.ylim(0, 85)               ### y-axis goes from 0 to limit of data\n",
    "\n",
    "plt.title(\"Michaelis-Menten\")   ### use a title\n",
    "plt.xlabel(r\"$[S]$\")                 ### label the x-axis. r means \"raw\" text string. $-signs are commands for the Latex math language \n",
    "plt.ylabel(r\"$\\nu$\")                 ### label y-axis. Here we use the greek letter nu for rate.\n",
    "\n",
    "### Output the plot\n",
    "plt.savefig(\"plot.pdf\", bbox_inches='tight') ### export the plot. The bbox parameter prevents labels from being cut off\n",
    "plt.show()                                   ### display the plot in this notebook\n",
    "\n",
    "print(f\"The Vmax is {Vmax:0.3f} +/- {Vmax_stdev:0.4f}\")\n",
    "print(f\"The KM is {KM:0.3f} +/- {KM_stdev:0.4f}\")"
   ]
  },
  {
   "cell_type": "markdown",
   "metadata": {},
   "source": [
    "## The Fancy Version\n",
    "\n",
    "I will **steal the code** for the more styled plot in the previous notebook and present the plot of data with the line fit again but with **more style**."
   ]
  },
  {
   "cell_type": "code",
   "execution_count": 12,
   "metadata": {
    "tags": [
     "hide-input"
    ]
   },
   "outputs": [
    {
     "data": {
      "image/png": "[encoded data removed]",
      "text/plain": [
       "<Figure size 400x300 with 1 Axes>"
      ]
     },
     "metadata": {},
     "output_type": "display_data"
    },
    {
     "name": "stdout",
     "output_type": "stream",
     "text": [
      "The Vmax is 81.538 +/- 3.1087\n",
      "The KM is 3.809 +/- 0.3326\n"
     ]
    }
   ],
   "source": [
    "### More style examples\n",
    "\n",
    "### Create blank plot\n",
    "plt.rcdefaults()             ### resets the plot defaults so we always start in the same place\n",
    "plt.figure(figsize=(4,3))    ### sets the size of the plot figure in inches\n",
    "\n",
    "\n",
    "#########################################\n",
    "### This is the one change.\n",
    "### Plot the line using the x_fit, y_fit points\n",
    "#########################################\n",
    "\n",
    "plt.plot(x_fit, y_fit, \n",
    "        linestyle = '-',              ### use a line between points\n",
    "        linewidth='0.5',              ### make the line thin\n",
    "        color = 'black')              ### the line is black\n",
    "\n",
    "#########################################\n",
    "#########################################\n",
    "\n",
    "\n",
    "### Plot the data with style\n",
    "plt.plot(x, y, \n",
    "        marker='o',                   ### Plot the x and y data \n",
    "        linestyle = 'None',           ### no line between markers\n",
    "        markerfacecolor='white',      ### markers and lines are this color\n",
    "        markeredgecolor = 'black',    ### outline of markers is this color\n",
    "        markeredgewidth = 0.5,        ### outline of markers is this wide\n",
    "        markersize=8)                 ### markers are this big\n",
    "\n",
    "### Add more style\n",
    "plt.xlim(0, None)                  ### x-axis goes from 0 to 1\n",
    "plt.ylim(0, 83)               ### y-axis goes from 0 to limit of data\n",
    "\n",
    "plt.title(\"Michaelis-Menten\")   ### use a title\n",
    "plt.xlabel(r\"$[S]$\")                 ### label the x-axis. r means \"raw\" text string. $-signs are commands for the Latex math language \n",
    "plt.ylabel(r\"$\\nu$\")                 ### label y-axis. Here we use the greek letter nu for rate.\n",
    "\n",
    "plt.gca().spines['right'].set_visible(False)   ### Make right spine invisible\n",
    "plt.gca().spines['top'].set_visible(False)     ### Make top spine invisible\n",
    "plt.gca().spines['left'].set_visible(False)    ### Make left spine invisible\n",
    "plt.gca().spines['bottom'].set_visible(False)  ### Make bottom spine invisible\n",
    "\n",
    "### Output the plot\n",
    "plt.savefig(\"plot.pdf\")     ### export the plot as this\n",
    "plt.show()                  ### display the plot in this notebook\n",
    "\n",
    "print(f\"The Vmax is {Vmax:0.3f} +/- {Vmax_stdev:0.4f}\")\n",
    "print(f\"The KM is {KM:0.3f} +/- {KM_stdev:0.4f}\")"
   ]
  },
  {
   "cell_type": "markdown",
   "metadata": {},
   "source": [
    "## The Benefits of Theft\n",
    "\n",
    "I took the code for the linear fits and made **one major change** (changed the function being fit) and several minor ones (variable names and labels). It took me 3 minutes to write a curve fit notebook for non-linear curve fits when I started with the **previous notebook** on linear fits. Steal freely, admit to it in detail, and give credit where credit is due. That is the way of science."
   ]
  }
 ],
 "metadata": {
  "kernelspec": {
   "display_name": "base",
   "language": "python",
   "name": "python3"
  },
  "language_info": {
   "codemirror_mode": {
    "name": "ipython",
    "version": 3
   },
   "file_extension": ".py",
   "mimetype": "text/x-python",
   "name": "python",
   "nbconvert_exporter": "python",
   "pygments_lexer": "ipython3",
   "version": "3.11.4"
  }
 },
 "nbformat": 4,
 "nbformat_minor": 2
}
