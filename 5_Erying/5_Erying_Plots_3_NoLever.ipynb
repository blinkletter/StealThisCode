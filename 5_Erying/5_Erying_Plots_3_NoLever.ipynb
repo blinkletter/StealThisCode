{
 "cells": [
  {
   "cell_type": "markdown",
   "metadata": {},
   "source": [
    "# The Erying Equation and Experimental Error\n",
    "The famous Erying equationis used to create a linear equation that relates the free energy of activation or the free energy in an equilibrium with temperature. Because the enthalpy term is independant of temperature and the entropy term involves temperature, we can the separate these effects and determine the enthalpy and the entropy difference in the chemical change between reactants and transtion state or products. But, do you numbers make sense? Unless you are calculating the standard deviations from your plot you may be unaware of a low quality relationship.\n",
    "\n",
    "## Enzyme Kinetics Example\n",
    "\n",
    "The data sets for this experiment comes from \"Linear Eyring Plots Conceal a Change in the Rate-Limiting Step in an Enzyme Reaction\", Teresa F. G. Machado, Tracey M. Gloster, and Rafael G. da Silva, *Biochemistry*, **2018**, *57*, 6757-6761.https://doi.org/10.1021/acs.biochem.8b01099.\n",
    "\n",
    "Machado et al. were presenting an example where they hypothesized that there was a hidden effect due to changes in the rate-determining step. The plots are very linear so we will use the data at face value. I'm not really convinced that there was a change in rds.\n",
    "\n",
    "The reaction is the reduction of acetoacetate (3-oxobutanoate) or 3-Oxopentanoate by NADH with the action of *(R)-3-hydroxybutyrate dehydrogenase* (EC 1.1.1.30). Two sources of the enzyme were used. The common bacteria *Acinetobacter baumannii* and the cold-favouring (psychrophilic) bacteria *Psychrobacter arcticus*. The Michaelis-Menten turnover number ($k_{cat}$, the first-order rate constant of the enzyme-NADH-substrate complex to give product) was measured at temperatures for $-10$ to $67\\ ^\\circ C$. The Eyring plot for the *P. arcticus* curves slightly as temperature increases. The enzyme comes from an organism adapted got cold conditions. The plot for the *A. baumannii* enzyme were linear so I will only use that data in this example.\n",
    "\n",
    "\n",
    "## The Eyring Equation\n",
    "\n",
    "The Erying equation is...\n",
    "\n",
    "$$ k = \\frac{\\kappa k_B}{h} T e^{-\\Delta G^\\ddagger}$$\n",
    "\n",
    "...and we can include that $\\Delta G^\\ddagger = \\Delta H^\\ddagger - T \\Delta S^\\ddagger$ and we obtain...\n",
    "\n",
    "$$ k = \\frac{\\kappa k_B}{h} T e^{\\frac{-\\Delta H^\\ddagger}{RT}}e^{\\frac{\\Delta S^\\ddagger}{R}}$$\n",
    "\n",
    "This can be written in a linear form...\n",
    "\n",
    "$$\\ln \\frac{k}{T} = \\frac{-\\Delta H^\\ddagger}{R}\\cdot\\frac{1}{T} + \\ln\\frac{\\kappa k_B}{h} + \\frac{\\Delta S^\\ddagger}{R}$$\n",
    "\n",
    "...where $k$ is the observed rate constant and $T$ is the absolute temperature.\n",
    "\n",
    "From this, we can find $\\Delta H^\\ddagger$ and $\\Delta S^\\ddagger$ from the slope and intercept by plotting $\\ln \\frac{k}{T}$ vs. $\\frac{1}{T}$\n",
    "\n",
    "## Choose Your Data\n",
    "\n",
    "In the code below we call the packages and define clobal variables. One important variable is the name of the data file. The following data files are available.\n",
    "\n",
    "> Eryingdata1.csv - *AbHBDH* with 3-oxobutyrate <br>\n",
    "Eryingdata2.csv - *AbHBDH* with 3-oxopentanoate\n",
    "\n",
    "change the datafile variable to repeat this notebook with the other data set. There are several more data sets from two other recent contributions that are described at the end of this document. Try them and see what the effect of more or less data has on you error for calculating the parameters of the Eyring plot"
   ]
  },
  {
   "cell_type": "code",
   "execution_count": 45,
   "metadata": {
    "tags": [
     "hide-input"
    ]
   },
   "outputs": [],
   "source": [
    "### Setup packagaes and global variables\n",
    "\n",
    "from scipy.optimize import curve_fit     ## tool for curve fitting\n",
    "import scipy                             ## tools for science\n",
    "import numpy as np                       ## import the tools of NumPy but use a shorter name\n",
    "import pandas as pd                      ## import tools for data handling\n",
    "from matplotlib import pyplot as plt     ## tools for plotting\n",
    "\n",
    "import uncertainties as un               ## tool set for handling numbers with uncertainties\n",
    "from uncertainties import unumpy as unp  ## a replacement for numpy that uses uncertainty values\n",
    "from uncertainties import umath as um    ## a replacement for math that uses uncertainty values\n",
    "\n",
    "github_location = \"./\"                   ## Use either local folde or github folder. use github locations for Colab\n",
    "github_location_styles = \"./\"\n",
    "#github_location = \"https://raw.githubusercontent.com/blinkletter/3530Biochem/main/data/\"\n",
    "#github_location_styles = \"https://raw.githubusercontent.com/blinkletter/LFER-QSAR/main/styles/\"\n",
    "\n",
    "datafile = \"data/EryingData1.csv\"   # change this file for new data\n",
    "#datafile = \"data/EryingData2.csv\"  \n",
    "#datafile = \"data/EryingDataC1.csv\"  # see bottom of notebook for more info\n"
   ]
  },
  {
   "cell_type": "code",
   "execution_count": 46,
   "metadata": {
    "tags": [
     "hide-input"
    ]
   },
   "outputs": [
    {
     "name": "stdout",
     "output_type": "stream",
     "text": [
      "# from \"Linear Eyring Plots Conceal a Change in the Rate-Limiting Step in an Enzyme Reaction\"\n",
      "# Teresa F. G. Machado, Tracey M. Gloster, and Rafael G. da Silva\n",
      "# Biochemistry 2018 57 (49), 6757-6761\n",
      "# https://doi.org/10.1021/acs.biochem.8b01099\n",
      "#\n",
      "# data for Figure 1: AbHBDH with Acetoacetate \n",
      "\"TEMP(K)\", \"Kcat(s-1)\", \"Error(s-1)\"\n",
      "283,     3.4,      0.1  \n",
      "288,     5.3,      0.2  \n",
      "293,     7.6,      0.2   \n",
      "298,     11.7,     0.3 \n",
      "303,     15.2,     0.1 \n",
      "308,     21.3,     0.9 \n",
      "313,     27.8,     0.9 \n",
      "318,     39,       3 \n",
      "323,     52,       4 \n",
      "325,     61,       2 \n",
      "328,     69,       3 \n",
      "330,     79,       7 \n"
     ]
    }
   ],
   "source": [
    "### Inspect the data file\n",
    "\n",
    "with open(datafile, 'r') as file:\n",
    "    file_content = file.read()  # Read the content of the file\n",
    "    print(file_content)         # Print the content"
   ]
  },
  {
   "cell_type": "code",
   "execution_count": 47,
   "metadata": {
    "tags": [
     "hide-input"
    ]
   },
   "outputs": [],
   "source": [
    "### Read in data set\n",
    "\n",
    "data = pd.read_csv(datafile, \n",
    "                 delimiter = \",\", \n",
    "                 skipinitialspace=True, \n",
    "#                 index_col=\"Substituent\", \n",
    "                 comment = \"#\") \n",
    "#display(data)"
   ]
  },
  {
   "cell_type": "code",
   "execution_count": 48,
   "metadata": {
    "tags": [
     "hide-input"
    ]
   },
   "outputs": [
    {
     "data": {
      "text/html": [
       "<div>\n",
       "<style scoped>\n",
       "    .dataframe tbody tr th:only-of-type {\n",
       "        vertical-align: middle;\n",
       "    }\n",
       "\n",
       "    .dataframe tbody tr th {\n",
       "        vertical-align: top;\n",
       "    }\n",
       "\n",
       "    .dataframe thead th {\n",
       "        text-align: right;\n",
       "    }\n",
       "</style>\n",
       "<table border=\"1\" class=\"dataframe\">\n",
       "  <thead>\n",
       "    <tr style=\"text-align: right;\">\n",
       "      <th></th>\n",
       "      <th>TEMP(K)</th>\n",
       "      <th>Kcat(s-1)</th>\n",
       "      <th>Error(s-1)</th>\n",
       "      <th>k_unc</th>\n",
       "      <th>1/T</th>\n",
       "      <th>ln(k)/T</th>\n",
       "    </tr>\n",
       "  </thead>\n",
       "  <tbody>\n",
       "    <tr>\n",
       "      <th>0</th>\n",
       "      <td>283</td>\n",
       "      <td>3.4</td>\n",
       "      <td>0.1</td>\n",
       "      <td>3.40+/-0.10</td>\n",
       "      <td>0.003534</td>\n",
       "      <td>-4.422+/-0.029</td>\n",
       "    </tr>\n",
       "    <tr>\n",
       "      <th>1</th>\n",
       "      <td>288</td>\n",
       "      <td>5.3</td>\n",
       "      <td>0.2</td>\n",
       "      <td>5.30+/-0.20</td>\n",
       "      <td>0.003472</td>\n",
       "      <td>-4.00+/-0.04</td>\n",
       "    </tr>\n",
       "    <tr>\n",
       "      <th>2</th>\n",
       "      <td>293</td>\n",
       "      <td>7.6</td>\n",
       "      <td>0.2</td>\n",
       "      <td>7.60+/-0.20</td>\n",
       "      <td>0.003413</td>\n",
       "      <td>-3.652+/-0.026</td>\n",
       "    </tr>\n",
       "    <tr>\n",
       "      <th>3</th>\n",
       "      <td>298</td>\n",
       "      <td>11.7</td>\n",
       "      <td>0.3</td>\n",
       "      <td>11.70+/-0.30</td>\n",
       "      <td>0.003356</td>\n",
       "      <td>-3.238+/-0.026</td>\n",
       "    </tr>\n",
       "    <tr>\n",
       "      <th>4</th>\n",
       "      <td>303</td>\n",
       "      <td>15.2</td>\n",
       "      <td>0.1</td>\n",
       "      <td>15.20+/-0.10</td>\n",
       "      <td>0.003300</td>\n",
       "      <td>-2.992+/-0.007</td>\n",
       "    </tr>\n",
       "    <tr>\n",
       "      <th>5</th>\n",
       "      <td>308</td>\n",
       "      <td>21.3</td>\n",
       "      <td>0.9</td>\n",
       "      <td>21.3+/-0.9</td>\n",
       "      <td>0.003247</td>\n",
       "      <td>-2.67+/-0.04</td>\n",
       "    </tr>\n",
       "    <tr>\n",
       "      <th>6</th>\n",
       "      <td>313</td>\n",
       "      <td>27.8</td>\n",
       "      <td>0.9</td>\n",
       "      <td>27.8+/-0.9</td>\n",
       "      <td>0.003195</td>\n",
       "      <td>-2.421+/-0.032</td>\n",
       "    </tr>\n",
       "    <tr>\n",
       "      <th>7</th>\n",
       "      <td>318</td>\n",
       "      <td>39.0</td>\n",
       "      <td>3.0</td>\n",
       "      <td>39.0+/-3.0</td>\n",
       "      <td>0.003145</td>\n",
       "      <td>-2.10+/-0.08</td>\n",
       "    </tr>\n",
       "    <tr>\n",
       "      <th>8</th>\n",
       "      <td>323</td>\n",
       "      <td>52.0</td>\n",
       "      <td>4.0</td>\n",
       "      <td>52+/-4</td>\n",
       "      <td>0.003096</td>\n",
       "      <td>-1.83+/-0.08</td>\n",
       "    </tr>\n",
       "    <tr>\n",
       "      <th>9</th>\n",
       "      <td>325</td>\n",
       "      <td>61.0</td>\n",
       "      <td>2.0</td>\n",
       "      <td>61.0+/-2.0</td>\n",
       "      <td>0.003077</td>\n",
       "      <td>-1.673+/-0.033</td>\n",
       "    </tr>\n",
       "    <tr>\n",
       "      <th>10</th>\n",
       "      <td>328</td>\n",
       "      <td>69.0</td>\n",
       "      <td>3.0</td>\n",
       "      <td>69.0+/-3.0</td>\n",
       "      <td>0.003049</td>\n",
       "      <td>-1.56+/-0.04</td>\n",
       "    </tr>\n",
       "    <tr>\n",
       "      <th>11</th>\n",
       "      <td>330</td>\n",
       "      <td>79.0</td>\n",
       "      <td>7.0</td>\n",
       "      <td>79+/-7</td>\n",
       "      <td>0.003030</td>\n",
       "      <td>-1.43+/-0.09</td>\n",
       "    </tr>\n",
       "  </tbody>\n",
       "</table>\n",
       "</div>"
      ],
      "text/plain": [
       "    TEMP(K)  Kcat(s-1)  Error(s-1)         k_unc       1/T         ln(k)/T\n",
       "0       283        3.4         0.1   3.40+/-0.10  0.003534  -4.422+/-0.029\n",
       "1       288        5.3         0.2   5.30+/-0.20  0.003472    -4.00+/-0.04\n",
       "2       293        7.6         0.2   7.60+/-0.20  0.003413  -3.652+/-0.026\n",
       "3       298       11.7         0.3  11.70+/-0.30  0.003356  -3.238+/-0.026\n",
       "4       303       15.2         0.1  15.20+/-0.10  0.003300  -2.992+/-0.007\n",
       "5       308       21.3         0.9    21.3+/-0.9  0.003247    -2.67+/-0.04\n",
       "6       313       27.8         0.9    27.8+/-0.9  0.003195  -2.421+/-0.032\n",
       "7       318       39.0         3.0    39.0+/-3.0  0.003145    -2.10+/-0.08\n",
       "8       323       52.0         4.0        52+/-4  0.003096    -1.83+/-0.08\n",
       "9       325       61.0         2.0    61.0+/-2.0  0.003077  -1.673+/-0.033\n",
       "10      328       69.0         3.0    69.0+/-3.0  0.003049    -1.56+/-0.04\n",
       "11      330       79.0         7.0        79+/-7  0.003030    -1.43+/-0.09"
      ]
     },
     "metadata": {},
     "output_type": "display_data"
    }
   ],
   "source": [
    "### Calculate values for Eyring Plot\n",
    "\n",
    "df = data                            # set the dataframe to be the dataframe read in above\n",
    "\n",
    "#df = data.loc[[2,4,6,8]].copy()       # slice a set of rows from the dataframe to demonstrate\n",
    "                                      #   a smaller dataset and the effect on precision\n",
    "\n",
    "#df = data.loc[6:11].copy()             # slice consecutive rows\n",
    "\n",
    "\n",
    "\n",
    "df[\"k_unc\"] = unp.uarray(df[\"Kcat(s-1)\"],df[\"Error(s-1)\"])   # Combine value and stdev to make Uncertainties values\n",
    "df[\"1/T\"] = 1/df[\"TEMP(K)\"]                                  # get 1/T for x-axis\n",
    "df[\"ln(k)/T\"] = unp.log(df[\"k_unc\"]/df[\"TEMP(K)\"])           # get ln(k/T) for y-axis with error propagation\n",
    "\n",
    "display(df)\n"
   ]
  },
  {
   "cell_type": "markdown",
   "metadata": {},
   "source": [
    "## Remove the Lever Arm\n",
    "\n",
    "The precision of the intercept is very low because of the huge distance that is covered between the data and the y-axis.\n",
    "\n",
    "Let us simply subtract that difference. Suddenly the data spans the y-axis and the precision of the intecept is excellent. But, when we back-calculate to the rate at a given temperature, will all this get undone by the laws of mathematics or have we cracked the code and obtained better precision?\n",
    "\n",
    "The sort answer is that your method matters. This method will indeed improve the precision. I will leave it to statisticians to argue its validity but at least every step is documented in the code. Anyone can see exactly what I did and make their comments accordingly."
   ]
  },
  {
   "cell_type": "code",
   "execution_count": 49,
   "metadata": {},
   "outputs": [
    {
     "name": "stdout",
     "output_type": "stream",
     "text": [
      "0     0.000503\n",
      "1     0.000442\n",
      "2     0.000383\n",
      "3     0.000325\n",
      "4     0.000270\n",
      "5     0.000216\n",
      "6     0.000165\n",
      "7     0.000114\n",
      "8     0.000066\n",
      "9     0.000047\n",
      "10    0.000018\n",
      "11    0.000000\n",
      "Name: 1/T, dtype: float64\n"
     ]
    },
    {
     "data": {
      "image/png": "[encoded data removed]",
      "text/plain": [
       "<Figure size 400x400 with 1 Axes>"
      ]
     },
     "metadata": {},
     "output_type": "display_data"
    },
    {
     "name": "stdout",
     "output_type": "stream",
     "text": [
      "The slope is -5857.88 +/- 89.28\n",
      "The intercept is -1.411 +/- 0.0254\n",
      "The RSQ is 0.999\n"
     ]
    }
   ],
   "source": [
    "### Remove Lever Arm\n",
    "\n",
    "### Choose our x and y values.\n",
    "x = df[\"1/T\"]\n",
    "y = unp.nominal_values(df[\"ln(k)/T\"])\n",
    "y_err = unp.std_devs(df[\"ln(k)/T\"])\n",
    "\n",
    "#offset = 0.0033\n",
    "offset = np.min(x)\n",
    "\n",
    "x_o = x - offset\n",
    "print(x_o)\n",
    "nstd = 2.     # Number of sigmas for confidence interval 1 = 68%, 2 = 95%, 3 = 99.7% confidence\n",
    "\n",
    "### Curve fit to linear function\n",
    "\n",
    "def linear(x, slope, intercept):\n",
    "    return slope * x + intercept\n",
    "\n",
    "poptL,pcovL = curve_fit(linear, x_o, y, \n",
    "                       sigma = y_err, absolute_sigma=False  # Include st_devs for y data in calculations\n",
    "                     )\n",
    "\n",
    "[slope,intercept] = poptL\n",
    "perr = np.sqrt(np.diag(pcovL))\n",
    "\n",
    "### Create figure for plot\n",
    "plt.rcdefaults()\n",
    "\n",
    "style = \"tufte.mplstyle\"\n",
    "#style = \"S2_classic2.mplstyle\"\n",
    "style_name = github_location_styles + style\n",
    "plt.style.use(style_name)\n",
    "\n",
    "size = [4,4]\n",
    "fig, ax = plt.subplots(nrows=1, ncols=1, figsize=size)  \n",
    "\n",
    "### Create plot #0 for plot\n",
    "\n",
    "# Settings for plot\n",
    "ax.set(\n",
    "#          title = Title,       \n",
    "          ylabel=r\"$\\ln (k / T)$\", \n",
    "          xlabel=r\"$1/T$\",                \n",
    "          xlim=[-0.00006,0.00054],                  \n",
    "          ylim=[-4.5,-1.1]\n",
    "       )\n",
    "\n",
    "ax.set_xticks([0.000,0.0002,0.0004])\n",
    "\n",
    "# Plot the data\n",
    "#ax.scatter(x_o, y, marker = \"o\", s = 70, color = \"white\", alpha = 1.0, zorder = 1)\n",
    "ax.scatter(x_o, y, marker = \"o\", s = 30, \n",
    "              color = \"white\", edgecolors = \"black\", \n",
    "              linewidths=0.5, zorder = 3) \n",
    "\n",
    "# Add error bars\n",
    "ax.errorbar(x_o, y, yerr=2*y_err, xerr=None, fmt=\"None\", \n",
    "               ecolor=\"black\", elinewidth=0.5, \n",
    "               capsize=2, capthick=0.5, zorder=2)\n",
    "\n",
    "# Calculate the line from curve fit parameters\n",
    "x_fit = np.linspace(np.min(x_o), np.max(x_o), 100)\n",
    "#x_fit = np.linspace(0, np.max(x_o), 100)\n",
    "y_fit = linear(x_fit,slope,intercept)\n",
    "\n",
    "# Plot the curve fit line\n",
    "ax.plot(x_fit, y_fit, \n",
    "           marker = None, color = \"black\", \n",
    "           linewidth=0.5, zorder = 2)\n",
    "\n",
    "# prepare confidence level curves\n",
    "popt_plus = poptL + nstd * perr    # add error to parameters\n",
    "popt_minus = poptL - nstd * perr   # subtract error from paramneters\n",
    "\n",
    "# steeper slope will result in higher intercept and vice versa\n",
    "confidence_line_1 = linear(x=x_fit, slope=popt_plus[0], intercept=popt_minus[1])\n",
    "confidence_line_2 = linear(x=x_fit, slope=popt_minus[0], intercept=popt_plus[1])\n",
    "\n",
    "# Plot confidence interval\n",
    "ax.fill_between(x_fit, confidence_line_1, confidence_line_2, \n",
    "                   color=\"lightgray\", alpha=1, zorder = 0,\n",
    "                   label=\"confidence interval\")\n",
    "\n",
    "### Output plot\n",
    "plt.tight_layout(pad=2, h_pad=None, w_pad=None, rect=None)\n",
    "plt.savefig(\"Eyring_L.pdf\")\n",
    "plt.show()\n",
    "\n",
    "print(f\"The slope is {slope:0.2f} +/- {perr[0]:0.2f}\")\n",
    "print(f\"The intercept is {intercept:0.3f} +/- {perr[1]:0.4f}\")\n",
    "\n",
    "r, p = scipy.stats.pearsonr(x, y)\n",
    "rsq = r ** 2\n",
    "\n",
    "print(f\"The RSQ is {rsq:0.3f}\")\n",
    "\n"
   ]
  },
  {
   "cell_type": "markdown",
   "metadata": {},
   "source": [
    "## Calculate Activation Parameters\n",
    "\n",
    "We now have values for the slope and intercept. We can use the definitions of the slope and intercept in the Erying equation to calculate the thermodynamic parameters for the transition state.\n",
    "\n",
    "$$\\text{slope} = \\frac{-\\Delta H^\\ddagger}{R}$$\n",
    "\n",
    "$$ \\Delta H^\\ddagger = -\\text{slope}\\cdot R$$\n",
    "\n",
    "and\n",
    "\n",
    "$$\\text{intercept} = \\ln\\frac{\\kappa k_B}{h} + \\frac{\\Delta S^\\ddagger}{R}$$\n",
    "\n",
    "\n",
    "$$\\Delta S^\\ddagger =\\left( \\text{intercept} - \\ln\\frac{\\kappa k_B}{h}\\right) R $$\n",
    "\n",
    "$\\kappa$ is the transmission coefficient and is assumed to be unity in transition state theory\n",
    "\n",
    "$k_B$ is the Boltzman constant: $1.380649\\times10^{23} \\ J\\, K^{-1}$\n",
    "\n",
    "$R$ is the gas constant: $8.314462618 \\ J\\, mol^{-1} K^{-1}$ \n",
    "\n",
    "$h$ is the Planck constant: $6.62607015\\times10^{-34}\\ J\\, s$"
   ]
  },
  {
   "cell_type": "code",
   "execution_count": 50,
   "metadata": {},
   "outputs": [
    {
     "name": "stdout",
     "output_type": "stream",
     "text": [
      "The change in enthalpy is 48705.16+/-742.32 J/mole\n",
      "The change in entropy is -61.69+/-2.26 J/mole.K\n",
      "calculate k at T=325 K is 60.32+/-1.55\n"
     ]
    }
   ],
   "source": [
    "Temp = 325\n",
    "R = scipy.constants.R\n",
    "kb = scipy.constants.k\n",
    "h = scipy.constants.h\n",
    "kappa = 1\n",
    "\n",
    "slope_unc = un.ufloat(slope, perr[0])\n",
    "dH = -slope_unc * R\n",
    "print(f\"The change in enthalpy is {dH:0.2f} J/mole\")\n",
    "\n",
    "intercept_unc = un.ufloat(intercept, perr[1])\n",
    "intercept_unc = intercept_unc - (slope_unc * offset)\n",
    "\n",
    "#print(f\"{intercept_unc:0.2f}\")\n",
    "dS = (intercept_unc - np.log(kb/h)) * R\n",
    "\n",
    "print(f\"The change in entropy is {dS:0.2f} J/mole.K\")\n",
    "\n",
    "## calculate k from Erying plot parameters.\n",
    "\n",
    "kobs = (kappa * kb / h) * Temp * unp.exp(-dH/(R*Temp)) * unp.exp(dS/R)\n",
    "\n",
    "print(f\"calculate k at T={Temp} K is {kobs:0.2f}\")\n",
    "\n"
   ]
  },
  {
   "cell_type": "markdown",
   "metadata": {},
   "source": [
    "### An observation about uncertainties\n",
    "\n",
    "Observe that above we have an entropy value with a similar standard deviation for the previous method that strongly correclated slope and intercept in the Eyring plot. And yet, the error in the calculated rate constant using these values is much less than in the previous notebook. \n",
    "\n",
    "\n",
    "This was because, in order to calculate $\\Delta S^\\ddagger$ I mutltiplies the offset by the slope and added it to the intercept value. This correlates the value for $\\Delta S^\\ddagger$ to the uncertainty in the slope value. The *Uncertainties* package keeps track of these correlations. It knows where this value of $\\Delta S^\\ddagger$ came from and everything that has touched it.\n",
    "\n",
    "If we create values for $\\Delta S^\\ddagger$ and $\\Delta H^\\ddagger$ directly as new uncertainty objects with no internal calculation history we get results like the previous notebook with a larger error, reflective of the larger apparent uncertainty in $\\Delta S^\\ddagger$ obtained by taking the intecept value and getting its value at the offset point. The code below will do this. Compare with the values determined above."
   ]
  },
  {
   "cell_type": "code",
   "execution_count": 51,
   "metadata": {},
   "outputs": [
    {
     "name": "stdout",
     "output_type": "stream",
     "text": [
      "calculate k at T=325 K is 60.34+/-23.32\n"
     ]
    }
   ],
   "source": [
    "dS = un.ufloat_fromstr(\"-61.69+/-2.26\")\n",
    "dH = un.ufloat_fromstr(\"48705.16+/-742.32\")\n",
    "\n",
    "kobs = (kappa * kb / h) * Temp * unp.exp(-dH/(R*Temp)) * unp.exp(dS/R)\n",
    "\n",
    "print(f\"calculate k at T={Temp} K is {kobs:0.2f}\")\n"
   ]
  },
  {
   "cell_type": "markdown",
   "metadata": {},
   "source": [
    "## Including Uncertainties from the start\n",
    "\n",
    "The ```scipy.stats.curve_fit()``` function reports the parameters and their errors separately as floating point numbers. It does not generate uncertainty values. We created the uncertainty values by combining each parameter with its standard deviation using the ```uncertainties.Ufloat()``` function.\n",
    "\n",
    "The curve fitting packahae *LMfit* includes the *Uncertainties* package within it and will generate the parameters as uncertainty objects. I wonder if that means that the intercept object is aware of its strong correlation to slope. Let us give it a try"
   ]
  },
  {
   "cell_type": "code",
   "execution_count": null,
   "metadata": {},
   "outputs": [],
   "source": []
  },
  {
   "cell_type": "code",
   "execution_count": 226,
   "metadata": {},
   "outputs": [
    {
     "name": "stdout",
     "output_type": "stream",
     "text": [
      "parameter names: ['slope', 'intercept']\n",
      "independent variables: ['x']\n",
      "None\n",
      "16.34+/-0.29\n",
      "-5857.88+/-89.28\n"
     ]
    },
    {
     "data": {
      "image/png": "[encoded data removed]",
      "text/plain": [
       "<Figure size 400x500 with 2 Axes>"
      ]
     },
     "metadata": {},
     "output_type": "display_data"
    },
    {
     "name": "stdout",
     "output_type": "stream",
     "text": [
      "The change in enthalpy is 48705.16+/-742.32 J/mole\n",
      "The change in entropy is -61.69+/-2.45 J/mole.K\n",
      "calculate k at T=325 K is 60.32+/-1.30\n"
     ]
    }
   ],
   "source": [
    "#!pip install lmfit  ### uncomment to install if needed\n",
    "\n",
    "import lmfit         ### must be installed with !pip install lmfit\n",
    "                     ### uncertainties will be installed as a dependancy\n",
    "                     ### for docs see https://lmfit.github.io/lmfit-py/\n",
    "\n",
    "x = df[\"1/T\"]\n",
    "y = unp.nominal_values(df[\"ln(k)/T\"])\n",
    "y_err = unp.std_devs(df[\"ln(k)/T\"])\n",
    "\n",
    "def linear(x, slope, intercept):\n",
    "    return slope * x + intercept\n",
    "\n",
    "\n",
    "mod = lmfit.Model(linear)                            # load the function f as the model to be fit\n",
    "print(f'parameter names: {mod.param_names}')\n",
    "print(f'independent variables: {mod.independent_vars}')\n",
    "pars = mod.make_params(slope=-1000, intercept=-1  )   # state the parameters (use the text strings that we used above in sympy)\n",
    "                                                # initial values are also set here\n",
    "\n",
    "result = mod.fit(y, pars, x=x, weights=1.0/y_err)             # use the .fit method on the model object to perform the curve fit\n",
    "                                           # the variable in this function is 't' so we must use that in the call\n",
    "\n",
    "#result.conf_interval(\"lsquares\", result=result, \n",
    "#                     p_names=[\"slope\",\"intercept\"], sigmas=None, trace=False, \n",
    "#                     maxiter=200, verbose=False, prob_func=None)\n",
    "print(result.ci_out)\n",
    "##########################\n",
    "### get the results \n",
    "##########################\n",
    "\n",
    "#print(result.fit_report())\n",
    "#print(result.ci_report())\n",
    "\n",
    "\n",
    "intercept = result.uvars['intercept']         ### collect parameters as uncertain values\n",
    "slope = result.uvars['slope']\n",
    "\n",
    "print(f\"{intercept:3u}\")\n",
    "print(f\"{slope:0.4u}\")\n",
    "plt.rcdefaults()\n",
    "style = \"tufte.mplstyle\"\n",
    "#style = \"S2_classic2.mplstyle\"\n",
    "style_name = github_location_styles + style\n",
    "plt.style.use(style_name)\n",
    "\n",
    "\n",
    "fig = plt.figure(figsize = [4,5])\n",
    "result.plot(fig = fig,\n",
    "            fig_kws = {},\n",
    "            xlabel = r\"$1/T$\",\n",
    "            ylabel = r\"$\\ln \\left( k/T \\right)$\",\n",
    "            yerr = 2*y_err,\n",
    "            title = \" \",\n",
    "            data_kws ={\"color\":\"k\", \"linestyle\":\"None\", \"linewidth\": 0.5,\"markerfacecolor\": \"white\",\n",
    "                       \"markeredgecolor\":\"black\", \"markeredgewidth\":0.5},\n",
    "            fit_kws ={\"linewidth\": 0.5},\n",
    "            ax_res_kws = {},\n",
    "            ax_fit_kws = {},\n",
    "            )\n",
    "\n",
    "ax = fig.axes   # get the axes from the plot (there are two in a list)\n",
    "\n",
    "ax[1].set_xticks([0.0031,0.0033,0.0035])  # These will be the ticks for both axes\n",
    "\n",
    "ax[1].scatter(0.0033,-2)\n",
    "\n",
    "### do not show legend \n",
    "fig.legend([])\n",
    "ax[1].legend([])\n",
    "\n",
    "fig.savefig(\"plots/LMfitplot1.pdf\")\n",
    "plt.show()\n",
    "\n",
    "\n",
    "\n",
    "Temp = 325\n",
    "R = scipy.constants.R\n",
    "kb = scipy.constants.k\n",
    "h = scipy.constants.h\n",
    "kappa = 1\n",
    "\n",
    "dH = -slope * R\n",
    "print(f\"The change in enthalpy is {dH:0.2f} J/mole\")\n",
    "\n",
    "dS = (intercept - np.log(kb/h)) * R\n",
    "print(f\"The change in entropy is {dS:0.2f} J/mole.K\")\n",
    "\n",
    "## calculate k from Erying plot parameters.\n",
    "\n",
    "kobs = (kappa * kb / h) * Temp * unp.exp(-dH/(R*Temp)) * unp.exp(dS/R)\n",
    "\n",
    "print(f\"calculate k at T={Temp} K is {kobs:0.2f}\")\n",
    "\n"
   ]
  },
  {
   "cell_type": "code",
   "execution_count": 224,
   "metadata": {},
   "outputs": [
    {
     "data": {
      "image/png": "[encoded data removed]",
      "text/plain": [
       "<Figure size 400x400 with 2 Axes>"
      ]
     },
     "metadata": {},
     "output_type": "display_data"
    }
   ],
   "source": [
    "result.plot()\n",
    "plt.show()"
   ]
  },
  {
   "cell_type": "code",
   "execution_count": 88,
   "metadata": {},
   "outputs": [
    {
     "name": "stdout",
     "output_type": "stream",
     "text": [
      "The change in enthalpy is 48705.16+/-742.32 J/mole\n",
      "The change in entropy is -61.69+/-2.45 J/mole.K\n",
      "calculate k at T=280 K is (2.869+/-0.072)e+00\n"
     ]
    }
   ],
   "source": [
    "Temp = 280\n",
    "R = scipy.constants.R\n",
    "kb = scipy.constants.k\n",
    "h = scipy.constants.h\n",
    "kappa = 1\n",
    "\n",
    "dH = -slope * R\n",
    "print(f\"The change in enthalpy is {dH:0.2f} J/mole\")\n",
    "\n",
    "dS = (intercept - np.log(kb/h)) * R\n",
    "print(f\"The change in entropy is {dS:0.2f} J/mole.K\")\n",
    "\n",
    "## calculate k from Erying plot parameters.\n",
    "kobs = (kappa * kb / h) * Temp * unp.exp(-dH/(R*Temp)) * unp.exp(dS/R)\n",
    "print(f\"calculate k at T={Temp} K is {kobs:0.2ue}\")"
   ]
  },
  {
   "cell_type": "code",
   "execution_count": 107,
   "metadata": {},
   "outputs": [
    {
     "name": "stdout",
     "output_type": "stream",
     "text": [
      "[0.013047978434730712, 0.014058080917441413, 0.015129840019378046, 0.016265456425132486, 0.01746704961406227, 0.018736635047092262, 0.02007609911561407, 0.021487171730951913, 0.022971396434637626, 0.024530097913299326, 0.02616434680774186, 0.027874921714346655, 0.029662268288914738, 0.031526455379391596, 0.03346712813562389, 0.035483458072781734, 0.03757409010210189, 0.03973708659038408, 0.04196986857111647, 0.044269154308919874, 0.046630895520047094, 0.04905021168125743, 0.051521323025844175, 0.05403748303985795, 0.056590911548265545, 0.0591727298393254, 0.061772899742035946, 0.06438016918141276, 0.06698202753755489, 0.06956467519246047, 0.07211301305316321, 0.07461065971475035, 0.07704000644319221, 0.07938232355241993, 0.08161793635039788, 0.08372649508702679, 0.08568737187073812, 0.08748022916252547, 0.08908582029250597, 0.09048710381721327, 0.09167078192379408, 0.0926294096823937, 0.09336426655487058, 0.09388923007977351, 0.09423593080382817, 0.09446046504301613, 0.09465183082455296, 0.09494191238304237, 0.09551609812706348, 0.09662233406294155, 0.09857474178321475, 0.10174677913415402, 0.10655017101256004, 0.11340112898195345, 0.12268316270742657, 0.1347201053368618, 0.14976866621627694, 0.1680296150970015, 0.1896689707577187, 0.21483987517131495, 0.24369975897289703, 0.27642155282240055, 0.31319998445668407, 0.3542545999561343, 0.3998309117449865, 0.4502006283544641, 0.5056615338582454, 0.5665373208652988, 0.6331775222677867, 0.7059575995316641, 0.7852792008076487, 0.87157058159134, 0.9652871727161624, 1.0669122787426675, 1.1769578908973122, 1.295965600865853, 1.4245076041159557, 1.5631877836341066, 1.7126428668768665, 1.8735436503284233, 2.0465962873511816]\n"
     ]
    }
   ],
   "source": [
    "Temp = 300\n",
    "R = scipy.constants.R\n",
    "kb = scipy.constants.k\n",
    "h = scipy.constants.h\n",
    "kappa = 1\n",
    "\n",
    "dH_L = []; dS_L = []; kobsL = [];err=[]\n",
    "Temps = np.arange(250,331,1)\n",
    "for Temp in Temps:\n",
    "\n",
    "    dH = -slope * R\n",
    "    #print(f\"The change in enthalpy is {dH:0.2f} J/mole\")\n",
    "    \n",
    "    dS = (intercept - np.log(kb/h)) * R\n",
    "    #print(f\"The change in entropy is {dS:0.2f} J/mole.K\")\n",
    "    \n",
    "    ## calculate k from Erying plot parameters.\n",
    "    kobs = (kappa * kb / h) * Temp * unp.exp(-dH/(R*Temp)) * unp.exp(dS/R)\n",
    "    #print(f\"calculate k at T={Temp} K is {kobs:0.2ue}\")\n",
    "\n",
    "    dH_L.append(dH)\n",
    "    dS_L.append(dS)\n",
    "    kobsL.append(kobs)\n",
    "    err.append(kobs.s)\n",
    "\n",
    "print(err)"
   ]
  },
  {
   "cell_type": "code",
   "execution_count": 108,
   "metadata": {},
   "outputs": [
    {
     "data": {
      "text/plain": [
       "[<matplotlib.lines.Line2D at 0x12b65c310>]"
      ]
     },
     "execution_count": 108,
     "metadata": {},
     "output_type": "execute_result"
    },
    {
     "data": {
      "image/png": "[encoded data removed]",
      "text/plain": [
       "<Figure size 400x300 with 1 Axes>"
      ]
     },
     "metadata": {},
     "output_type": "display_data"
    }
   ],
   "source": [
    "plt.plot(Temps,(err/Temps*100))\n",
    "plt.plot(Temps,(err))"
   ]
  },
  {
   "cell_type": "code",
   "execution_count": 225,
   "metadata": {},
   "outputs": [],
   "source": [
    "#help(lmfit.confidence)"
   ]
  },
  {
   "cell_type": "code",
   "execution_count": 123,
   "metadata": {},
   "outputs": [
    {
     "ename": "AttributeError",
     "evalue": "'ModelResult' object has no attribute 'dely'",
     "output_type": "error",
     "traceback": [
      "\u001b[0;31m---------------------------------------------------------------------------\u001b[0m",
      "\u001b[0;31mAttributeError\u001b[0m                            Traceback (most recent call last)",
      "Cell \u001b[0;32mIn[123], line 1\u001b[0m\n\u001b[0;32m----> 1\u001b[0m \u001b[38;5;28mdir\u001b[39m(\u001b[43mresult\u001b[49m\u001b[38;5;241;43m.\u001b[39;49m\u001b[43mdely\u001b[49m)\n",
      "\u001b[0;31mAttributeError\u001b[0m: 'ModelResult' object has no attribute 'dely'"
     ]
    }
   ],
   "source": [
    "dir(result.dely)"
   ]
  },
  {
   "cell_type": "code",
   "execution_count": 121,
   "metadata": {},
   "outputs": [
    {
     "data": {
      "text/plain": [
       "True"
      ]
     },
     "execution_count": 121,
     "metadata": {},
     "output_type": "execute_result"
    }
   ],
   "source": [
    "result.errorbars"
   ]
  },
  {
   "cell_type": "code",
   "execution_count": null,
   "metadata": {},
   "outputs": [],
   "source": []
  }
 ],
 "metadata": {
  "kernelspec": {
   "display_name": "Python 3",
   "language": "python",
   "name": "python3"
  },
  "language_info": {
   "codemirror_mode": {
    "name": "ipython",
    "version": 3
   },
   "file_extension": ".py",
   "mimetype": "text/x-python",
   "name": "python",
   "nbconvert_exporter": "python",
   "pygments_lexer": "ipython3",
   "version": "3.11.7"
  }
 },
 "nbformat": 4,
 "nbformat_minor": 4
}
