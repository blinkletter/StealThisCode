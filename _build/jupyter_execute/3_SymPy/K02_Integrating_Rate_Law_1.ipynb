{
 "cells": [
  {
   "cell_type": "markdown",
   "metadata": {},
   "source": [
    "# Integrating Rate Laws\n",
    "\n",
    "*SymPy* can perform integration and differentiation operations on many expressions. Let us explore integrating the simple rate equations that you are familiar with.\n",
    "\n",
    "## Integrating First Order Reactions\n",
    "\n",
    "A basic first order reaction might be described as such...\n",
    "\n",
    "$$ A \\xrightarrow{k} B $$ \n",
    "\n",
    "The rate can be expressed as the disappearance of A over time and is equal to the rate constant multiplied by the concentration of reacatant at a given time point...\n",
    "\n",
    "$$ -\\frac{d}{dt}[A]_t = k[A]_t $$\n",
    "\n",
    "We can state that the amount of reactant consumed at a give time point is $x$ and that the concentration of reactant is the initial concentration less this value.\n",
    "\n",
    "$$ [A]_t = [A]_0 - x $$\n",
    "\n",
    "Substitute this into the equation for rate and we get...\n",
    "\n",
    "$$ -\\frac{d}{d t}([A]_0 - x) = k([A]_0 - x) $$\n",
    "\n",
    "...which can be simplified to give...\n",
    "\n",
    " $$   \\frac{d x}{d t} = k([A]_0 - x) $$\n",
    "\n",
    "In your first year calculus class you would solve this by collecting the differentials for $x$ and $t$ on either side of the equation and then integrating each side over the span of time.\n",
    "\n",
    "$$ \\frac{d x}{[A]_0 - x} = k\\,dt $$\n",
    "$$ \\int_0^x \\frac{d x}{[A]_0 - x} = \\int_0^t k\\,dt $$\n",
    "\n",
    "### Using Substitution\n",
    "\n",
    "We have *SymPy* to perform the integration for us. This is accomplished by using the `sympy.dsolve()` function. We will be asking $SymPy$ to solve the differential equation stated above like so...\n",
    "\n",
    "$$ \\text{sym.dsolve}\\left( \\frac{d x}{d t} = k([A]_0 - x) \\right) $$\n",
    "\n",
    "Examine the code below. Observe that we established a differential equation, `diffeq` and then applied the `sympy.dsolve` function to it. In this case, we know that $x_t = 0$ and we use the \"initial conditions\" parameter of `dsolve` to set set that fact. This will give us the definite integral starting a time = $0$ to time = $t$.\n",
    "\n"
   ]
  },
  {
   "cell_type": "code",
   "execution_count": 9,
   "metadata": {
    "tags": [
     "hide-input"
    ]
   },
   "outputs": [
    {
     "name": "stdout",
     "output_type": "stream",
     "text": [
      "The differential equation is...\n"
     ]
    },
    {
     "data": {
      "text/latex": [
       "$\\displaystyle \\frac{d}{d t} x_{t}{\\left(t \\right)} = k \\left(A_{0} - x_{t}{\\left(t \\right)}\\right)$"
      ],
      "text/plain": [
       "Eq(Derivative(x_t(t), t), k*(A0 - x_t(t)))"
      ]
     },
     "metadata": {},
     "output_type": "display_data"
    },
    {
     "name": "stdout",
     "output_type": "stream",
     "text": [
      "The integrated equation starting at x=0 when t=0 is...\n"
     ]
    },
    {
     "data": {
      "text/latex": [
       "$\\displaystyle x_{t}{\\left(t \\right)} = A_{0} - A_{0} e^{- k t}$"
      ],
      "text/plain": [
       "Eq(x_t(t), A0 - A0*exp(-k*t))"
      ]
     },
     "metadata": {},
     "output_type": "display_data"
    }
   ],
   "source": [
    "import sympy as sym\n",
    "\n",
    "t = sym.symbols('t')     ### create x as a 'symbol', not a variable\n",
    "k = sym.symbols('k')     ### create k as a 'symbol'\n",
    "A0 = sym.symbols('A0')   ### create A0 as a 'symbol'\n",
    "\n",
    "xt = sym.Function('x_t')    ### create x as a 'function', not a variable\n",
    "\n",
    "lhs = xt(t).diff(t)       ### differential of x(t) w.r.t. t\n",
    "rhs = k*(A0 - xt(t))\n",
    "\n",
    "print(\"The differential equation is...\")\n",
    "diffeq = sym.Eq(lhs, rhs)   ### create a sympy equation\n",
    "display(diffeq)             ### display that equation\n",
    "\n",
    "print(\"The integrated equation starting at x=0 when t=0 is...\")\n",
    "res = sym.dsolve(diffeq, ics={xt(0): 0})     ### Solve the differential equation. \n",
    "                                            ### Initial condition is x(t) = 0 when t = 0\n",
    "display(res)"
   ]
  },
  {
   "cell_type": "markdown",
   "metadata": {},
   "source": [
    "### Using *SymPy* Substitutions\n",
    "Below is the same operationa as above but here I will demonstrate the symbolic math features of *SymPy*. Here we start with the rate law and use *SymPy* to make the substitutions discussed above. We will start with...\n",
    "\n",
    "$$ -\\frac{d}{dt}[A]_t = k[A]_t $$\n",
    "\n",
    "...and then substitute in the expression for $A_t$ in terms of $x$ using *SymPy*\n",
    "\n",
    "$$ [A]_t = [A]_0 - x $$\n",
    "\n",
    "We will the solve the differential that is prosuced by the substitution. Observe we get the same answer.\n"
   ]
  },
  {
   "cell_type": "code",
   "execution_count": 10,
   "metadata": {
    "tags": [
     "hide-input"
    ]
   },
   "outputs": [
    {
     "name": "stdout",
     "output_type": "stream",
     "text": [
      "The initial differential equation is...\n"
     ]
    },
    {
     "data": {
      "text/latex": [
       "$\\displaystyle \\frac{d}{d t} \\left(- A_{t}\\right) = A_{t} k$"
      ],
      "text/plain": [
       "Eq(Derivative(-A_t, t), A_t*k)"
      ]
     },
     "metadata": {},
     "output_type": "display_data"
    },
    {
     "name": "stdout",
     "output_type": "stream",
     "text": [
      "After substituting the differential equation is...\n"
     ]
    },
    {
     "data": {
      "text/latex": [
       "$\\displaystyle \\frac{\\partial}{\\partial t} \\left(- A_{0} + x_{t}{\\left(t \\right)}\\right) = k \\left(A_{0} - x_{t}{\\left(t \\right)}\\right)$"
      ],
      "text/plain": [
       "Eq(Derivative(-A0 + x_t(t), t), k*(A0 - x_t(t)))"
      ]
     },
     "metadata": {},
     "output_type": "display_data"
    },
    {
     "name": "stdout",
     "output_type": "stream",
     "text": [
      "The integrated equation starting at x=0 when t=0 is...\n"
     ]
    },
    {
     "data": {
      "text/latex": [
       "$\\displaystyle x_{t}{\\left(t \\right)} = A_{0} - A_{0} e^{- k t}$"
      ],
      "text/plain": [
       "Eq(x_t(t), A0 - A0*exp(-k*t))"
      ]
     },
     "metadata": {},
     "output_type": "display_data"
    }
   ],
   "source": [
    "import sympy as sym\n",
    "\n",
    "t = sym.symbols('t')     ### create x as a 'symbol', not a variable\n",
    "k = sym.symbols('k')     ### create k as a 'symbol'\n",
    "At = sym.symbols('A_t')  ### create At as a 'symbol'\n",
    "A0 = sym.symbols('A0')   ### create A0 as a 'symbol'\n",
    "\n",
    "xt = sym.Function('x_t')    ### create x as a 'function', not a variable\n",
    "\n",
    "lhs = sym.Derivative(-At, t) ### Using Derivative function to get differential of A(t) w.r.t. t\n",
    "                            ### could not used At.diff(t) because At is not a function \n",
    "rhs = k*(At)\n",
    "\n",
    "diffeq = sym.Eq(lhs, rhs)   ### create a sympy equation\n",
    "print(\"The initial differential equation is...\")\n",
    "display(diffeq)             ### display that equation\n",
    "\n",
    "diffeq = diffeq.subs({At: (A0 - xt(t))})\n",
    "\n",
    "print(\"After substituting the differential equation is...\")\n",
    "display(diffeq)             ### display that equation\n",
    "\n",
    "\n",
    "print(\"The integrated equation starting at x=0 when t=0 is...\")\n",
    "res = sym.dsolve(diffeq, ics={xt(0): 0})     ### Solve the differential equation. \n",
    "                                            ### Initial condition is x(t) = 0 when t = 0\n",
    "display(res)\n",
    "#dir(diffeq)"
   ]
  },
  {
   "cell_type": "markdown",
   "metadata": {},
   "source": [
    "## The Final Answer\n",
    "\n",
    "We now have an expression for $x(t)$...\n",
    "\n",
    "$$ x_t = [A]_0 - [A]_0 e^{-k t}$$\n",
    "\n",
    "...and we know that...\n",
    "\n",
    "$$ [A]_t = [A]_0 - x_t $$\n",
    "\n",
    "So we can combine the two equation above and we get an expression for $[A]_t$ in terms of $t$...\n",
    "\n",
    "$$  [A]_0 - [A]_t = [A]_0 - [A]_0 e^{-k t} $$\n",
    "$$  [A]_t = [A]_0 e^{-k t} $$\n",
    " "
   ]
  },
  {
   "cell_type": "code",
   "execution_count": 11,
   "metadata": {
    "tags": [
     "hide-input"
    ]
   },
   "outputs": [
    {
     "name": "stdout",
     "output_type": "stream",
     "text": [
      "The expression for x(t) is...\n"
     ]
    },
    {
     "data": {
      "text/latex": [
       "$\\displaystyle A_{0} - A_{0} e^{- k t}$"
      ],
      "text/plain": [
       "A0 - A0*exp(-k*t)"
      ]
     },
     "metadata": {},
     "output_type": "display_data"
    },
    {
     "name": "stdout",
     "output_type": "stream",
     "text": [
      "The equation for A(t) in terms of x(t) is...\n"
     ]
    },
    {
     "data": {
      "text/latex": [
       "$\\displaystyle A_{t} = A_{0} - x$"
      ],
      "text/plain": [
       "Eq(A_t, A0 - x)"
      ]
     },
     "metadata": {},
     "output_type": "display_data"
    },
    {
     "name": "stdout",
     "output_type": "stream",
     "text": [
      "The equation for A(t) after substituting in the term for x(t)\n"
     ]
    },
    {
     "data": {
      "text/latex": [
       "$\\displaystyle A_{t} = A_{0} e^{- k t}$"
      ],
      "text/plain": [
       "Eq(A_t, A0*exp(-k*t))"
      ]
     },
     "metadata": {},
     "output_type": "display_data"
    }
   ],
   "source": [
    "x = sym.symbols('x')     ### create x as a 'symbol', not a variable or function\n",
    "#At = sym.symbols('A_t')  ### reset At as a 'symbol'\n",
    "\n",
    "xt = res.rhs   ### Get the expression for x(t)\n",
    "print(\"The expression for x(t) is...\")\n",
    "display(xt)\n",
    "\n",
    "eq2 = sym.Eq(At, A0-x)  ### create an equation that defines A(t) in terms of A0 and x\n",
    "print(\"The equation for A(t) in terms of x(t) is...\")\n",
    "display(eq2)\n",
    "\n",
    "eq2 = eq2.subs(x, xt)  ### xt is an expression for x. Substitute x for xt.\n",
    "print(\"The equation for A(t) after substituting in the term for x(t)\")\n",
    "display(eq2)\n"
   ]
  },
  {
   "cell_type": "markdown",
   "metadata": {},
   "source": [
    "## Plotting *SymPy* Expressions\n",
    "\n",
    "It is useful to plot the result of our integration to see if it is as expected.\n",
    "\n",
    "### Using *SymPy* Plotting Tools\n",
    "\n",
    "*SymPy* contains plotting tools that can plot an expression without needing to calculate $x$ and $y$ values. The `sympy.plotting.plot()` dunction will plot the expression. This is different than the *MatPlotLib* set of plotting tools although there are similarities. \n",
    "\n",
    "We will need to substitutre in values for the constants, $A_0$ and $k$, and then extract the right-hand-side of the equation to get the expression that defines $x_t$. We then use that expression in the `sympy.plotting.plot()` function. Consider the example of the code below."
   ]
  },
  {
   "cell_type": "code",
   "execution_count": 12,
   "metadata": {
    "tags": [
     "hide-input"
    ]
   },
   "outputs": [
    {
     "name": "stdout",
     "output_type": "stream",
     "text": [
      "The expression that describes A(t) is...\n"
     ]
    },
    {
     "data": {
      "text/latex": [
       "$\\displaystyle A_{0} e^{- k t}$"
      ],
      "text/plain": [
       "A0*exp(-k*t)"
      ]
     },
     "metadata": {},
     "output_type": "display_data"
    },
    {
     "name": "stdout",
     "output_type": "stream",
     "text": [
      "After substituting values for the constnats, A(t) is...\n"
     ]
    },
    {
     "data": {
      "text/latex": [
       "$\\displaystyle 0.1 e^{- 1.2 t}$"
      ],
      "text/plain": [
       "0.1*exp(-1.2*t)"
      ]
     },
     "metadata": {},
     "output_type": "display_data"
    },
    {
     "data": {
      "image/png": "[encoded data removed]",
      "text/plain": [
       "<Figure size 400x300 with 1 Axes>"
      ]
     },
     "metadata": {},
     "output_type": "display_data"
    }
   ],
   "source": [
    "At_expr = eq2.rhs\n",
    "\n",
    "print(\"The expression that describes A(t) is...\")\n",
    "display(At_expr)      \n",
    "\n",
    "\n",
    "At_expr = At_expr.subs({A0: 0.1, k:1.2})   ### Substitute values for the constants\n",
    "\n",
    "print(\"After substituting values for the constnats, A(t) is...\")\n",
    "display(At_expr)                         \n",
    "\n",
    "p = sym.plotting.plot(At_expr, (t,0,10),\n",
    "                  line_color='black', \n",
    "                  title='First Order Plot',\n",
    "                  xlabel = r\"$t\\;/\\;min$\",\n",
    "                  ylabel = r\"$[A] \\; / \\; mole\\,L^{-1}$\",\n",
    "                  axis = True,\n",
    "                  xlim = (0, 5),\n",
    "                  ylim = (0, .10),\n",
    "                  size = (4,3),\n",
    "                  show = False)\n",
    "p.save(\"test.pdf\")\n",
    "p.show()\n"
   ]
  },
  {
   "cell_type": "markdown",
   "metadata": {},
   "source": [
    "### Using *MatPlotLib* Plotting Tools\n",
    "\n",
    "*SymPy* plotting tools are powerful and useful but I am much more familiar with the plotting features of the *MatPlotLib* library. To use this plotting method I must plot actual values of $x$ and $y$. \n",
    "\n",
    "First I will convert the expresion for concentration to a function. Then I will feed in a set of $x$-values and the function will return a set of $y$-values. In the code below, I take the expression from the code block above for $[A]$ at time $t$ and I use the `sympy.lambdify()` tool to make a corresponding function object. "
   ]
  },
  {
   "cell_type": "code",
   "execution_count": 13,
   "metadata": {
    "tags": [
     "hide-input"
    ]
   },
   "outputs": [
    {
     "data": {
      "text/latex": [
       "$\\displaystyle 0.1 e^{- 1.2 t}$"
      ],
      "text/plain": [
       "0.1*exp(-1.2*t)"
      ]
     },
     "metadata": {},
     "output_type": "display_data"
    },
    {
     "data": {
      "image/png": "[encoded data removed]",
      "text/plain": [
       "<Figure size 400x300 with 1 Axes>"
      ]
     },
     "metadata": {},
     "output_type": "display_data"
    }
   ],
   "source": [
    "from matplotlib import pyplot as plt\n",
    "import numpy as np\n",
    "\n",
    "\n",
    "display(At_expr)                         \n",
    "\n",
    "f = sym.lambdify(t, At_expr)\n",
    "t_line = np.linspace(0,5,100)\n",
    "\n",
    "x = t_line           ### I always plot x and y so I can more easily reuse plotting code\n",
    "y = f(t_line)        \n",
    "\n",
    "plt.rcdefaults()    ### resets the plot defaults so we always start in the same place\n",
    "#plt.style.use(\"../styles/tufte.mplstyle\")     ### Then add a fancy style sheet   \n",
    "\n",
    "fig, ax = plt.subplots(nrows=1, ncols=1, figsize=(4,3))  \n",
    "\n",
    "ax.plot(x, y,\n",
    "        linestyle = '-',            ### use a line between points\n",
    "        linewidth='0.5',            ### make the line thin\n",
    "        color = 'black',            ### the line is black\n",
    "        zorder = 0                  ### everything is in layer 0 (the bottom layer in this case)\n",
    "        )\n",
    "ax.set( xlabel= r\"$t\\;/\\;min$\", \n",
    "        ylabel=r\"$[A] \\; / \\; mole\\,L^{-1}$\",\n",
    "        title = \"First Order Plot\",\n",
    "        xlim=[-0.1, None],                  \n",
    "        ylim=[-0.002, None]      \n",
    "      )\n",
    "\n",
    "#########################################\n",
    "### Output the plot\n",
    "#########################################\n",
    "\n",
    "plt.savefig(\"plot.pdf\", bbox_inches='tight')     ### export the plot as this\n",
    "plt.show()     "
   ]
  },
  {
   "cell_type": "markdown",
   "metadata": {},
   "source": [
    "## Summary\n",
    "\n",
    "We have also solved the rate law for a first-order reaction by defining the rate law as a differential equation and using the `dsolve` function of *SymPy*. This gives us an analytical solution that we can use to calculate the concentration of the reactant at any time point.\n",
    "\n",
    "We have also plotted the integrated rate law using the tools of *SymPy* and also by converting the result into a function and plotting the calculate $x$ and $y$ values using the tools of *MatPlotLib*.\n",
    "\n",
    "### Why Do This?\n",
    "\n",
    "Finding an analytical solution to a differential equation will give an intergrated rate law that provides the concentration of a reactant at any time point. This could be used to fit experimental data and obtain reaction parameters. Integrated rate laws for first order reactions can be linearized easily but some rate laws cannot. Being able to construct an function to which data can be fit is a useful skill."
   ]
  }
 ],
 "metadata": {
  "kernelspec": {
   "display_name": "base",
   "language": "python",
   "name": "python3"
  },
  "language_info": {
   "codemirror_mode": {
    "name": "ipython",
    "version": 3
   },
   "file_extension": ".py",
   "mimetype": "text/x-python",
   "name": "python",
   "nbconvert_exporter": "python",
   "pygments_lexer": "ipython3",
   "version": "3.11.4"
  }
 },
 "nbformat": 4,
 "nbformat_minor": 2
}