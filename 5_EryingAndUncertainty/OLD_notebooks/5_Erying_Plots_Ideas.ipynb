{
 "cells": [
  {
   "cell_type": "markdown",
   "metadata": {},
   "source": [
    "# The Erying Equation and Experimental Error\n",
    "The famous Erying equationis used to create a linear equation that relates the free energy of activation or the free energy in an equilibrium with temperature. Because the enthalpy term is independant of tempoerature and the entropy term involves temperature, we can the separate these effects and determine the enthalpy and the entropy difference in the chemical change between reactants and transtion state or products. But, do you numbers make sense? Unless you are calculating the standard deviations from your plot you may be unaware of a low quality relationship.\n",
    "\n",
    "## Enzyme Kinetics Example\n",
    "\n",
    "The data sets for this experiment comes from \"Linear Eyring Plots Conceal a Change in the Rate-Limiting Step in an Enzyme Reaction\", Teresa F. G. Machado, Tracey M. Gloster, and Rafael G. da Silva, *Biochemistry*, **2018**, *57*, 6757-6761.https://doi.org/10.1021/acs.biochem.8b01099.\n",
    "\n",
    "Machado et al. were presenting an example where they hypothesized that there was a hidden effect due to changes in the rate-determining step. The plots are very linear so we will use the data at face value. I'm not really convinced that there was a change in rds.\n",
    "\n",
    "The reaction is the reduction of acetoacetate (3-oxobutanoate) or 3-Oxopentanoate by NADH with the action of *(R)-3-hydroxybutyrate dehydrogenase* (EC 1.1.1.30). Two sources of the enzyme were used. The common bacteria *Acinetobacter baumannii* and the cold-favouring (psychrophilic) bacteria *Psychrobacter arcticus*. The Michaelis-Menten turnover number ($k_{cat}$, the first-order rate constant of the enzyme-NADH-substrate complex to give product) was measured at temperatures for $-10$ to $67\\ ^\\circ C$. The Eyring plot for the *P. arcticus* curves slightly as temperature increases. The enzyme comes from an organicm adapted got cold conditions. The plot for the *A. baumannii* enzyme were linear so I will only use that data in this example.\n",
    "\n",
    "\n",
    "## The Eyring Equation\n",
    "\n",
    "The Erying equation is...\n",
    "\n",
    "$$ k = \\frac{\\kappa k_B}{h} T e^{-\\Delta G^\\ddagger}$$\n",
    "\n",
    "...and we can include that $\\Delta G^\\ddagger = \\Delta H^\\ddagger - T \\Delta S^\\ddagger$ and we obtain...\n",
    "\n",
    "$$ k = \\frac{\\kappa k_B}{h} T e^{\\frac{-\\Delta H^\\ddagger}{RT}}e^{\\frac{\\Delta S^\\ddagger}{R}}$$\n",
    "\n",
    "This can be written in a linear form...\n",
    "\n",
    "$$\\ln \\frac{k}{T} = \\frac{-\\Delta H^\\ddagger}{R}\\cdot\\frac{1}{T} + \\ln\\frac{\\kappa k_B}{h} + \\frac{\\Delta S^\\ddagger}{R}$$\n",
    "\n",
    "...where $k$ is the observed rate constant and $T$ is the absolute temperature.\n",
    "\n",
    "From this, we can find $\\Delta H^\\ddagger$ and $\\Delta S^\\ddagger$ from the slope and intercept by plotting $\\ln \\frac{k}{T}$ vs. $\\frac{1}{T}$\n",
    "\n",
    "## Choose Your Data\n",
    "\n",
    "In the code below we call the packages and define clobal variables. One important variable is the name of the data file. The following data files are available.\n",
    "\n",
    "> Eryingdata1.csv - *AbHBDH* with 3-oxobutyrate <br>\n",
    "Eryingdata2.csv - *AbHBDH* with 3-oxopentanoate\n",
    "\n",
    "change the datafile variable to repeat this notebook with the other data set. There are several more data sets from two other recent contributions that are described at the end of this document. Try them and see what the effect of more or less data has on you error for calculating the parameters of the Eyring plot"
   ]
  },
  {
   "cell_type": "code",
   "execution_count": 2,
   "metadata": {
    "tags": [
     "hide-input"
    ]
   },
   "outputs": [],
   "source": [
    "### Setup packagaes and global variables\n",
    "\n",
    "from scipy.optimize import curve_fit     ## tool for curve fitting\n",
    "import scipy                             ## tools for science\n",
    "import numpy as np                       ## import the tools of NumPy but use a shorter name\n",
    "import pandas as pd                      ## import tools for data handling\n",
    "from matplotlib import pyplot as plt     ## tools for plotting\n",
    "\n",
    "import uncertainties as un               ## tool set for handling numbers with uncertainties\n",
    "from uncertainties import unumpy as unp  ## a replacement for numpy that uses uncertainty values\n",
    "from uncertainties import umath as um    ## a replacement for math that uses uncertainty values\n",
    "\n",
    "github_location = \"./\"                   ## Use either local folde or github folder. use github locations for Colab\n",
    "github_location_styles = \"./\"\n",
    "#github_location = \"https://raw.githubusercontent.com/blinkletter/3530Biochem/main/data/\"\n",
    "#github_location_styles = \"https://raw.githubusercontent.com/blinkletter/LFER-QSAR/main/styles/\"\n",
    "\n",
    "datafile = \"data/EryingData1.csv\"   # change this file for new data\n",
    "#datafile = \"data/EryingData2.csv\"  \n",
    "#datafile = \"data/EryingDataC1.csv\"  # see bottom of notebook for more info\n"
   ]
  },
  {
   "cell_type": "code",
   "execution_count": 3,
   "metadata": {
    "tags": [
     "hide-input"
    ]
   },
   "outputs": [
    {
     "name": "stdout",
     "output_type": "stream",
     "text": [
      "# from \"Linear Eyring Plots Conceal a Change in the Rate-Limiting Step in an Enzyme Reaction\"\n",
      "# Teresa F. G. Machado, Tracey M. Gloster, and Rafael G. da Silva\n",
      "# Biochemistry 2018 57 (49), 6757-6761\n",
      "# https://doi.org/10.1021/acs.biochem.8b01099\n",
      "#\n",
      "# data for Figure 1: AbHBDH with Acetoacetate \n",
      "\"TEMP(K)\", \"Kcat(s-1)\", \"Error(s-1)\"\n",
      "283,     3.4,      0.1  \n",
      "288,     5.3,      0.2  \n",
      "293,     7.6,      0.2   \n",
      "298,     11.7,     0.3 \n",
      "303,     15.2,     0.1 \n",
      "308,     21.3,     0.9 \n",
      "313,     27.8,     0.9 \n",
      "318,     39,       3 \n",
      "323,     52,       4 \n",
      "325,     61,       2 \n",
      "328,     69,       3 \n",
      "330,     79,       7 \n"
     ]
    }
   ],
   "source": [
    "### Inspect the data file\n",
    "\n",
    "with open(datafile, 'r') as file:\n",
    "    file_content = file.read()  # Read the content of the file\n",
    "    print(file_content)         # Print the content"
   ]
  },
  {
   "cell_type": "code",
   "execution_count": 4,
   "metadata": {
    "tags": [
     "hide-input"
    ]
   },
   "outputs": [
    {
     "data": {
      "text/html": [
       "<div>\n",
       "<style scoped>\n",
       "    .dataframe tbody tr th:only-of-type {\n",
       "        vertical-align: middle;\n",
       "    }\n",
       "\n",
       "    .dataframe tbody tr th {\n",
       "        vertical-align: top;\n",
       "    }\n",
       "\n",
       "    .dataframe thead th {\n",
       "        text-align: right;\n",
       "    }\n",
       "</style>\n",
       "<table border=\"1\" class=\"dataframe\">\n",
       "  <thead>\n",
       "    <tr style=\"text-align: right;\">\n",
       "      <th></th>\n",
       "      <th>TEMP(K)</th>\n",
       "      <th>Kcat(s-1)</th>\n",
       "      <th>Error(s-1)</th>\n",
       "    </tr>\n",
       "  </thead>\n",
       "  <tbody>\n",
       "    <tr>\n",
       "      <th>0</th>\n",
       "      <td>283</td>\n",
       "      <td>3.4</td>\n",
       "      <td>0.1</td>\n",
       "    </tr>\n",
       "    <tr>\n",
       "      <th>1</th>\n",
       "      <td>288</td>\n",
       "      <td>5.3</td>\n",
       "      <td>0.2</td>\n",
       "    </tr>\n",
       "    <tr>\n",
       "      <th>2</th>\n",
       "      <td>293</td>\n",
       "      <td>7.6</td>\n",
       "      <td>0.2</td>\n",
       "    </tr>\n",
       "    <tr>\n",
       "      <th>3</th>\n",
       "      <td>298</td>\n",
       "      <td>11.7</td>\n",
       "      <td>0.3</td>\n",
       "    </tr>\n",
       "    <tr>\n",
       "      <th>4</th>\n",
       "      <td>303</td>\n",
       "      <td>15.2</td>\n",
       "      <td>0.1</td>\n",
       "    </tr>\n",
       "  </tbody>\n",
       "</table>\n",
       "</div>"
      ],
      "text/plain": [
       "   TEMP(K)  Kcat(s-1)  Error(s-1)\n",
       "0      283        3.4         0.1\n",
       "1      288        5.3         0.2\n",
       "2      293        7.6         0.2\n",
       "3      298       11.7         0.3\n",
       "4      303       15.2         0.1"
      ]
     },
     "metadata": {},
     "output_type": "display_data"
    }
   ],
   "source": [
    "### Read in data set\n",
    "\n",
    "df = pd.read_csv(datafile, \n",
    "                 delimiter = \",\", \n",
    "                 skipinitialspace=True, \n",
    "#                 index_col=\"Substituent\", \n",
    "                 comment = \"#\") \n",
    "display(df.head())"
   ]
  },
  {
   "cell_type": "code",
   "execution_count": 5,
   "metadata": {
    "tags": [
     "hide-input"
    ]
   },
   "outputs": [
    {
     "data": {
      "text/html": [
       "<div>\n",
       "<style scoped>\n",
       "    .dataframe tbody tr th:only-of-type {\n",
       "        vertical-align: middle;\n",
       "    }\n",
       "\n",
       "    .dataframe tbody tr th {\n",
       "        vertical-align: top;\n",
       "    }\n",
       "\n",
       "    .dataframe thead th {\n",
       "        text-align: right;\n",
       "    }\n",
       "</style>\n",
       "<table border=\"1\" class=\"dataframe\">\n",
       "  <thead>\n",
       "    <tr style=\"text-align: right;\">\n",
       "      <th></th>\n",
       "      <th>TEMP(K)</th>\n",
       "      <th>Kcat(s-1)</th>\n",
       "      <th>Error(s-1)</th>\n",
       "      <th>k_unc</th>\n",
       "      <th>1/T</th>\n",
       "      <th>ln(k)/T</th>\n",
       "    </tr>\n",
       "  </thead>\n",
       "  <tbody>\n",
       "    <tr>\n",
       "      <th>0</th>\n",
       "      <td>283</td>\n",
       "      <td>3.4</td>\n",
       "      <td>0.1</td>\n",
       "      <td>3.40+/-0.10</td>\n",
       "      <td>0.003534</td>\n",
       "      <td>-4.422+/-0.029</td>\n",
       "    </tr>\n",
       "    <tr>\n",
       "      <th>1</th>\n",
       "      <td>288</td>\n",
       "      <td>5.3</td>\n",
       "      <td>0.2</td>\n",
       "      <td>5.30+/-0.20</td>\n",
       "      <td>0.003472</td>\n",
       "      <td>-4.00+/-0.04</td>\n",
       "    </tr>\n",
       "    <tr>\n",
       "      <th>2</th>\n",
       "      <td>293</td>\n",
       "      <td>7.6</td>\n",
       "      <td>0.2</td>\n",
       "      <td>7.60+/-0.20</td>\n",
       "      <td>0.003413</td>\n",
       "      <td>-3.652+/-0.026</td>\n",
       "    </tr>\n",
       "    <tr>\n",
       "      <th>3</th>\n",
       "      <td>298</td>\n",
       "      <td>11.7</td>\n",
       "      <td>0.3</td>\n",
       "      <td>11.70+/-0.30</td>\n",
       "      <td>0.003356</td>\n",
       "      <td>-3.238+/-0.026</td>\n",
       "    </tr>\n",
       "    <tr>\n",
       "      <th>4</th>\n",
       "      <td>303</td>\n",
       "      <td>15.2</td>\n",
       "      <td>0.1</td>\n",
       "      <td>15.20+/-0.10</td>\n",
       "      <td>0.003300</td>\n",
       "      <td>-2.992+/-0.007</td>\n",
       "    </tr>\n",
       "  </tbody>\n",
       "</table>\n",
       "</div>"
      ],
      "text/plain": [
       "   TEMP(K)  Kcat(s-1)  Error(s-1)         k_unc       1/T         ln(k)/T\n",
       "0      283        3.4         0.1   3.40+/-0.10  0.003534  -4.422+/-0.029\n",
       "1      288        5.3         0.2   5.30+/-0.20  0.003472    -4.00+/-0.04\n",
       "2      293        7.6         0.2   7.60+/-0.20  0.003413  -3.652+/-0.026\n",
       "3      298       11.7         0.3  11.70+/-0.30  0.003356  -3.238+/-0.026\n",
       "4      303       15.2         0.1  15.20+/-0.10  0.003300  -2.992+/-0.007"
      ]
     },
     "metadata": {},
     "output_type": "display_data"
    }
   ],
   "source": [
    "### Calculate values for Eyring Plot\n",
    "\n",
    "df[\"k_unc\"] = unp.uarray(df[\"Kcat(s-1)\"],df[\"Error(s-1)\"])   # Combine value and stdev to make Uncertainties values\n",
    "df[\"1/T\"] = 1/df[\"TEMP(K)\"]                                  # get 1/T for x-axis\n",
    "df[\"ln(k)/T\"] = unp.log(df[\"k_unc\"]/df[\"TEMP(K)\"])           # get ln(k/T) for y-axis with error propagation\n",
    "\n",
    "display(df.head())\n"
   ]
  },
  {
   "cell_type": "code",
   "execution_count": 21,
   "metadata": {
    "tags": [
     "hide-input"
    ]
   },
   "outputs": [
    {
     "data": {
      "image/png": "[encoded data removed]",
      "text/plain": [
       "<Figure size 800x400 with 2 Axes>"
      ]
     },
     "metadata": {},
     "output_type": "display_data"
    },
    {
     "name": "stdout",
     "output_type": "stream",
     "text": [
      "The slope is -5826.55 +/- 66.47\n",
      "The intercept is 16.229 +/- 0.2158\n",
      "The RSQ is 0.999\n"
     ]
    }
   ],
   "source": [
    "### Choose our x and y values.\n",
    "\n",
    "x = df[\"1/T\"]\n",
    "y = unp.nominal_values(df[\"ln(k)/T\"])\n",
    "y_err = unp.std_devs(df[\"ln(k)/T\"])\n",
    "\n",
    "nstd = 3.     # Number of sigmas for confidence interval 1 = 68%, 2 = 95%, 3 = 99.7% confidence\n",
    "\n",
    "### Curve fit to linear function\n",
    "\n",
    "def linear(x, slope, intercept):\n",
    "    return slope * x + intercept\n",
    "\n",
    "popt,pcov = curve_fit(linear, x, y, \n",
    "          #             sigma = y_err, absolute_sigma=False  # Include st_devs for y data in calculations\n",
    "                     )\n",
    "\n",
    "[slope,intercept] = popt\n",
    "perr = np.sqrt(np.diag(pcov))\n",
    "\n",
    "### Create figure for plot\n",
    "plt.rcdefaults()\n",
    "\n",
    "style = \"tufte.mplstyle\"\n",
    "#style = \"S2_classic2.mplstyle\"\n",
    "style_name = github_location_styles + style\n",
    "plt.style.use(style_name)\n",
    "\n",
    "size = [8,4]\n",
    "fig, ax = plt.subplots(nrows=1, ncols=2, figsize=size)  \n",
    "\n",
    "### Create plot #0 for plot\n",
    "\n",
    "# Settings for plot\n",
    "ax[0].set(\n",
    "#          title = Title,       \n",
    "          ylabel=r\"$\\ln (k / T)$\", \n",
    "          xlabel=r\"$1/T$\",                \n",
    "#          xlim=[0, np.max(x) + np.max(x) * 0.1],                  \n",
    "#          ylim=[None,None]\n",
    "       )\n",
    "\n",
    "# Plot the data\n",
    "#ax[0].scatter(x, y, marker = \"o\", s = 70, color = \"white\", alpha = 1.0, zorder = 1)\n",
    "ax[0].scatter(x, y, marker = \"o\", s = 20, \n",
    "              color = \"white\", edgecolors = \"black\", \n",
    "              linewidths=0.5, zorder = 3) \n",
    "\n",
    "# Add error bars\n",
    "ax[0].errorbar(x, y, yerr=y_err, xerr=None, fmt=\"None\", \n",
    "               ecolor=\"black\", elinewidth=0.5, \n",
    "               capsize=2, capthick=0.5, zorder=2)\n",
    "\n",
    "# Calculate the line from curve fit parameters\n",
    "x_fit = np.linspace(np.min(x), np.max(x), 100)\n",
    "#x_fit = np.linspace(0, np.max(x), 100)\n",
    "y_fit = linear(x_fit,slope,intercept)\n",
    "\n",
    "# Plot the curve fit line\n",
    "ax[0].plot(x_fit, y_fit, \n",
    "           marker = None, color = \"black\", \n",
    "           linewidth=0.5, zorder = 2)\n",
    "\n",
    "# prepare confidence level curves\n",
    "popt_plus = popt + nstd * perr    # add error to parameters\n",
    "popt_minus = popt - nstd * perr   # subtract error from paramneters\n",
    "\n",
    "# steeper slope will result in higher intercept and vice versa\n",
    "confidence_line_1 = linear(x=x_fit, slope=popt_plus[0], intercept=popt_minus[1])\n",
    "confidence_line_2 = linear(x=x_fit, slope=popt_minus[0], intercept=popt_plus[1])\n",
    "\n",
    "# Plot confidence interval\n",
    "ax[0].fill_between(x_fit, confidence_line_1, confidence_line_2, \n",
    "                   color=\"lightgray\", alpha=1, zorder = 0,\n",
    "                   label=\"confidence interval\")\n",
    "\n",
    "### Create plot #1 for plot\n",
    "\n",
    "# Settings for plot\n",
    "ax[1].set(\n",
    "#          title = Title,       \n",
    "          ylabel=r\"$\\ln (k / T)$\", \n",
    "          xlabel=r\"$1/T$\",                \n",
    "#          xlim=[0, np.max(x) + np.max(x) * 0.1],                  \n",
    "#          ylim=[None,None]\n",
    "       )\n",
    "\n",
    "# Plot the data\n",
    "#ax[1].scatter(x, y, marker = \"o\", s = 70, color = \"white\", zorder = 1)\n",
    "ax[1].scatter(x, y, marker = \"o\", s = 20, \n",
    "              color = \"white\", edgecolors = \"black\", \n",
    "              linewidths=0.5, zorder = 3) \n",
    "\n",
    "# Add error bars\n",
    "#ax[1].errorbar(x, y, yerr=y_err, xerr=None, fmt=\"None\", ecolor=\"black\", elinewidth=0.5, capsize=2, capthick=0.5, zorder=1)\n",
    "\n",
    "# Calculate the line from curve fit parameters\n",
    "x_fit = np.linspace(0, np.max(x), 100)\n",
    "y_fit = linear(x_fit,slope,intercept)\n",
    "\n",
    "# Plot the curve fit line\n",
    "ax[1].plot(x_fit, y_fit, marker = None, \n",
    "           color = \"black\", linewidth=0.5, zorder = 2)\n",
    "\n",
    "# prepare confidence level curves\n",
    "popt_plus = popt + nstd * perr    # add error to parameters\n",
    "popt_minus = popt - nstd * perr   # subtract error from paramneters\n",
    "\n",
    "# steeper slope will result in higher intercept and vice versa\n",
    "confidence_line_1 = linear(x=x_fit, slope=popt_plus[0], intercept=popt_minus[1])\n",
    "confidence_line_2 = linear(x=x_fit, slope=popt_minus[0], intercept=popt_plus[1])\n",
    "\n",
    "# Plot confidence interval\n",
    "ax[1].fill_between(x_fit, confidence_line_1, confidence_line_2, \n",
    "                   color = \"lightgray\", alpha=1, zorder = 0,\n",
    "                   label=\"confidence interval\")\n",
    "\n",
    "### Output plot\n",
    "plt.tight_layout(pad=2, h_pad=None, w_pad=None, rect=None)\n",
    "plt.savefig(\"Etring.pdf\")\n",
    "plt.show()\n",
    "\n",
    "print(f\"The slope is {slope:0.2f} +/- {perr[0]:0.2f}\")\n",
    "print(f\"The intercept is {intercept:0.3f} +/- {perr[1]:0.4f}\")\n",
    "\n",
    "r, p = scipy.stats.pearsonr(x, y)\n",
    "rsq = r ** 2\n",
    "\n",
    "print(f\"The RSQ is {rsq:0.3f}\")\n"
   ]
  },
  {
   "cell_type": "markdown",
   "metadata": {},
   "source": [
    "## calculate Activation Parameters\n",
    "\n",
    "We now have values for the slope and intercept. We can use the definitions of the slope and intercept in the Erying equation to calculate the thermodynamic parameters for the transition state.\n",
    "\n",
    "$$\\text{slope} = \\frac{-\\Delta H^\\ddagger}{R}$$\n",
    "\n",
    "$$ \\Delta H^\\ddagger = -\\text{slope}\\cdot R$$\n",
    "\n",
    "and\n",
    "\n",
    "$$\\text{intercept} = \\ln\\frac{\\kappa k_B}{h} + \\frac{\\Delta S^\\ddagger}{R}$$\n",
    "\n",
    "\n",
    "$$\\Delta S^\\ddagger =\\left( \\text{intercept} - \\ln\\frac{\\kappa k_B}{h}\\right) R $$\n",
    "\n",
    "$\\kappa$ is the transmission coefficient and is assumed to be unity in transition state theory\n",
    "\n",
    "$k_B$ is the Boltzman constant: $1.380649\\times10^{23} \\ J\\, K^{-1}$\n",
    "\n",
    "$R$ is the gas constant: $8.314462618 \\ J\\, mol^{-1} K^{-1}$ \n",
    "\n",
    "$h$ is the Planck constant: $6.62607015\\times10^{-34}\\ J\\, s$"
   ]
  },
  {
   "cell_type": "code",
   "execution_count": 7,
   "metadata": {
    "tags": [
     "hide-input"
    ]
   },
   "outputs": [
    {
     "name": "stdout",
     "output_type": "stream",
     "text": [
      "The change in enthalpy is 48.44+/-0.55 kJ/mole\n",
      "The change in enthalpy is -62.61+/-1.79 J/mole.K\n"
     ]
    }
   ],
   "source": [
    "R = scipy.constants.R\n",
    "kb = scipy.constants.k\n",
    "h = scipy.constants.h\n",
    "kappa = 1\n",
    "\n",
    "slope_unc = un.ufloat(slope, perr[0])\n",
    "dH = -slope_unc * R\n",
    "print(f\"The change in enthalpy is {dH/1000:0.2f} kJ/mole\")\n",
    "\n",
    "intercept_unc = un.ufloat(intercept, perr[1])\n",
    "dS = (intercept_unc - np.log(kb/h))*R\n",
    "print(f\"The change in enthalpy is {dS:0.2f} J/mole.K\")\n"
   ]
  },
  {
   "cell_type": "code",
   "execution_count": null,
   "metadata": {
    "tags": [
     "hide-input"
    ]
   },
   "outputs": [],
   "source": []
  },
  {
   "cell_type": "markdown",
   "metadata": {},
   "source": [
    "# Exploring Other Ideas\n",
    "\n",
    "Ignore below. I was fooling around trying to understand how the Seaborn plotting package calculated confidence intervales using the regplot function."
   ]
  },
  {
   "cell_type": "code",
   "execution_count": 8,
   "metadata": {
    "tags": [
     "hide-input"
    ]
   },
   "outputs": [
    {
     "data": {
      "text/plain": [
       "<Axes: xlabel='1/T'>"
      ]
     },
     "execution_count": 8,
     "metadata": {},
     "output_type": "execute_result"
    },
    {
     "data": {
      "image/png": "[encoded data removed]",
      "text/plain": [
       "<Figure size 400x300 with 1 Axes>"
      ]
     },
     "metadata": {},
     "output_type": "display_data"
    }
   ],
   "source": [
    "import seaborn as sns\n",
    "\n",
    "sns.regplot(x = x, y = y,\n",
    "            scatter_kws = {\"color\": \"black\", \"alpha\": 0.5},\n",
    "            line_kws = {\"color\": \"blue\"},\n",
    "            ci = 99) # 99% level"
   ]
  },
  {
   "cell_type": "code",
   "execution_count": 9,
   "metadata": {
    "tags": [
     "hide-input"
    ]
   },
   "outputs": [
    {
     "data": {
      "text/plain": [
       "[<matplotlib.lines.Line2D at 0x12c0e0990>]"
      ]
     },
     "execution_count": 9,
     "metadata": {},
     "output_type": "execute_result"
    },
    {
     "data": {
      "image/png": "[encoded data removed]",
      "text/plain": [
       "<Figure size 500x500 with 1 Axes>"
      ]
     },
     "metadata": {},
     "output_type": "display_data"
    }
   ],
   "source": [
    "## Code found in https://stats.stackexchange.com/questions/183230/bootstrapping-confidence-interval-from-a-regression-prediction\n",
    "\n",
    "import numpy as np\n",
    "import matplotlib.pyplot as plt\n",
    "from sklearn.linear_model import LinearRegression\n",
    "from sklearn.ensemble import BaggingRegressor\n",
    "\n",
    "# Create toy data \n",
    "#x = np.linspace(0, 10, 20)\n",
    "#y = x + (np.random.rand(len(x)) * 10)\n",
    "\n",
    "# Extend x data to contain another row vector of 1s\n",
    "X = np.vstack([x, np.ones(len(x))]).T\n",
    "\n",
    "n_estimators = 50\n",
    "model = BaggingRegressor(LinearRegression(), \n",
    "                         n_estimators=n_estimators,\n",
    "                         bootstrap=True)\n",
    "\n",
    "model.fit(X, y)\n",
    "\n",
    "plt.figure(figsize=(5,5))\n",
    "\n",
    "# Accessing each base_estimator (already fitted)\n",
    "for m in model.estimators_:\n",
    "    plt.plot(x, m.predict(X), color='lightgrey', alpha=0.2, zorder=1)\n",
    "\n",
    "plt.scatter(x,y, marker='o', color='white', edgecolor=\"black\", zorder=5)\n",
    "\n",
    "# \"Bagging model\" prediction\n",
    "plt.plot(x, model.predict(X), color='black', linewidth=0.5, zorder=4)"
   ]
  },
  {
   "cell_type": "code",
   "execution_count": 10,
   "metadata": {
    "tags": [
     "hide-input"
    ]
   },
   "outputs": [
    {
     "data": {
      "text/plain": [
       "[<matplotlib.lines.Line2D at 0x12c55e990>]"
      ]
     },
     "execution_count": 10,
     "metadata": {},
     "output_type": "execute_result"
    },
    {
     "data": {
      "image/png": "[encoded data removed]",
      "text/plain": [
       "<Figure size 500x500 with 1 Axes>"
      ]
     },
     "metadata": {},
     "output_type": "display_data"
    }
   ],
   "source": [
    "## code found in https://stats.stackexchange.com/questions/183230/bootstrapping-confidence-interval-from-a-regression-prediction\n",
    "\n",
    "import numpy as np\n",
    "import matplotlib.pyplot as plt\n",
    "from sklearn.linear_model import LinearRegression\n",
    "\n",
    "# Create toy data \n",
    "#x = np.linspace(0, 10, 20)\n",
    "#y = x + (np.random.rand(len(x)) * 10)\n",
    "\n",
    "# Extend x data to contain another row vector of 1s\n",
    "X = np.vstack([x, np.ones(len(x))]).T\n",
    "\n",
    "plt.figure(figsize=(5,5))\n",
    "for i in range(0, 500):\n",
    "    sample_index = np.random.choice(range(0, len(y)), len(y))\n",
    "\n",
    "    X_samples = X[sample_index]\n",
    "    y_samples = y[sample_index]    \n",
    "\n",
    "    lr = LinearRegression()\n",
    "    lr.fit(X_samples, y_samples)\n",
    "    plt.plot(x, lr.predict(X), color='lightgrey', alpha=0.2, zorder=1)\n",
    "\n",
    "plt.scatter(x,y, marker='o', color='white', edgecolor = \"black\", linewidth = 0.5, zorder=5)\n",
    "\n",
    "lr = LinearRegression()\n",
    "lr.fit(X, y)\n",
    "plt.plot(x, lr.predict(X), color='black', linewidth=0.5, zorder=4)"
   ]
  },
  {
   "cell_type": "code",
   "execution_count": 11,
   "metadata": {},
   "outputs": [
    {
     "name": "stdout",
     "output_type": "stream",
     "text": [
      "-5628.778275545378\n",
      "-5939.913739553715\n",
      "-5821.324736655975\n",
      "16.590928885106067\n",
      "15.604856688648562\n",
      "16.21126419874257\n"
     ]
    },
    {
     "data": {
      "text/plain": [
       "[<matplotlib.lines.Line2D at 0x12c7fff50>]"
      ]
     },
     "execution_count": 11,
     "metadata": {},
     "output_type": "execute_result"
    },
    {
     "data": {
      "image/png": "[encoded data removed]",
      "text/plain": [
       "<Figure size 500x500 with 1 Axes>"
      ]
     },
     "metadata": {},
     "output_type": "display_data"
    }
   ],
   "source": [
    "## THIS IS MY VERSION\n",
    "## Adapted from code found in https://stats.stackexchange.com/questions/183230/bootstrapping-confidence-interval-from-a-regression-prediction\n",
    "\n",
    "xa = np.array(x)    # I plan to use some numpy functions on these data series so converts from\n",
    "y = np.array(y)    # Pandas series to NumPy array\n",
    "\n",
    "def linear(x, slope, intercept):\n",
    "    return slope * x + intercept\n",
    "\n",
    "plt.figure(figsize=(5,5))\n",
    "\n",
    "\n",
    "slope_list = []\n",
    "intercept_list = []\n",
    "for i in range(0, 2000):\n",
    "    xa = np.array(x)    # I plan to use some numpy functions on these data series so converts from\n",
    "\n",
    "    sample_index = np.random.choice(range(0, len(y)), len(y))\n",
    "\n",
    "    X_samples = xa[sample_index]\n",
    "    y_samples = y[sample_index] \n",
    "    y_err_samples = y_err[sample_index]\n",
    "\n",
    "    popt,pcov = curve_fit(linear, X_samples, y_samples, \n",
    "              #         sigma = y_err_samples, absolute_sigma=False  # Include st_devs for y data in calculations\n",
    "                     )\n",
    "    [slope,intercept] = popt\n",
    "    slope_list.append(slope)\n",
    "    intercept_list.append(intercept)\n",
    "    \n",
    "#    xa = np.insert(xa,0,0)   # insert zero into first position of x data so line fit starts from zero\n",
    "\n",
    "    plt.plot(xa, linear(xa, slope, intercept), color='lightgrey', linewidth = 0.5, alpha=1, zorder=1)\n",
    "    \n",
    "xa = np.array(x)    # I plan to use some numpy functions on these data series so converts from\n",
    "\n",
    "popt,pcov = curve_fit(linear, xa, y, \n",
    "           #            sigma = y_err, absolute_sigma=False  # Include st_devs for y data in calculations\n",
    "                     )\n",
    "\n",
    "[slope,intercept] = popt\n",
    "perr = np.sqrt(np.diag(pcov))\n",
    "\n",
    "\n",
    "plt.scatter(x,y, marker='o', color='white', s = 20, edgecolor='black', zorder=5)\n",
    "\n",
    "\n",
    "conf = 95\n",
    "low_p = 50 - conf/2\n",
    "high_p = 50 + conf/2\n",
    "\n",
    "top_slope = np.percentile(slope_list, high_p)\n",
    "bot_slope = np.percentile(slope_list, low_p)\n",
    "median_slope = np.percentile(slope_list, 50)\n",
    "\n",
    "print(top_slope)\n",
    "print(bot_slope)\n",
    "print(median_slope)\n",
    "\n",
    "top_intercept = np.percentile(intercept_list, high_p)\n",
    "bot_intercept = np.percentile(intercept_list, low_p)\n",
    "median_intercept = np.percentile(intercept_list, 50)\n",
    "\n",
    "print(top_intercept)\n",
    "print(bot_intercept)\n",
    "print(median_intercept)\n",
    "\n",
    "#xa = np.insert(xa,0,0)   # insert zero into first position of x data so line fit starts from zero\n",
    "plt.plot(xa, linear(xa, slope, intercept), color='red', linewidth = 0.5, zorder=4)\n",
    "plt.plot(xa, linear(xa, median_slope, median_intercept), color='black', linewidth = 0.5, zorder=4)\n"
   ]
  },
  {
   "cell_type": "code",
   "execution_count": 12,
   "metadata": {},
   "outputs": [
    {
     "name": "stdout",
     "output_type": "stream",
     "text": [
      "The change in enthalpy is 48.44+/-0.55 kJ/mole\n",
      "The change in enthalpy is -62.61+/-1.79 J/mole.K\n",
      "calculate k at T=325 K is 59.46+/-17.68\n"
     ]
    }
   ],
   "source": [
    "Temp = 325\n",
    "R = scipy.constants.R\n",
    "kb = scipy.constants.k\n",
    "h = scipy.constants.h\n",
    "kappa = 1\n",
    "\n",
    "slope_unc = un.ufloat(slope, perr[0])\n",
    "dH = -slope_unc * R\n",
    "print(f\"The change in enthalpy is {dH/1000:0.2f} kJ/mole\")\n",
    "\n",
    "intercept_unc = un.ufloat(intercept, perr[1])\n",
    "dS = (intercept_unc - np.log(kb/h))*R\n",
    "print(f\"The change in enthalpy is {dS:0.2f} J/mole.K\")\n",
    "\n",
    "lnkT = -dH/R * 1/Temp + np.log(kappa*kb/h) + dS/R\n",
    "kobs=unp.exp(lnkT)*Temp\n",
    "\n",
    "print(f\"calculate k at T={Temp} K is {kobs:0.2f}\")\n",
    "\n",
    "#kobs = (kappa * kb * Temp / h) * unp.exp(dS/R) * unp.exp(-dH/(R*Temp))\n",
    "#print(f\"calculate k at T={Temp} K is {kobs:0.2f}\")\n"
   ]
  },
  {
   "cell_type": "markdown",
   "metadata": {},
   "source": [
    "The Erying equation is...\n",
    "\n",
    "$$\\ln \\frac{k}{T} = \\frac{-\\Delta H^\\ddagger}{R}\\cdot\\frac{1}{T} + \\ln\\frac{\\kappa k_B}{h} + \\frac{\\Delta S^\\ddagger}{R}$$\n",
    "\n"
   ]
  },
  {
   "cell_type": "markdown",
   "metadata": {},
   "source": []
  }
 ],
 "metadata": {
  "kernelspec": {
   "display_name": "Python 3",
   "language": "python",
   "name": "python3"
  },
  "language_info": {
   "codemirror_mode": {
    "name": "ipython",
    "version": 3
   },
   "file_extension": ".py",
   "mimetype": "text/x-python",
   "name": "python",
   "nbconvert_exporter": "python",
   "pygments_lexer": "ipython3",
   "version": "3.11.7"
  }
 },
 "nbformat": 4,
 "nbformat_minor": 4
}
