{
 "cells": [
  {
   "cell_type": "markdown",
   "id": "a0f2314f",
   "metadata": {},
   "source": [
    "# Basic Math with *Python*\n",
    "We will be using ***Python*** in this course. The goal is to learn to use and modify this tool for **interpreting experimental results** and solving all sorts of problems. This is **not programming**. Will will not be writing programs. We will be issuing **commands** to our loyal computer and making it do all the hard work for us.\n",
    "\n",
    "All of the chapters in this book are **interactive *Python* notebooks** that have been **converted** to web pages. Please **download** the original notebooks using the link at the top if this page and follow along.\n"
   ]
  },
  {
   "cell_type": "markdown",
   "id": "b8693b65",
   "metadata": {},
   "source": [
    "## A calculator\n",
    "\n",
    "We can use this interactive *Python* notebook as a **calculator**. The output of the last command in any code block, such as the one below, will be displayed. We can display the contects of a variable simply by stating it as the last command. We can also use a `print()` function to output information. **Explore** the three code blocks below."
   ]
  },
  {
   "cell_type": "code",
   "execution_count": 8,
   "id": "73f9991e",
   "metadata": {
    "scrolled": true
   },
   "outputs": [
    {
     "data": {
      "text/plain": [
       "86.65249999999999"
      ]
     },
     "execution_count": 8,
     "metadata": {},
     "output_type": "execute_result"
    }
   ],
   "source": [
    "75.35 * 1.15          # calculate the price with tax\n",
    "                      # You might see some limits to the 32-bit floating point precision of your computer in the asnwer."
   ]
  },
  {
   "cell_type": "code",
   "execution_count": 10,
   "id": "beca82d1",
   "metadata": {
    "tags": [
     "hide-input",
     "hide-output"
    ]
   },
   "outputs": [
    {
     "data": {
      "text/plain": [
       "101.72"
      ]
     },
     "execution_count": 10,
     "metadata": {},
     "output_type": "execute_result"
    }
   ],
   "source": [
    "tax = 15                       # percent tax\n",
    "tip = 20                       # percent tip (when did 20% become the norm?)\n",
    "dinner_price = 75.35           # values are assigned to variables\n",
    "\n",
    "dinner_with_tax = dinner_price * (1 + tax/100)   # dinner cost with tax\n",
    "tip_amount = dinner_price * (tip/100)            # tip calculated on price before tax (as it should be)\n",
    "\n",
    "total_bill = dinner_with_tax + tip_amount        # calculate the total\n",
    "total_bill = round(total_bill,2)                 # round the result to 2 decimal places\n",
    "total_bill                                       # display the contents of this variable"
   ]
  },
  {
   "cell_type": "code",
   "execution_count": 14,
   "id": "542cae0d",
   "metadata": {
    "tags": [
     "hide-input",
     "hide-output"
    ]
   },
   "outputs": [
    {
     "name": "stdout",
     "output_type": "stream",
     "text": [
      "The total bill was 101.72 dollars\n",
      "6 people were splitting the bill\n",
      "Each person must chip in 16.95 dollars\n",
      "for a total of 101.7 dollars.\n",
      "Now we fight over the few cents caused by rounding errors\n"
     ]
    }
   ],
   "source": [
    "print(\"The total bill was\", total_bill, \"dollars\")   # total_bill was calculated in the above code block\n",
    "\n",
    "number_of_people = 6                           # we have set the values\n",
    "\n",
    "per_person = total_bill / number_of_people     # here we do the math\n",
    "per_person = round(per_person, 2)              # round the result to 2 decimal places\n",
    "\n",
    "print(number_of_people, \"people were splitting the bill\")\n",
    "print(\"Each person must chip in\", per_person, \"dollars\")      # What each of us must pay (no deadbeats allowed).\n",
    "print(\"for a total of\", round(number_of_people * per_person, 2), \"dollars.\")\n",
    "print(\"Now we fight over the few cents caused by rounding errors\")"
   ]
  },
  {
   "cell_type": "markdown",
   "id": "77743b9f",
   "metadata": {},
   "source": [
    "## Reduce, Reuse and Recycle\n",
    "\n",
    "Examine the code blocks above. You could easily **change the values**, the tax rate or the number of people and **repeat** the calculation quickly. Each of these code blocks is a calculator designed for a purpose. Changing an input will change the result.  You don't need to start from scratch if you want to tip 15% instead of 20%, you just **change** the one value and **execute** the code.\n",
    "\n",
    "Try changing some values and seeing what happense. Use **\\[shift\\]\\[return\\]** to execute the code block."
   ]
  },
  {
   "cell_type": "markdown",
   "id": "896912f5",
   "metadata": {},
   "source": [
    "## More Math with *NumPy*\n",
    "*Python* is a **simple** language. It has built-in functions for the basics, but needs help with functions like sine and *e*<sup>x</sup>. The ***NumPy*** library has many mathematical functions. It is a mainstay of scientific computation. First we will **import** the library as shown below. Then we will use some of the available tools to demonstrate **trigonometry** and to calculate **exponential growth** of my investment profolio. Examine the code blocks below and see how we use the tools contained inside the *NumPy* library.\n",
    "\n",
    "Observe that we have named the *NumPy* library that we imported as `np`. This is for convenience (less typing). `np` is now an **object** that contains all the tools of *NumPy*. To use a function within the library we call it as an extension to the library object. e.g. `np.exp(7)` is a function from *NumPy* that will give us the exponent of seven or *e*<sup>7</sup>."
   ]
  },
  {
   "cell_type": "code",
   "execution_count": 5,
   "id": "db10e539",
   "metadata": {
    "tags": [
     "hide-input",
     "hide-output"
    ]
   },
   "outputs": [
    {
     "data": {
      "text/plain": [
       "35.362606626188395"
      ]
     },
     "execution_count": 5,
     "metadata": {},
     "output_type": "execute_result"
    }
   ],
   "source": [
    "import numpy as np                # A library of math functions and data structures\n",
    "                                  # You only need to do this once\n",
    "\n",
    "distance_from_tree = 30.0                 # I am standing 30 meters from a tree\n",
    "angle_to_top_of_tree = 26.0               # I must aim a telecope upwards at this angle to site the top\n",
    "\n",
    "height = distance_from_tree * np.tan(angle_to_top_of_tree)   # calculate the height\n",
    "height                                                       # display this value"
   ]
  },
  {
   "cell_type": "code",
   "execution_count": 5,
   "id": "aa4d1841",
   "metadata": {
    "tags": [
     "hide-input",
     "hide-output"
    ]
   },
   "outputs": [
    {
     "name": "stdout",
     "output_type": "stream",
     "text": [
      "An investment of 10000 dollars with \n",
      "an interest rate of 5 percent per year\n",
      "compounded 12 times per year for 10 years\n",
      "will result in 16470.09 dollars\n"
     ]
    }
   ],
   "source": [
    "P = 10000          # starting ballance\n",
    "rate = 5           # percent interest. (e.g. 3% per year)\n",
    "N = 12             # number of payments per time period (e.g. compounded 12 times per year)\n",
    "t = 10             # number of time periods (e.g. 10 years)\n",
    "\n",
    "r = rate/100       # true value of interest rate\n",
    "A = P * (1 + r / N) ** (N * t)  # \"**\" means \"to the power of\". (e.g. 10 squared is 10**2)\n",
    "A = round(A, 2)    # round to dollars and cents\n",
    "\n",
    "print(\"An investment of\", P, \"dollars with \")\n",
    "print(\"an interest rate of\", rate,\"percent per year\")\n",
    "print(\"compounded\",N,\"times per year for\",t,\"years\")\n",
    "print(\"will result in\",A,\"dollars\")"
   ]
  },
  {
   "cell_type": "markdown",
   "id": "af672829",
   "metadata": {},
   "source": [
    "### Notes on the Math \n",
    "From **trigonometry** we know that, in a right triangle, the ratio of the **opposite** side (height of the tree) to the **adjacent** side (distance from tree) is the tangent of the angle between the adjacent side and the **hyponenuse**. Below is that classic formula from high school trigonometry. If we know any two values, we can calculate the third. \n",
    "\n",
    "$$\\tan(\\theta) = \\frac{opposite}{adjacent}$$\n",
    "\n",
    "The formula for **compound interest** is given below. Using this, you can plan your retirement (assuming you believe the lies they tell about stock market returns).\n",
    "\n",
    "$$ A = P \\left(1+ \\frac{r}{N} \\right)^{N\\cdot t} $$\n",
    "\n",
    "$A =$ final amount <br>\n",
    "$P =$ original principal <br>\n",
    "$r =$ interest rate per time period <br>\n",
    "$N =$ number or payments per time period <br>\n",
    "$t =$ number of time periods\n",
    "\n",
    "### Have Fun\n",
    "\n",
    "Change the values in the code block above and **see what happens**. Imagine different angles and distances in your tree measurement. Try comparing compound interest paid monthly with compound interest paid annually over 10 years. How much difference is there? Talk to your banker."
   ]
  },
  {
   "cell_type": "markdown",
   "id": "686fc589",
   "metadata": {},
   "source": [
    "## More *NumPy* Tools\n",
    "There is much more to the NumPy library than we will ever use. Below are just a few examples of *NumPy* that we will use in this course."
   ]
  },
  {
   "cell_type": "code",
   "execution_count": 6,
   "id": "f44a2dec",
   "metadata": {
    "tags": [
     "hide-input",
     "hide-output"
    ]
   },
   "outputs": [
    {
     "name": "stdout",
     "output_type": "stream",
     "text": [
      "The value of pi is 3.141592653589793\n",
      "The area of the circle with a radius of 3 is 28.274333882308138\n",
      "The value of e is 2.718281828459045\n",
      "The value of ln(e) is 1.0\n",
      "The ln of 10 is 2.302585092994046\n",
      "The log of 10 is 1.0\n",
      "e to the power of 3 is 20.085536923187668\n",
      "The sine of pi radians is 1.2246467991473532e-16 . It should be zero, shouldn't it?\n",
      "The cosine of 45 degrees is 0.7071067811865476\n",
      "If the cosine is 0.707, the angle is 0.2500480647935444 radians\n",
      "That would be 45.00865166283799 degrees.\n"
     ]
    }
   ],
   "source": [
    "import numpy as np  \n",
    "\n",
    "radius = 3\n",
    "print(\"The value of pi is\", np.pi)\n",
    "print(\"The area of the circle with a radius of\", radius, \"is\", np.pi*radius**2)\n",
    "print(\"The value of e is\",np.e)\n",
    "print(\"The value of ln(e) is\", np.log(np.e))\n",
    "print(\"The ln of 10 is\",np.log(10))\n",
    "print(\"The log of 10 is\",np.log10(10))\n",
    "print(\"e to the power of 3 is\", np.exp(3))\n",
    "print(\"The sine of pi radians is\", np.sin(np.pi),\". It should be zero, shouldn't it?\")\n",
    "print(\"The cosine of 45 degrees is\", np.cos(np.pi/4))   # we must always use radians\n",
    "print(\"If the cosine is 0.707, the angle is\", np.arccos(.707)/np.pi, \"radians\")\n",
    "print(\"That would be\", np.arccos(.707)/np.pi*180,\"degrees.\")\n"
   ]
  },
  {
   "cell_type": "markdown",
   "id": "ec984272",
   "metadata": {},
   "source": [
    "## Printing Numbers\n",
    "\n",
    "Observe the output above. Do we want all those decimal places. Do we want to use scienific notation? W can do this in output text by using a \"formatted string\" of \"f-string\". Observe the same code again below with the f-string approach applied. "
   ]
  },
  {
   "cell_type": "code",
   "execution_count": 65,
   "id": "11a53023",
   "metadata": {},
   "outputs": [
    {
     "name": "stdout",
     "output_type": "stream",
     "text": [
      "The value of pi is        3.1\n",
      "The area of the circle with a radius of 3 is 28.2743\n",
      "The value of e is 2.71828\n",
      "The value of ln(e) is 1.00000000000000000000\n",
      "The ln of 10 is 2.302585092994046\n",
      "The log of 10 is 1\n",
      "e to the power of 3 is 20.085536923187668\n",
      "The sine of pi radians is 1.22e-16. It should be zero, shouldn't it?\n",
      "The cosine of 45 degrees is 7.07107e-01\n",
      "If the cosine is 0.707, the angle is 0.250048 radians\n",
      "That would be XXXXXXX45.01XXXXXXXX degrees.\n"
     ]
    }
   ],
   "source": [
    "import numpy as np  \n",
    "\n",
    "radius = 3\n",
    "print(f\"The value of pi is {np.pi: 10.2n}\")                                                 # A general number within a minimum of 10 spaces with two digits \n",
    "print(f\"The area of the circle with a radius of {radius} is {np.pi*radius**2:.4f}\")         # A floating point number with four decimal places\n",
    "print(f\"The value of e is {np.e:.5f}\")                                                      # A floating point number with five decimal places\n",
    "print(f\"The value of ln(e) is {np.log(np.e):.20f}\")                                         # A floating point number with 20 decimal places\n",
    "print(f\"The ln of 10 is {np.log(10)}\")                                                      # A number in a string with no formatting applied\n",
    "print(f\"The log of 10 is {np.log10(10):.6n}\")\n",
    "print(f\"e to the power of 3 is {np.exp(3)}\")\n",
    "print(f\"The sine of pi radians is {np.sin(np.pi):.2e}. It should be zero, shouldn't it?\")   # an exponent value with two decimal places\n",
    "print(f\"The cosine of 45 degrees is {np.cos(np.pi/4):.5e}\")   # we must always use radians  # an exponent value with five decimal places\n",
    "print(f\"If the cosine is 0.707, the angle is {np.arccos(.707)/np.pi:n} radians\")            # default decimals in a number is five\n",
    "print(f\"That would be {np.arccos(.707)/np.pi*180:X^20.2f} degrees.\")                        # A floating point number with two decimal places. Centered in a field of 20 'X' characters"
   ]
  },
  {
   "cell_type": "markdown",
   "id": "b4cbf755",
   "metadata": {},
   "source": [
    "## Tale of the Tape\n",
    "One benefit of using an interactive *Python* notebook is that all your work remains there for you to examine. You will easily be able to **find and correct your error**. Just make the change in the existing code block and execute. Much like the old-fashioned paper tape machines, this calculator keeps a record of your work so you can check later.  \n",
    "## Summary\n",
    "We have learned how to perform **math operations** and used a math function from the ***NumPy*** library. We will see more examples of *NumPy* tools as we move forward. Don't worry, we won't need very many of them to handle chemistry."
   ]
  },
  {
   "cell_type": "code",
   "execution_count": null,
   "id": "da3c7296",
   "metadata": {},
   "outputs": [],
   "source": []
  }
 ],
 "metadata": {
  "kernelspec": {
   "display_name": "Python 3 (ipykernel)",
   "language": "python",
   "name": "python3"
  },
  "language_info": {
   "codemirror_mode": {
    "name": "ipython",
    "version": 3
   },
   "file_extension": ".py",
   "mimetype": "text/x-python",
   "name": "python",
   "nbconvert_exporter": "python",
   "pygments_lexer": "ipython3",
   "version": "3.11.4"
  },
  "vscode": {
   "interpreter": {
    "hash": "31f2aee4e71d21fbe5cf8b01ff0e069b9275f58929596ceb00d14d90e3e16cd6"
   }
  }
 },
 "nbformat": 4,
 "nbformat_minor": 5
}
