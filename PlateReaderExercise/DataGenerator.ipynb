{
 "cells": [
  {
   "cell_type": "code",
   "execution_count": 2,
   "metadata": {},
   "outputs": [],
   "source": [
    "import numpy as np\n",
    "import pandas as pd\n",
    "\n",
    "#!wget https://raw.githubusercontent.com/blinkletter/StealThisCode/main/BiochemToolbox.py\n",
    "#!pip install uncertainties  # to install 'Uncertainties' package in Colab. \n",
    "import BiochemToolbox as BT\n",
    "\n",
    "file_location = \"data1/\"\n",
    "data_dir = \"data/\"\n",
    "setup_dir = \"setup/\"\n",
    "\n",
    "### in data1/setup are files that match the plate plan files in data1/plateplans\n",
    "### the setup files have the Vmax and KM data that will be used to make\n",
    "### the fake experimental results\n",
    "\n",
    "for a in range(13):   \n",
    "    plate_name = \"Plate\"+f\"{str(a):0>2}\"\n",
    "    \n",
    "    setupdata = BT.make_plate_data_for_setup(file_location+setup_dir+plate_name+\"_setup.csv\")\n",
    "    BT.make_data_files_plates(setupdata, file_location+data_dir+plate_name, pH = 7.0)"
   ]
  },
  {
   "cell_type": "code",
   "execution_count": 4,
   "metadata": {},
   "outputs": [
    {
     "name": "stdout",
     "output_type": "stream",
     "text": [
      "Plot saved as plots/plot_contact_sheet_00.pdf\n",
      "Plot saved as plots/plot_contact_sheet_01.pdf\n",
      "Plot saved as plots/plot_contact_sheet_02.pdf\n",
      "Plot saved as plots/plot_contact_sheet_03.pdf\n",
      "Plot saved as plots/plot_contact_sheet_04.pdf\n",
      "Plot saved as plots/plot_contact_sheet_05.pdf\n",
      "Plot saved as plots/plot_contact_sheet_06.pdf\n",
      "Plot saved as plots/plot_contact_sheet_07.pdf\n",
      "Plot saved as plots/plot_contact_sheet_08.pdf\n",
      "Plot saved as plots/plot_contact_sheet_09.pdf\n",
      "Plot saved as plots/plot_contact_sheet_10.pdf\n",
      "Plot saved as plots/plot_contact_sheet_11.pdf\n",
      "Plot saved as plots/plot_contact_sheet_12.pdf\n"
     ]
    }
   ],
   "source": [
    "for a in range(13):\n",
    "    plate_name = \"Plate\"+f\"{str(a):0>2}\"\n",
    "    BT.contact_sheet(file_location+data_dir+plate_name, fancy = False)"
   ]
  },
  {
   "cell_type": "code",
   "execution_count": 23,
   "metadata": {},
   "outputs": [
    {
     "name": "stdout",
     "output_type": "stream",
     "text": [
      "       6FQ,\n",
      "       0GS,\n",
      "       LL5,\n",
      "       GMR,\n",
      "       K92,\n",
      "       SRI,\n",
      "       NYU,\n",
      "       KQX,\n",
      "       H5E,\n",
      "       RZ0,\n",
      "       1KV,\n"
     ]
    }
   ],
   "source": [
    "### generate random names for mutant enzymes.\n",
    "### Cut and paste the output as you build the setup files\n",
    "### for each plate\n",
    "\n",
    "import random\n",
    "import string\n",
    "\n",
    "for x in range(11):\n",
    "   random_string = ''.join(random.choices(string.ascii_uppercase + string.digits, k=3))\n",
    "   print(f\"{random_string: >10},\")   #print string within block of 10 spaces, right formatted\n",
    "\n"
   ]
  },
  {
   "cell_type": "code",
   "execution_count": 13,
   "metadata": {},
   "outputs": [
    {
     "name": "stdout",
     "output_type": "stream",
     "text": [
      "       225,      0.36\n",
      "        41,      0.35\n",
      "       127,      0.54\n",
      "       168,      0.15\n",
      "        64,      0.63\n",
      "       150,      0.75\n",
      "        52,      0.29\n",
      "       146,      0.80\n",
      "       120,      0.31\n",
      "        19,      0.47\n",
      "        51,      0.35\n"
     ]
    }
   ],
   "source": [
    "### generate random numbers for kcat and KM values.\n",
    "### Cut and paste the output as you build the setup files\n",
    "### for each plate\n",
    "\n",
    "import random\n",
    "\n",
    "for kcat in random.sample(range(15, 233), 11):\n",
    "    KM = random.uniform(0.01, 0.80)\n",
    "    print(f\"{kcat:10.0f},      {KM:0.2f}\")"
   ]
  },
  {
   "cell_type": "code",
   "execution_count": 13,
   "metadata": {},
   "outputs": [
    {
     "name": "stdout",
     "output_type": "stream",
     "text": [
      "00\n",
      "01\n",
      "02\n",
      "03\n",
      "04\n",
      "05\n",
      "06\n",
      "07\n",
      "08\n",
      "09\n",
      "10\n",
      "11\n",
      "12\n"
     ]
    }
   ],
   "source": [
    "for a in range(13):\n",
    "    print(f\"{str(a):0>2}\")"
   ]
  },
  {
   "cell_type": "markdown",
   "metadata": {},
   "source": [
    "\n"
   ]
  }
 ],
 "metadata": {
  "kernelspec": {
   "display_name": "main",
   "language": "python",
   "name": "python3"
  },
  "language_info": {
   "codemirror_mode": {
    "name": "ipython",
    "version": 3
   },
   "file_extension": ".py",
   "mimetype": "text/x-python",
   "name": "python",
   "nbconvert_exporter": "python",
   "pygments_lexer": "ipython3",
   "version": "3.12.2"
  }
 },
 "nbformat": 4,
 "nbformat_minor": 2
}
