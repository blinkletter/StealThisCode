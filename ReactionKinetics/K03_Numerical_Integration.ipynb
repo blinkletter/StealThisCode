{
 "cells": [
  {
   "cell_type": "markdown",
   "metadata": {},
   "source": [
    "# Numerical Integration\n",
    "\n",
    "Some rate laws are not easily integrated without very advanced mathematics. For example, below is the rate law for an enzyme catalyzed reaction (the famous Michaelis-Menten equation) and its analytical intergrated form...\n",
    "\n",
    "$$-\\frac{d[S]}{dt} = V_{max}\\frac{[S]}{K_M + [S]} $$\n",
    "\n",
    "$$-\\int_{[S]_0}^{[S]t}\\frac{K_M + [S]}{[S]}{d[S]} = \\int_{0}^{t}V_{max}dt   $$\n",
    "\n",
    "\n",
    "$$ [S]_t = K_M \\cdot {W}(\\frac{[S]_0}{K_M} e^{\\frac{-V_{max}t + [S]_0}{K_M}}) $$\n",
    "\n",
    "...where '$W$' is the Lambert function. The Lambert function is defined as a function satisfying $W(z)e^{W(z)} = z$"
   ]
  },
  {
   "cell_type": "code",
   "execution_count": null,
   "metadata": {},
   "outputs": [],
   "source": [
    "K_M * W(S_0 / K_M * np.exp(1 / K_M * (-v_max * t + S_0)))"
   ]
  }
 ],
 "metadata": {
  "language_info": {
   "name": "python"
  }
 },
 "nbformat": 4,
 "nbformat_minor": 2
}
