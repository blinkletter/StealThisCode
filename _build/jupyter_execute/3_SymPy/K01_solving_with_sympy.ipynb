{
 "cells": [
  {
   "cell_type": "markdown",
   "metadata": {},
   "source": [
    "# Free Symbolic Math\n",
    "\n",
    "In the integration document that I wrote a long time ago I used Maple to perform the integrations of various rate laws. When the going gets tough I turn to expensive software to get me through. Maple is free to students at UPEI but it costs thousands of dollars to rent after you graduate. Fortunately activists from around the world are building free tools that can accomplish much of the functions of symbolic math packages like Maple and Mathematica.\n",
    "\n",
    "## *SymPy* \n",
    "\n",
    "The *Python* package *SymPy* provides tools for performing symbolic math. It can solve for $x$. It can integrate and it can derive. It can do much more than that, but I will stick with what we need.\n",
    "\n",
    "## Symbolic Math\n",
    "\n",
    "*SymPy* can perform algebraic manipulations of expressions. Consider the code below and steal it if you find it useful."
   ]
  },
  {
   "cell_type": "code",
   "execution_count": 1,
   "metadata": {
    "tags": [
     "hide-input"
    ]
   },
   "outputs": [
    {
     "name": "stdout",
     "output_type": "stream",
     "text": [
      "eq. 1\n"
     ]
    },
    {
     "data": {
      "text/latex": [
       "$\\displaystyle 1 - x^{2}$"
      ],
      "text/plain": [
       "1 - x**2"
      ]
     },
     "metadata": {},
     "output_type": "display_data"
    }
   ],
   "source": [
    "import sympy as sym\n",
    "import numpy as np\n",
    "\n",
    "x = sym.symbols('x')    ### create x as a 'symbol', not a variable\n",
    "\n",
    "expr1 = (1 - x**2)\n",
    "\n",
    "print(\"eq. 1\")\n",
    "display(expr1)"
   ]
  },
  {
   "cell_type": "code",
   "execution_count": 2,
   "metadata": {
    "tags": [
     "hide-input"
    ]
   },
   "outputs": [
    {
     "name": "stdout",
     "output_type": "stream",
     "text": [
      "eq. 2\n"
     ]
    },
    {
     "data": {
      "text/latex": [
       "$\\displaystyle 1 - x$"
      ],
      "text/plain": [
       "1 - x"
      ]
     },
     "metadata": {},
     "output_type": "display_data"
    }
   ],
   "source": [
    "expr2 = 1 - x\n",
    "\n",
    "print(\"eq. 2\")\n",
    "display(expr2)"
   ]
  },
  {
   "cell_type": "code",
   "execution_count": 3,
   "metadata": {
    "tags": [
     "hide-input"
    ]
   },
   "outputs": [
    {
     "name": "stdout",
     "output_type": "stream",
     "text": [
      "factoring eq. 1\n"
     ]
    },
    {
     "data": {
      "text/latex": [
       "$\\displaystyle - \\left(x - 1\\right) \\left(x + 1\\right)$"
      ],
      "text/plain": [
       "-(x - 1)*(x + 1)"
      ]
     },
     "metadata": {},
     "output_type": "display_data"
    }
   ],
   "source": [
    "print(\"factoring eq. 1\")\n",
    "display(sym.factor(expr1))"
   ]
  },
  {
   "cell_type": "code",
   "execution_count": 4,
   "metadata": {
    "tags": [
     "hide-input"
    ]
   },
   "outputs": [
    {
     "name": "stdout",
     "output_type": "stream",
     "text": [
      "multiply eq. 1 by eq. 2\n"
     ]
    },
    {
     "data": {
      "text/latex": [
       "$\\displaystyle \\left(1 - x\\right) \\left(1 - x^{2}\\right)$"
      ],
      "text/plain": [
       "(1 - x)*(1 - x**2)"
      ]
     },
     "metadata": {},
     "output_type": "display_data"
    },
    {
     "data": {
      "text/latex": [
       "$\\displaystyle x^{3} - x^{2} - x + 1$"
      ],
      "text/plain": [
       "x**3 - x**2 - x + 1"
      ]
     },
     "metadata": {},
     "output_type": "display_data"
    }
   ],
   "source": [
    "print(\"multiply eq. 1 by eq. 2\")\n",
    "display(expr1*expr2)\n",
    "display(sym.expand(expr1*expr2))"
   ]
  },
  {
   "cell_type": "code",
   "execution_count": 5,
   "metadata": {
    "tags": [
     "hide-input"
    ]
   },
   "outputs": [
    {
     "name": "stdout",
     "output_type": "stream",
     "text": [
      "divide eq. 1 by eq. 2\n"
     ]
    },
    {
     "data": {
      "text/latex": [
       "$\\displaystyle \\frac{1 - x^{2}}{1 - x}$"
      ],
      "text/plain": [
       "(1 - x**2)/(1 - x)"
      ]
     },
     "metadata": {},
     "output_type": "display_data"
    },
    {
     "data": {
      "text/latex": [
       "$\\displaystyle - \\frac{x^{2}}{1 - x} + \\frac{1}{1 - x}$"
      ],
      "text/plain": [
       "-x**2/(1 - x) + 1/(1 - x)"
      ]
     },
     "metadata": {},
     "output_type": "display_data"
    },
    {
     "data": {
      "text/latex": [
       "$\\displaystyle x + 1$"
      ],
      "text/plain": [
       "x + 1"
      ]
     },
     "metadata": {},
     "output_type": "display_data"
    }
   ],
   "source": [
    "print(\"divide eq. 1 by eq. 2\")\n",
    "display(expr1/expr2)\n",
    "display(sym.expand(expr1/expr2))\n",
    "display(sym.simplify(sym.expand(expr1/expr2)))"
   ]
  },
  {
   "cell_type": "markdown",
   "metadata": {},
   "source": [
    "## An ICE table: Solve for $x$\n",
    "\n",
    "One simple use of *SymPy* is to solve for an unknown. Who needs the quadratic equation when you can solve for the roots of a polynomial directly using a symbolic math tool. Consider the classic ICE table problem for the dissociation of a weak acid like acetic acid.\n",
    "\n",
    "$$ \\rm AH \\stackrel{K_a}{\\rightleftharpoons} A + H $$\n",
    "\n",
    "The equilibrium constant, $K_a$, can be expressed as...\n",
    "\n",
    "$$ K_a = \\rm \\frac{[A][H]}{[AH]} $$\n",
    "\n",
    "...and the value of $K_a$ for acetic acid is known to be $10^{-4.75}$ \n",
    "\n",
    "We set up the ICE table as so...\n",
    "\n",
    "| Time        | $\\rm [AH]$  | $\\rm [A]$ |  $\\rm [H]$ |\n",
    "| :---        | :---:       | :---:     | :---:      |\n",
    "| Initial     |  $0.1$      |    $0$    |   $0$      |\n",
    "| Change      |  $-x$       |    $x$    |   $x$      |\n",
    "| End         |  $0.1 - x$  |    $x$    |   $x$      |\n",
    "\n",
    "Now we can substitute all the values that define the equilibrium endpoint (the \"E\" in \"ICE\").\n",
    "\n",
    "$$ 10^{-4.75} = \\frac{x\\cdot x}{0.1 - x} $$\n",
    "\n",
    "This can be rearranged to make a polynomial and then the roots solved using the infamous quadratic equation. Or... we could just solve it directly usin g the *SymPy* tools. Write the equation above to equate to zero and then solve.\n",
    "\n",
    "$$ 0 = \\frac{x^2}{0.1 - x} - 10^{-4.75} $$\n",
    "\n",
    "\n",
    "Steal the code below whenever you need to calculate an ICE table. You likely will need only to change the values at the beginning.\n"
   ]
  },
  {
   "cell_type": "code",
   "execution_count": 6,
   "metadata": {
    "tags": [
     "hide-input"
    ]
   },
   "outputs": [
    {
     "name": "stdout",
     "output_type": "stream",
     "text": [
      "The roots are: [-0.000142539633259631, 0.000124756839159242]\n",
      "\n",
      "The initial concentration of AH is: 1.00e-03\n",
      "The change in concentration (x) is: 1.25e-04\n",
      "\n",
      "The conc of AH at equilibrium is : 8.75e-04\n",
      "The conc of A at equilibrium is : 1.25e-04\n",
      "The conc of H at equilibrium is : 1.25e-04\n",
      "The final pH is : -3.90\n"
     ]
    }
   ],
   "source": [
    "import sympy as sym\n",
    "import numpy as np\n",
    "\n",
    "\n",
    "conc = 0.001    ### The initial concentration of acid. Conc is too small to use the x<<conc assumption\n",
    "pKa = 4.75      ### pKa value of then acid\n",
    "\n",
    "\n",
    "####################\n",
    "### Below is all the code for solving for x.  Everything else is setup or printing answers\n",
    "####################\n",
    "\n",
    "x = sym.symbols('x')                    ### create x as a 'symbol', not a variable\n",
    "expr = x**2 / (conc - x) - 10**(-pKa)   ### The equation to solve (an expression that equals zero)\n",
    "answer = sym.solve(expr,x)              ### solve for x (the expression must equal zero)\n",
    "\n",
    "print(f\"The roots are: {answer}\")       ### The roots. the correct answer is usually the lowest positive value\n",
    "print()\n",
    "\n",
    "####################\n",
    "### We are done. The roots have been calculated. Everything below is just to\n",
    "### print out the calculated values for the answers\n",
    "####################\n",
    "\n",
    "i = answer.index(min([i for i in answer if i > 0]))   ### find location (index) of lowest positive value\n",
    "change = answer[i]                                    ### The smallest positive root (hopefully the correct answer)\n",
    "change = float(change)                                ### Convert to regular floats, not weird SymPy floats\n",
    "\n",
    "print(f\"The initial concentration of AH is: {conc:0.2e}\")\n",
    "print(f\"The change in concentration (x) is: {change:0.2e}\")\n",
    "print()\n",
    "\n",
    "####################\n",
    "### calculate and print the final values for AH, A and H \n",
    "####################\n",
    "\n",
    "conc_AH_eq, conc_A_eq, conc_H_eq = [conc - change, change, change]      \n",
    "\n",
    "print(f\"The conc of AH at equilibrium is : {conc_AH_eq:0.2e}\")\n",
    "print(f\"The conc of A at equilibrium is : {conc_A_eq:0.2e}\")\n",
    "print(f\"The conc of H at equilibrium is : {conc_H_eq:0.2e}\")\n",
    "\n",
    "pH = np.log10(conc_H_eq)   \n",
    "print(f\"The final pH is : {pH:0.2f}\")\n"
   ]
  },
  {
   "cell_type": "markdown",
   "metadata": {},
   "source": [
    "### Creating *SymPy* Equations\n",
    "\n",
    "We don't necessarily need to rearrange the equation to obtain an expression that is zero. We could define an equation within *SymPy* and then ask it to solve that equation for $x$.  Consider the code below."
   ]
  },
  {
   "cell_type": "code",
   "execution_count": 7,
   "metadata": {
    "tags": [
     "hide-input"
    ]
   },
   "outputs": [
    {
     "data": {
      "text/latex": [
       "$\\displaystyle 1.77827941003892 \\cdot 10^{-5} = \\frac{x^{2}}{0.001 - x}$"
      ],
      "text/plain": [
       "Eq(1.77827941003892e-5, x**2/(0.001 - x))"
      ]
     },
     "metadata": {},
     "output_type": "display_data"
    },
    {
     "name": "stdout",
     "output_type": "stream",
     "text": [
      "The roots are: [-0.000142539633259631, 0.000124756839159242]\n",
      "\n"
     ]
    }
   ],
   "source": [
    "import sympy as sym\n",
    "import numpy as np\n",
    "\n",
    "\n",
    "conc = 0.001             ### The initial concentration of acid. Conc is too small to use the x<<conc assumption\n",
    "pKa = 4.75                ### pKa value of then acid\n",
    "\n",
    "\n",
    "####################\n",
    "### Below is all the code for solving for x.  Everything else is setup or printing answers\n",
    "####################\n",
    "\n",
    "x = sym.symbols('x')    ### create x as a 'symbol', not a variable\n",
    "\n",
    "lhs = 10**(-pKa)          ### The two sides of the equation\n",
    "rhs = x**2 / (conc - x)   \n",
    "\n",
    "eq = sym.Eq(lhs, rhs)       ### The equation to solve \n",
    "display(eq)               ### Display the equation\n",
    "\n",
    "answer = sym.solve(eq, x)  ### solve for x\n",
    "\n",
    "print(f\"The roots are: {answer}\")  ### The roots \n",
    "print()"
   ]
  },
  {
   "cell_type": "markdown",
   "metadata": {},
   "source": [
    "# Acid equilibrium: Another ICE Table in *Python*\n",
    "\n",
    "We often can determine the **final concentrations** of a system using the initial concentrations and the equilibrium constant, *K<sub>eq</sub>*. You will be familiar with the **ICE table** method, which helps us to set up the equations. Let us use the example of a weak acid.\n",
    "\n",
    "## Weak Acid Equilibrium\n",
    "\n",
    "When we **add** 0.1&nbsp;*g* of acetic acid to 100&nbsp;*mL* of pure water, what is the resulting *pH*? We can **solve** this problem with a pad of paper and a calculator or we can build a notebook that can be reused again and again. Consider the code below.\n",
    "\n",
    "### Start With the Facts\n",
    "First we define some **variables** and constants. If we want to reuse this notebook for another monoprotic **weak acid**, we could do so by changing only this section."
   ]
  },
  {
   "cell_type": "code",
   "execution_count": 8,
   "metadata": {},
   "outputs": [
    {
     "name": "stdout",
     "output_type": "stream",
     "text": [
      "Initial concentration of acid:\n",
      "0.18318 moles/L\n",
      "The Ka of the acid:\n",
      "1.78e-05\n"
     ]
    }
   ],
   "source": [
    "molar_mass_of_acid = 60.05 # in g/mol\n",
    "pKa = 4.75                 \n",
    "\n",
    "acid_mass = 1.1            # in g\n",
    "water_volume = 100         # in mL\n",
    "\n",
    "Ka = 10**(-pKa)\n",
    "\n",
    "moles = acid_mass / molar_mass_of_acid    # moles of acid\n",
    "volume = water_volume / 1000              # litres of water\n",
    "\n",
    "initial_conc = moles / volume\n",
    "\n",
    "print(\"Initial concentration of acid:\")\n",
    "print(round(initial_conc,5), \"moles/L\")\n",
    "\n",
    "print(\"The Ka of the acid:\")\n",
    "print(round(Ka,7))"
   ]
  },
  {
   "cell_type": "markdown",
   "metadata": {},
   "source": [
    "### Set Up the Equation\n",
    "We know the **equilibrium** expression for the acid dissociation...\n",
    "\n",
    "$$AcOH \\rightleftharpoons AcO^- + H^+$$  \n",
    "$$K_a = \\frac{[AcO^-][H^+]}{[AcOH]}$$\n",
    "\n",
    "The **initial** concentrations of acetic acid and the products could be described as...\n",
    "\n",
    "$$[AcOH]_0 = some value$$\n",
    "$$[AcO^-]\\:and\\:[H^+] = 0$$\n",
    "\n",
    "The **change** in the concentrations as the reaction moves forward is represented by the symbol *x*. We can say that the new concentrations will be...\n",
    "\n",
    "$$[AcOH]_{eq} = some value-x$$\n",
    "$$[AcO^-]_{eq}\\:and\\:[H^+]_{eq} = x$$\n",
    "\n",
    "Therefore the **equilibrium** will occure when the concentrations amount to the value of the equilibrium constant.\n",
    "\n",
    "$$K_a = \\frac{[AcO^-]_{eq}[H^+]_{eq}}{[AcOH]_{eq}}$$\n",
    "\n",
    "and so...\n",
    "\n",
    "$$K_a = \\frac{x \\cdot x}{some value-x}$$\n",
    "\n",
    "### Using SymPy\n",
    "\n",
    "We need to solve for *x*. *SymPy* will do all the hard work."
   ]
  },
  {
   "cell_type": "code",
   "execution_count": 9,
   "metadata": {},
   "outputs": [
    {
     "data": {
      "text/latex": [
       "$\\displaystyle \\frac{x^{2}}{0.183180682764363 - x} - 1.77827941003892 \\cdot 10^{-5}$"
      ],
      "text/plain": [
       "x**2/(0.183180682764363 - x) - 1.77827941003892e-5"
      ]
     },
     "metadata": {},
     "output_type": "display_data"
    }
   ],
   "source": [
    "import sympy\n",
    "\n",
    "x = sympy.symbols(\"x\")\n",
    "\n",
    "expr = x*x/(initial_conc-x) - Ka\n",
    "display(expr)"
   ]
  },
  {
   "cell_type": "code",
   "execution_count": 10,
   "metadata": {},
   "outputs": [
    {
     "name": "stdout",
     "output_type": "stream",
     "text": [
      "[-0.00181375799093155, 0.00179597519683116]\n"
     ]
    }
   ],
   "source": [
    "solution_list = sympy.solvers.solve(expr, x)  \n",
    "print(solution_list)"
   ]
  },
  {
   "cell_type": "markdown",
   "metadata": {},
   "source": [
    "### Pick a Number\n",
    "**Inspect** the solution. There are **two possibilities**. However it is impossible for the concentration of product to be negative in value. So we will choose the only possible answer."
   ]
  },
  {
   "cell_type": "code",
   "execution_count": 11,
   "metadata": {},
   "outputs": [
    {
     "name": "stdout",
     "output_type": "stream",
     "text": [
      "0.00179597519683116\n"
     ]
    }
   ],
   "source": [
    "change = solution_list[1]\n",
    "print(change)    "
   ]
  },
  {
   "cell_type": "markdown",
   "metadata": {},
   "source": [
    "### Produce the Result\n",
    "We can now **report** the results. "
   ]
  },
  {
   "cell_type": "code",
   "execution_count": 12,
   "metadata": {},
   "outputs": [
    {
     "name": "stdout",
     "output_type": "stream",
     "text": [
      "The initial concentration of acid is 0.18318068276436303\n",
      "--------------------\n",
      "At equilibrium we will have the following concentrations\n",
      "[Acid] = 0.181384707567532\n",
      "[hydronium] = 0.00179597519683116\n",
      "[Conj. base] = 0.00179597519683116\n",
      "--------------------\n",
      "pH = 2.745699665415787\n"
     ]
    }
   ],
   "source": [
    "import math\n",
    "\n",
    "print(\"The initial concentration of acid is\", initial_conc) \n",
    "print(\"-\"*20)\n",
    "print(\"At equilibrium we will have the following concentrations\")\n",
    "print(\"[Acid] =\", initial_conc - change)\n",
    "print(\"[hydronium] =\", change)\n",
    "print(\"[Conj. base] =\", change)\n",
    "print(\"-\"*20)\n",
    "\n",
    "pH = -math.log10(change)\n",
    "print(\"pH =\", pH)"
   ]
  },
  {
   "cell_type": "markdown",
   "metadata": {},
   "source": [
    "### Styling Printouts of Numbers\n",
    "\n",
    "You can decide how many **significant figures** to use when you write down the result above. But you can build it right into your print commands using the fstring method for *Python* text strings. Consider the following code. The \\{variable_name:.3\\} is the placeholder in the string where the fstring method will place a **formatted** value in the variable, the \":\" indicates that the number should not be padded with zeros and the \".3\" means 3 decimal places. The \"f\" after the decimal number means format as floating point; \"g\" means general format, \"e\" means exponentila format."
   ]
  },
  {
   "cell_type": "code",
   "execution_count": 13,
   "metadata": {},
   "outputs": [
    {
     "name": "stdout",
     "output_type": "stream",
     "text": [
      "The initial concentration of acid is 0.1832 M\n",
      "--------------------\n",
      "At equilibrium we will have the following concentrations\n",
      "[Acid] = 0.181 M\n",
      "[hydronium] = 1.796e-3 M\n",
      "[Conj. base] = 0.002 M\n",
      "--------------------\n",
      "pH = 2.75\n"
     ]
    }
   ],
   "source": [
    "import math\n",
    "\n",
    "print(f\"The initial concentration of acid is {initial_conc:.4f} M\")    # 4 sig figs\n",
    "print(\"-\"*20)\n",
    "print(\"At equilibrium we will have the following concentrations\")\n",
    "print(f\"[Acid] = {initial_conc - change:.3g} M\")   # floating point with 3 decimal places\n",
    "print(f\"[hydronium] = {change:.3e} M\")             # exponential format with 3 decimal places\n",
    "print(f\"[Conj. base] = {change:.3f} M\")\n",
    "print(\"-\"*20)\n",
    "\n",
    "pH = -math.log10(change)\n",
    "print(f\"pH = {pH:.3}\")"
   ]
  },
  {
   "cell_type": "markdown",
   "metadata": {},
   "source": []
  },
  {
   "cell_type": "markdown",
   "metadata": {},
   "source": [
    "## Summary\n",
    "\n",
    "We have used the symbolic tools of *SymPy* to make and to solve equations. We will never have to use the quadratic equation again. In addition, all our operations and calculations are documented in this notebook so that errors can be found and code can be taken and reused later.\n",
    "\n",
    "We can now **calculate** the *pH* of a solution of a weak acid given an amount of acid, the volume and the *pK<sub>a</sub>* value for the weak acid. We can **change** the values in the first block and then execute the notebook code to get to the final answer. We will never need to do math again (except on the test and final exam, so don't get too lazy)."
   ]
  }
 ],
 "metadata": {
  "kernelspec": {
   "display_name": "base",
   "language": "python",
   "name": "python3"
  },
  "language_info": {
   "codemirror_mode": {
    "name": "ipython",
    "version": 3
   },
   "file_extension": ".py",
   "mimetype": "text/x-python",
   "name": "python",
   "nbconvert_exporter": "python",
   "pygments_lexer": "ipython3",
   "version": "3.11.7"
  }
 },
 "nbformat": 4,
 "nbformat_minor": 2
}